{
  "cells": [
    {
      "cell_type": "markdown",
      "metadata": {
        "id": "bzBoK0XKzTJS"
      },
      "source": [
        "**Loading all necessary packages**"
      ]
    },
    {
      "cell_type": "code",
      "execution_count": 270,
      "metadata": {
        "id": "l_I3SdhzzTJY"
      },
      "outputs": [],
      "source": [
        "from pyforest import*\n",
        "from sklearn.utils import resample\n",
        "from sklearn.metrics import classification_report\n",
        "from sklearn.svm import SVC\n",
        "from sklearn.ensemble import RandomForestClassifier\n",
        "from sklearn.neighbors import KNeighborsClassifier\n",
        "from sklearn.tree import DecisionTreeClassifier\n",
        "from sklearn.ensemble import GradientBoostingClassifier\n",
        "from sklearn.ensemble import AdaBoostClassifier"
      ]
    },
    {
      "cell_type": "code",
      "execution_count": 109,
      "metadata": {
        "id": "Gh3UxfM4zTJb"
      },
      "outputs": [],
      "source": [
        "import warnings\n",
        "warnings.filterwarnings('ignore')"
      ]
    },
    {
      "cell_type": "markdown",
      "metadata": {
        "id": "dTSORpX6zTJc"
      },
      "source": [
        "## Loading the data, the first observation, and EDA"
      ]
    },
    {
      "cell_type": "code",
      "execution_count": 110,
      "metadata": {
        "colab": {
          "base_uri": "https://localhost:8080/",
          "height": 0
        },
        "id": "Y8BB68GrzTJd",
        "outputId": "3a087750-5794-480b-d02d-27972959d5aa"
      },
      "outputs": [
        {
          "output_type": "display_data",
          "data": {
            "application/javascript": [
              "\n",
              "        if (window._pyforest_update_imports_cell) { window._pyforest_update_imports_cell('from sklearn.model_selection import KFold\\nfrom sklearn.model_selection import cross_val_score\\nfrom statsmodels.tsa.arima_model import ARIMA\\nimport tqdm\\nfrom sklearn.model_selection import train_test_split\\nfrom sklearn import metrics\\nimport pandas as pd\\nimport keras\\nimport textblob\\nimport altair as alt\\nimport tensorflow as tf\\nimport seaborn as sns\\nimport numpy as np\\nfrom sklearn.linear_model import LogisticRegression\\nimport torch\\nimport bokeh\\nimport cv2\\nimport matplotlib.pyplot as plt\\nfrom sklearn.preprocessing import StandardScaler\\nfrom sklearn.feature_extraction.text import CountVectorizer\\nfrom sklearn.preprocessing import LabelEncoder'); }\n",
              "    "
            ],
            "text/plain": [
              "<IPython.core.display.Javascript object>"
            ]
          },
          "metadata": {}
        }
      ],
      "source": [
        "df=pd.read_csv('bank-full+(1).csv')"
      ]
    },
    {
      "cell_type": "code",
      "execution_count": 111,
      "metadata": {
        "colab": {
          "base_uri": "https://localhost:8080/"
        },
        "id": "wuzFvvRzzTJg",
        "outputId": "f56b14c5-d206-4f6e-e957-4d8ec733da52"
      },
      "outputs": [
        {
          "output_type": "execute_result",
          "data": {
            "text/plain": [
              "(45211, 17)"
            ]
          },
          "metadata": {},
          "execution_count": 111
        }
      ],
      "source": [
        "df.shape"
      ]
    },
    {
      "cell_type": "code",
      "execution_count": 112,
      "metadata": {
        "colab": {
          "base_uri": "https://localhost:8080/",
          "height": 0
        },
        "id": "J4cF2uYZzTJh",
        "outputId": "f7afc63b-a702-4c52-e749-19c441c2f984"
      },
      "outputs": [
        {
          "output_type": "execute_result",
          "data": {
            "text/html": [
              "<div>\n",
              "<style scoped>\n",
              "    .dataframe tbody tr th:only-of-type {\n",
              "        vertical-align: middle;\n",
              "    }\n",
              "\n",
              "    .dataframe tbody tr th {\n",
              "        vertical-align: top;\n",
              "    }\n",
              "\n",
              "    .dataframe thead th {\n",
              "        text-align: right;\n",
              "    }\n",
              "</style>\n",
              "<table border=\"1\" class=\"dataframe\">\n",
              "  <thead>\n",
              "    <tr style=\"text-align: right;\">\n",
              "      <th></th>\n",
              "      <th>age</th>\n",
              "      <th>job</th>\n",
              "      <th>marital</th>\n",
              "      <th>education</th>\n",
              "      <th>default</th>\n",
              "      <th>balance</th>\n",
              "      <th>housing</th>\n",
              "      <th>loan</th>\n",
              "      <th>contact</th>\n",
              "      <th>day</th>\n",
              "      <th>month</th>\n",
              "      <th>duration</th>\n",
              "      <th>campaign</th>\n",
              "      <th>pdays</th>\n",
              "      <th>previous</th>\n",
              "      <th>poutcome</th>\n",
              "      <th>Target</th>\n",
              "    </tr>\n",
              "  </thead>\n",
              "  <tbody>\n",
              "    <tr>\n",
              "      <th>0</th>\n",
              "      <td>58</td>\n",
              "      <td>management</td>\n",
              "      <td>married</td>\n",
              "      <td>tertiary</td>\n",
              "      <td>no</td>\n",
              "      <td>2143</td>\n",
              "      <td>yes</td>\n",
              "      <td>no</td>\n",
              "      <td>unknown</td>\n",
              "      <td>5</td>\n",
              "      <td>may</td>\n",
              "      <td>261</td>\n",
              "      <td>1</td>\n",
              "      <td>-1</td>\n",
              "      <td>0</td>\n",
              "      <td>unknown</td>\n",
              "      <td>no</td>\n",
              "    </tr>\n",
              "    <tr>\n",
              "      <th>1</th>\n",
              "      <td>44</td>\n",
              "      <td>technician</td>\n",
              "      <td>single</td>\n",
              "      <td>secondary</td>\n",
              "      <td>no</td>\n",
              "      <td>29</td>\n",
              "      <td>yes</td>\n",
              "      <td>no</td>\n",
              "      <td>unknown</td>\n",
              "      <td>5</td>\n",
              "      <td>may</td>\n",
              "      <td>151</td>\n",
              "      <td>1</td>\n",
              "      <td>-1</td>\n",
              "      <td>0</td>\n",
              "      <td>unknown</td>\n",
              "      <td>no</td>\n",
              "    </tr>\n",
              "    <tr>\n",
              "      <th>2</th>\n",
              "      <td>33</td>\n",
              "      <td>entrepreneur</td>\n",
              "      <td>married</td>\n",
              "      <td>secondary</td>\n",
              "      <td>no</td>\n",
              "      <td>2</td>\n",
              "      <td>yes</td>\n",
              "      <td>yes</td>\n",
              "      <td>unknown</td>\n",
              "      <td>5</td>\n",
              "      <td>may</td>\n",
              "      <td>76</td>\n",
              "      <td>1</td>\n",
              "      <td>-1</td>\n",
              "      <td>0</td>\n",
              "      <td>unknown</td>\n",
              "      <td>no</td>\n",
              "    </tr>\n",
              "    <tr>\n",
              "      <th>3</th>\n",
              "      <td>47</td>\n",
              "      <td>blue-collar</td>\n",
              "      <td>married</td>\n",
              "      <td>unknown</td>\n",
              "      <td>no</td>\n",
              "      <td>1506</td>\n",
              "      <td>yes</td>\n",
              "      <td>no</td>\n",
              "      <td>unknown</td>\n",
              "      <td>5</td>\n",
              "      <td>may</td>\n",
              "      <td>92</td>\n",
              "      <td>1</td>\n",
              "      <td>-1</td>\n",
              "      <td>0</td>\n",
              "      <td>unknown</td>\n",
              "      <td>no</td>\n",
              "    </tr>\n",
              "    <tr>\n",
              "      <th>4</th>\n",
              "      <td>33</td>\n",
              "      <td>unknown</td>\n",
              "      <td>single</td>\n",
              "      <td>unknown</td>\n",
              "      <td>no</td>\n",
              "      <td>1</td>\n",
              "      <td>no</td>\n",
              "      <td>no</td>\n",
              "      <td>unknown</td>\n",
              "      <td>5</td>\n",
              "      <td>may</td>\n",
              "      <td>198</td>\n",
              "      <td>1</td>\n",
              "      <td>-1</td>\n",
              "      <td>0</td>\n",
              "      <td>unknown</td>\n",
              "      <td>no</td>\n",
              "    </tr>\n",
              "  </tbody>\n",
              "</table>\n",
              "</div>"
            ],
            "text/plain": [
              "   age           job  marital  education  ... pdays  previous poutcome Target\n",
              "0   58    management  married   tertiary  ...    -1         0  unknown     no\n",
              "1   44    technician   single  secondary  ...    -1         0  unknown     no\n",
              "2   33  entrepreneur  married  secondary  ...    -1         0  unknown     no\n",
              "3   47   blue-collar  married    unknown  ...    -1         0  unknown     no\n",
              "4   33       unknown   single    unknown  ...    -1         0  unknown     no\n",
              "\n",
              "[5 rows x 17 columns]"
            ]
          },
          "metadata": {},
          "execution_count": 112
        }
      ],
      "source": [
        "df.head()"
      ]
    },
    {
      "cell_type": "code",
      "execution_count": 113,
      "metadata": {
        "colab": {
          "base_uri": "https://localhost:8080/"
        },
        "id": "jNB13Z1xzTJi",
        "outputId": "34fa0bb6-0300-43db-fba0-573883c2419d"
      },
      "outputs": [
        {
          "output_type": "execute_result",
          "data": {
            "text/plain": [
              "age           int64\n",
              "job          object\n",
              "marital      object\n",
              "education    object\n",
              "default      object\n",
              "balance       int64\n",
              "housing      object\n",
              "loan         object\n",
              "contact      object\n",
              "day           int64\n",
              "month        object\n",
              "duration      int64\n",
              "campaign      int64\n",
              "pdays         int64\n",
              "previous      int64\n",
              "poutcome     object\n",
              "Target       object\n",
              "dtype: object"
            ]
          },
          "metadata": {},
          "execution_count": 113
        }
      ],
      "source": [
        "#The data type of each attribute\n",
        "df.dtypes"
      ]
    },
    {
      "cell_type": "code",
      "execution_count": 114,
      "metadata": {
        "colab": {
          "base_uri": "https://localhost:8080/"
        },
        "id": "j8sTyPdFzTJj",
        "outputId": "cb87c52b-6ffd-42eb-fa19-4d0da565e1c5"
      },
      "outputs": [
        {
          "output_type": "execute_result",
          "data": {
            "text/plain": [
              "age          0\n",
              "job          0\n",
              "marital      0\n",
              "education    0\n",
              "default      0\n",
              "balance      0\n",
              "housing      0\n",
              "loan         0\n",
              "contact      0\n",
              "day          0\n",
              "month        0\n",
              "duration     0\n",
              "campaign     0\n",
              "pdays        0\n",
              "previous     0\n",
              "poutcome     0\n",
              "Target       0\n",
              "dtype: int64"
            ]
          },
          "metadata": {},
          "execution_count": 114
        }
      ],
      "source": [
        "#Checking the presence of missing values\n",
        "df.isna().sum()"
      ]
    },
    {
      "cell_type": "code",
      "execution_count": 115,
      "metadata": {
        "colab": {
          "base_uri": "https://localhost:8080/",
          "height": 0
        },
        "id": "h-GmHWzCzTJl",
        "outputId": "d7dde855-683f-479d-b281-db223ea4159f"
      },
      "outputs": [
        {
          "output_type": "execute_result",
          "data": {
            "text/html": [
              "<div>\n",
              "<style scoped>\n",
              "    .dataframe tbody tr th:only-of-type {\n",
              "        vertical-align: middle;\n",
              "    }\n",
              "\n",
              "    .dataframe tbody tr th {\n",
              "        vertical-align: top;\n",
              "    }\n",
              "\n",
              "    .dataframe thead th {\n",
              "        text-align: right;\n",
              "    }\n",
              "</style>\n",
              "<table border=\"1\" class=\"dataframe\">\n",
              "  <thead>\n",
              "    <tr style=\"text-align: right;\">\n",
              "      <th></th>\n",
              "      <th>count</th>\n",
              "      <th>mean</th>\n",
              "      <th>std</th>\n",
              "      <th>min</th>\n",
              "      <th>25%</th>\n",
              "      <th>50%</th>\n",
              "      <th>75%</th>\n",
              "      <th>max</th>\n",
              "    </tr>\n",
              "  </thead>\n",
              "  <tbody>\n",
              "    <tr>\n",
              "      <th>age</th>\n",
              "      <td>45211.0</td>\n",
              "      <td>40.936210</td>\n",
              "      <td>10.618762</td>\n",
              "      <td>18.0</td>\n",
              "      <td>33.0</td>\n",
              "      <td>39.0</td>\n",
              "      <td>48.0</td>\n",
              "      <td>95.0</td>\n",
              "    </tr>\n",
              "    <tr>\n",
              "      <th>balance</th>\n",
              "      <td>45211.0</td>\n",
              "      <td>1362.272058</td>\n",
              "      <td>3044.765829</td>\n",
              "      <td>-8019.0</td>\n",
              "      <td>72.0</td>\n",
              "      <td>448.0</td>\n",
              "      <td>1428.0</td>\n",
              "      <td>102127.0</td>\n",
              "    </tr>\n",
              "    <tr>\n",
              "      <th>day</th>\n",
              "      <td>45211.0</td>\n",
              "      <td>15.806419</td>\n",
              "      <td>8.322476</td>\n",
              "      <td>1.0</td>\n",
              "      <td>8.0</td>\n",
              "      <td>16.0</td>\n",
              "      <td>21.0</td>\n",
              "      <td>31.0</td>\n",
              "    </tr>\n",
              "    <tr>\n",
              "      <th>duration</th>\n",
              "      <td>45211.0</td>\n",
              "      <td>258.163080</td>\n",
              "      <td>257.527812</td>\n",
              "      <td>0.0</td>\n",
              "      <td>103.0</td>\n",
              "      <td>180.0</td>\n",
              "      <td>319.0</td>\n",
              "      <td>4918.0</td>\n",
              "    </tr>\n",
              "    <tr>\n",
              "      <th>campaign</th>\n",
              "      <td>45211.0</td>\n",
              "      <td>2.763841</td>\n",
              "      <td>3.098021</td>\n",
              "      <td>1.0</td>\n",
              "      <td>1.0</td>\n",
              "      <td>2.0</td>\n",
              "      <td>3.0</td>\n",
              "      <td>63.0</td>\n",
              "    </tr>\n",
              "    <tr>\n",
              "      <th>pdays</th>\n",
              "      <td>45211.0</td>\n",
              "      <td>40.197828</td>\n",
              "      <td>100.128746</td>\n",
              "      <td>-1.0</td>\n",
              "      <td>-1.0</td>\n",
              "      <td>-1.0</td>\n",
              "      <td>-1.0</td>\n",
              "      <td>871.0</td>\n",
              "    </tr>\n",
              "    <tr>\n",
              "      <th>previous</th>\n",
              "      <td>45211.0</td>\n",
              "      <td>0.580323</td>\n",
              "      <td>2.303441</td>\n",
              "      <td>0.0</td>\n",
              "      <td>0.0</td>\n",
              "      <td>0.0</td>\n",
              "      <td>0.0</td>\n",
              "      <td>275.0</td>\n",
              "    </tr>\n",
              "  </tbody>\n",
              "</table>\n",
              "</div>"
            ],
            "text/plain": [
              "            count         mean          std  ...    50%     75%       max\n",
              "age       45211.0    40.936210    10.618762  ...   39.0    48.0      95.0\n",
              "balance   45211.0  1362.272058  3044.765829  ...  448.0  1428.0  102127.0\n",
              "day       45211.0    15.806419     8.322476  ...   16.0    21.0      31.0\n",
              "duration  45211.0   258.163080   257.527812  ...  180.0   319.0    4918.0\n",
              "campaign  45211.0     2.763841     3.098021  ...    2.0     3.0      63.0\n",
              "pdays     45211.0    40.197828   100.128746  ...   -1.0    -1.0     871.0\n",
              "previous  45211.0     0.580323     2.303441  ...    0.0     0.0     275.0\n",
              "\n",
              "[7 rows x 8 columns]"
            ]
          },
          "metadata": {},
          "execution_count": 115
        }
      ],
      "source": [
        "#Point summary of numerical attributes\n",
        "df.describe().T"
      ]
    },
    {
      "cell_type": "code",
      "execution_count": 116,
      "metadata": {
        "colab": {
          "base_uri": "https://localhost:8080/",
          "height": 0
        },
        "id": "AzWa-zLfzTJm",
        "outputId": "3cb48c6a-4a53-4cc5-9e64-a458dc888878"
      },
      "outputs": [
        {
          "output_type": "display_data",
          "data": {
            "application/javascript": [
              "\n",
              "        if (window._pyforest_update_imports_cell) { window._pyforest_update_imports_cell('from sklearn.model_selection import KFold\\nfrom sklearn.model_selection import cross_val_score\\nfrom statsmodels.tsa.arima_model import ARIMA\\nimport tqdm\\nfrom sklearn.model_selection import train_test_split\\nfrom sklearn import metrics\\nimport pandas as pd\\nimport keras\\nimport textblob\\nimport altair as alt\\nimport tensorflow as tf\\nimport seaborn as sns\\nimport numpy as np\\nfrom sklearn.linear_model import LogisticRegression\\nimport torch\\nimport bokeh\\nimport cv2\\nimport matplotlib.pyplot as plt\\nfrom sklearn.preprocessing import StandardScaler\\nfrom sklearn.feature_extraction.text import CountVectorizer\\nfrom sklearn.preprocessing import LabelEncoder'); }\n",
              "    "
            ],
            "text/plain": [
              "<IPython.core.display.Javascript object>"
            ]
          },
          "metadata": {}
        },
        {
          "output_type": "display_data",
          "data": {
            "application/javascript": [
              "\n",
              "        if (window._pyforest_update_imports_cell) { window._pyforest_update_imports_cell('from sklearn.model_selection import KFold\\nfrom sklearn.model_selection import cross_val_score\\nfrom statsmodels.tsa.arima_model import ARIMA\\nimport tqdm\\nfrom sklearn.model_selection import train_test_split\\nfrom sklearn import metrics\\nimport pandas as pd\\nimport keras\\nimport textblob\\nimport altair as alt\\nimport tensorflow as tf\\nimport seaborn as sns\\nimport numpy as np\\nfrom sklearn.linear_model import LogisticRegression\\nimport torch\\nimport bokeh\\nimport cv2\\nimport matplotlib.pyplot as plt\\nfrom sklearn.preprocessing import StandardScaler\\nfrom sklearn.feature_extraction.text import CountVectorizer\\nfrom sklearn.preprocessing import LabelEncoder'); }\n",
              "    "
            ],
            "text/plain": [
              "<IPython.core.display.Javascript object>"
            ]
          },
          "metadata": {}
        },
        {
          "output_type": "display_data",
          "data": {
            "image/png": "[encoded data removed]",
            "text/plain": [
              "<Figure size 432x288 with 1 Axes>"
            ]
          },
          "metadata": {
            "needs_background": "light"
          }
        },
        {
          "output_type": "display_data",
          "data": {
            "application/javascript": [
              "\n",
              "        if (window._pyforest_update_imports_cell) { window._pyforest_update_imports_cell('from sklearn.model_selection import KFold\\nfrom sklearn.model_selection import cross_val_score\\nfrom statsmodels.tsa.arima_model import ARIMA\\nimport tqdm\\nfrom sklearn.model_selection import train_test_split\\nfrom sklearn import metrics\\nimport pandas as pd\\nimport keras\\nimport textblob\\nimport altair as alt\\nimport tensorflow as tf\\nimport seaborn as sns\\nimport numpy as np\\nfrom sklearn.linear_model import LogisticRegression\\nimport torch\\nimport bokeh\\nimport cv2\\nimport matplotlib.pyplot as plt\\nfrom sklearn.preprocessing import StandardScaler\\nfrom sklearn.feature_extraction.text import CountVectorizer\\nfrom sklearn.preprocessing import LabelEncoder'); }\n",
              "    "
            ],
            "text/plain": [
              "<IPython.core.display.Javascript object>"
            ]
          },
          "metadata": {}
        },
        {
          "output_type": "display_data",
          "data": {
            "application/javascript": [
              "\n",
              "        if (window._pyforest_update_imports_cell) { window._pyforest_update_imports_cell('from sklearn.model_selection import KFold\\nfrom sklearn.model_selection import cross_val_score\\nfrom statsmodels.tsa.arima_model import ARIMA\\nimport tqdm\\nfrom sklearn.model_selection import train_test_split\\nfrom sklearn import metrics\\nimport pandas as pd\\nimport keras\\nimport textblob\\nimport altair as alt\\nimport tensorflow as tf\\nimport seaborn as sns\\nimport numpy as np\\nfrom sklearn.linear_model import LogisticRegression\\nimport torch\\nimport bokeh\\nimport cv2\\nimport matplotlib.pyplot as plt\\nfrom sklearn.preprocessing import StandardScaler\\nfrom sklearn.feature_extraction.text import CountVectorizer\\nfrom sklearn.preprocessing import LabelEncoder'); }\n",
              "    "
            ],
            "text/plain": [
              "<IPython.core.display.Javascript object>"
            ]
          },
          "metadata": {}
        },
        {
          "output_type": "display_data",
          "data": {
            "image/png": "[encoded data removed]",
            "text/plain": [
              "<Figure size 432x288 with 1 Axes>"
            ]
          },
          "metadata": {
            "needs_background": "light"
          }
        },
        {
          "output_type": "display_data",
          "data": {
            "application/javascript": [
              "\n",
              "        if (window._pyforest_update_imports_cell) { window._pyforest_update_imports_cell('from sklearn.model_selection import KFold\\nfrom sklearn.model_selection import cross_val_score\\nfrom statsmodels.tsa.arima_model import ARIMA\\nimport tqdm\\nfrom sklearn.model_selection import train_test_split\\nfrom sklearn import metrics\\nimport pandas as pd\\nimport keras\\nimport textblob\\nimport altair as alt\\nimport tensorflow as tf\\nimport seaborn as sns\\nimport numpy as np\\nfrom sklearn.linear_model import LogisticRegression\\nimport torch\\nimport bokeh\\nimport cv2\\nimport matplotlib.pyplot as plt\\nfrom sklearn.preprocessing import StandardScaler\\nfrom sklearn.feature_extraction.text import CountVectorizer\\nfrom sklearn.preprocessing import LabelEncoder'); }\n",
              "    "
            ],
            "text/plain": [
              "<IPython.core.display.Javascript object>"
            ]
          },
          "metadata": {}
        },
        {
          "output_type": "display_data",
          "data": {
            "application/javascript": [
              "\n",
              "        if (window._pyforest_update_imports_cell) { window._pyforest_update_imports_cell('from sklearn.model_selection import KFold\\nfrom sklearn.model_selection import cross_val_score\\nfrom statsmodels.tsa.arima_model import ARIMA\\nimport tqdm\\nfrom sklearn.model_selection import train_test_split\\nfrom sklearn import metrics\\nimport pandas as pd\\nimport keras\\nimport textblob\\nimport altair as alt\\nimport tensorflow as tf\\nimport seaborn as sns\\nimport numpy as np\\nfrom sklearn.linear_model import LogisticRegression\\nimport torch\\nimport bokeh\\nimport cv2\\nimport matplotlib.pyplot as plt\\nfrom sklearn.preprocessing import StandardScaler\\nfrom sklearn.feature_extraction.text import CountVectorizer\\nfrom sklearn.preprocessing import LabelEncoder'); }\n",
              "    "
            ],
            "text/plain": [
              "<IPython.core.display.Javascript object>"
            ]
          },
          "metadata": {}
        },
        {
          "output_type": "display_data",
          "data": {
            "image/png": "[encoded data removed]",
            "text/plain": [
              "<Figure size 432x288 with 1 Axes>"
            ]
          },
          "metadata": {
            "needs_background": "light"
          }
        },
        {
          "output_type": "display_data",
          "data": {
            "application/javascript": [
              "\n",
              "        if (window._pyforest_update_imports_cell) { window._pyforest_update_imports_cell('from sklearn.model_selection import KFold\\nfrom sklearn.model_selection import cross_val_score\\nfrom statsmodels.tsa.arima_model import ARIMA\\nimport tqdm\\nfrom sklearn.model_selection import train_test_split\\nfrom sklearn import metrics\\nimport pandas as pd\\nimport keras\\nimport textblob\\nimport altair as alt\\nimport tensorflow as tf\\nimport seaborn as sns\\nimport numpy as np\\nfrom sklearn.linear_model import LogisticRegression\\nimport torch\\nimport bokeh\\nimport cv2\\nimport matplotlib.pyplot as plt\\nfrom sklearn.preprocessing import StandardScaler\\nfrom sklearn.feature_extraction.text import CountVectorizer\\nfrom sklearn.preprocessing import LabelEncoder'); }\n",
              "    "
            ],
            "text/plain": [
              "<IPython.core.display.Javascript object>"
            ]
          },
          "metadata": {}
        },
        {
          "output_type": "display_data",
          "data": {
            "application/javascript": [
              "\n",
              "        if (window._pyforest_update_imports_cell) { window._pyforest_update_imports_cell('from sklearn.model_selection import KFold\\nfrom sklearn.model_selection import cross_val_score\\nfrom statsmodels.tsa.arima_model import ARIMA\\nimport tqdm\\nfrom sklearn.model_selection import train_test_split\\nfrom sklearn import metrics\\nimport pandas as pd\\nimport keras\\nimport textblob\\nimport altair as alt\\nimport tensorflow as tf\\nimport seaborn as sns\\nimport numpy as np\\nfrom sklearn.linear_model import LogisticRegression\\nimport torch\\nimport bokeh\\nimport cv2\\nimport matplotlib.pyplot as plt\\nfrom sklearn.preprocessing import StandardScaler\\nfrom sklearn.feature_extraction.text import CountVectorizer\\nfrom sklearn.preprocessing import LabelEncoder'); }\n",
              "    "
            ],
            "text/plain": [
              "<IPython.core.display.Javascript object>"
            ]
          },
          "metadata": {}
        },
        {
          "output_type": "display_data",
          "data": {
            "image/png": "[encoded data removed]",
            "text/plain": [
              "<Figure size 432x288 with 1 Axes>"
            ]
          },
          "metadata": {
            "needs_background": "light"
          }
        },
        {
          "output_type": "display_data",
          "data": {
            "application/javascript": [
              "\n",
              "        if (window._pyforest_update_imports_cell) { window._pyforest_update_imports_cell('from sklearn.model_selection import KFold\\nfrom sklearn.model_selection import cross_val_score\\nfrom statsmodels.tsa.arima_model import ARIMA\\nimport tqdm\\nfrom sklearn.model_selection import train_test_split\\nfrom sklearn import metrics\\nimport pandas as pd\\nimport keras\\nimport textblob\\nimport altair as alt\\nimport tensorflow as tf\\nimport seaborn as sns\\nimport numpy as np\\nfrom sklearn.linear_model import LogisticRegression\\nimport torch\\nimport bokeh\\nimport cv2\\nimport matplotlib.pyplot as plt\\nfrom sklearn.preprocessing import StandardScaler\\nfrom sklearn.feature_extraction.text import CountVectorizer\\nfrom sklearn.preprocessing import LabelEncoder'); }\n",
              "    "
            ],
            "text/plain": [
              "<IPython.core.display.Javascript object>"
            ]
          },
          "metadata": {}
        },
        {
          "output_type": "display_data",
          "data": {
            "application/javascript": [
              "\n",
              "        if (window._pyforest_update_imports_cell) { window._pyforest_update_imports_cell('from sklearn.model_selection import KFold\\nfrom sklearn.model_selection import cross_val_score\\nfrom statsmodels.tsa.arima_model import ARIMA\\nimport tqdm\\nfrom sklearn.model_selection import train_test_split\\nfrom sklearn import metrics\\nimport pandas as pd\\nimport keras\\nimport textblob\\nimport altair as alt\\nimport tensorflow as tf\\nimport seaborn as sns\\nimport numpy as np\\nfrom sklearn.linear_model import LogisticRegression\\nimport torch\\nimport bokeh\\nimport cv2\\nimport matplotlib.pyplot as plt\\nfrom sklearn.preprocessing import StandardScaler\\nfrom sklearn.feature_extraction.text import CountVectorizer\\nfrom sklearn.preprocessing import LabelEncoder'); }\n",
              "    "
            ],
            "text/plain": [
              "<IPython.core.display.Javascript object>"
            ]
          },
          "metadata": {}
        },
        {
          "output_type": "display_data",
          "data": {
            "image/png": "[encoded data removed]",
            "text/plain": [
              "<Figure size 432x288 with 1 Axes>"
            ]
          },
          "metadata": {
            "needs_background": "light"
          }
        },
        {
          "output_type": "display_data",
          "data": {
            "application/javascript": [
              "\n",
              "        if (window._pyforest_update_imports_cell) { window._pyforest_update_imports_cell('from sklearn.model_selection import KFold\\nfrom sklearn.model_selection import cross_val_score\\nfrom statsmodels.tsa.arima_model import ARIMA\\nimport tqdm\\nfrom sklearn.model_selection import train_test_split\\nfrom sklearn import metrics\\nimport pandas as pd\\nimport keras\\nimport textblob\\nimport altair as alt\\nimport tensorflow as tf\\nimport seaborn as sns\\nimport numpy as np\\nfrom sklearn.linear_model import LogisticRegression\\nimport torch\\nimport bokeh\\nimport cv2\\nimport matplotlib.pyplot as plt\\nfrom sklearn.preprocessing import StandardScaler\\nfrom sklearn.feature_extraction.text import CountVectorizer\\nfrom sklearn.preprocessing import LabelEncoder'); }\n",
              "    "
            ],
            "text/plain": [
              "<IPython.core.display.Javascript object>"
            ]
          },
          "metadata": {}
        },
        {
          "output_type": "display_data",
          "data": {
            "application/javascript": [
              "\n",
              "        if (window._pyforest_update_imports_cell) { window._pyforest_update_imports_cell('from sklearn.model_selection import KFold\\nfrom sklearn.model_selection import cross_val_score\\nfrom statsmodels.tsa.arima_model import ARIMA\\nimport tqdm\\nfrom sklearn.model_selection import train_test_split\\nfrom sklearn import metrics\\nimport pandas as pd\\nimport keras\\nimport textblob\\nimport altair as alt\\nimport tensorflow as tf\\nimport seaborn as sns\\nimport numpy as np\\nfrom sklearn.linear_model import LogisticRegression\\nimport torch\\nimport bokeh\\nimport cv2\\nimport matplotlib.pyplot as plt\\nfrom sklearn.preprocessing import StandardScaler\\nfrom sklearn.feature_extraction.text import CountVectorizer\\nfrom sklearn.preprocessing import LabelEncoder'); }\n",
              "    "
            ],
            "text/plain": [
              "<IPython.core.display.Javascript object>"
            ]
          },
          "metadata": {}
        },
        {
          "output_type": "display_data",
          "data": {
            "image/png": "[encoded data removed]",
            "text/plain": [
              "<Figure size 432x288 with 1 Axes>"
            ]
          },
          "metadata": {
            "needs_background": "light"
          }
        },
        {
          "output_type": "display_data",
          "data": {
            "application/javascript": [
              "\n",
              "        if (window._pyforest_update_imports_cell) { window._pyforest_update_imports_cell('from sklearn.model_selection import KFold\\nfrom sklearn.model_selection import cross_val_score\\nfrom statsmodels.tsa.arima_model import ARIMA\\nimport tqdm\\nfrom sklearn.model_selection import train_test_split\\nfrom sklearn import metrics\\nimport pandas as pd\\nimport keras\\nimport textblob\\nimport altair as alt\\nimport tensorflow as tf\\nimport seaborn as sns\\nimport numpy as np\\nfrom sklearn.linear_model import LogisticRegression\\nimport torch\\nimport bokeh\\nimport cv2\\nimport matplotlib.pyplot as plt\\nfrom sklearn.preprocessing import StandardScaler\\nfrom sklearn.feature_extraction.text import CountVectorizer\\nfrom sklearn.preprocessing import LabelEncoder'); }\n",
              "    "
            ],
            "text/plain": [
              "<IPython.core.display.Javascript object>"
            ]
          },
          "metadata": {}
        },
        {
          "output_type": "display_data",
          "data": {
            "application/javascript": [
              "\n",
              "        if (window._pyforest_update_imports_cell) { window._pyforest_update_imports_cell('from sklearn.model_selection import KFold\\nfrom sklearn.model_selection import cross_val_score\\nfrom statsmodels.tsa.arima_model import ARIMA\\nimport tqdm\\nfrom sklearn.model_selection import train_test_split\\nfrom sklearn import metrics\\nimport pandas as pd\\nimport keras\\nimport textblob\\nimport altair as alt\\nimport tensorflow as tf\\nimport seaborn as sns\\nimport numpy as np\\nfrom sklearn.linear_model import LogisticRegression\\nimport torch\\nimport bokeh\\nimport cv2\\nimport matplotlib.pyplot as plt\\nfrom sklearn.preprocessing import StandardScaler\\nfrom sklearn.feature_extraction.text import CountVectorizer\\nfrom sklearn.preprocessing import LabelEncoder'); }\n",
              "    "
            ],
            "text/plain": [
              "<IPython.core.display.Javascript object>"
            ]
          },
          "metadata": {}
        },
        {
          "output_type": "display_data",
          "data": {
            "image/png": "[encoded data removed]",
            "text/plain": [
              "<Figure size 432x288 with 1 Axes>"
            ]
          },
          "metadata": {
            "needs_background": "light"
          }
        }
      ],
      "source": [
        "for i in df.describe().columns:\n",
        "    sns.distplot(df[i]) #there is no na in the dataframe as it is clear from the previous lines, and so there is\n",
        "    plt.show()                    #need to use .dropna"
      ]
    },
    {
      "cell_type": "code",
      "execution_count": 117,
      "metadata": {
        "colab": {
          "base_uri": "https://localhost:8080/",
          "height": 0
        },
        "id": "4B3T_M09zTJo",
        "outputId": "e6f10a88-9785-4adc-d72a-81b7a182bee3"
      },
      "outputs": [
        {
          "output_type": "display_data",
          "data": {
            "application/javascript": [
              "\n",
              "        if (window._pyforest_update_imports_cell) { window._pyforest_update_imports_cell('from sklearn.model_selection import KFold\\nfrom sklearn.model_selection import cross_val_score\\nfrom statsmodels.tsa.arima_model import ARIMA\\nimport tqdm\\nfrom sklearn.model_selection import train_test_split\\nfrom sklearn import metrics\\nimport pandas as pd\\nimport keras\\nimport textblob\\nimport altair as alt\\nimport tensorflow as tf\\nimport seaborn as sns\\nimport numpy as np\\nfrom sklearn.linear_model import LogisticRegression\\nimport torch\\nimport bokeh\\nimport cv2\\nimport matplotlib.pyplot as plt\\nfrom sklearn.preprocessing import StandardScaler\\nfrom sklearn.feature_extraction.text import CountVectorizer\\nfrom sklearn.preprocessing import LabelEncoder'); }\n",
              "    "
            ],
            "text/plain": [
              "<IPython.core.display.Javascript object>"
            ]
          },
          "metadata": {}
        },
        {
          "output_type": "display_data",
          "data": {
            "application/javascript": [
              "\n",
              "        if (window._pyforest_update_imports_cell) { window._pyforest_update_imports_cell('from sklearn.model_selection import KFold\\nfrom sklearn.model_selection import cross_val_score\\nfrom statsmodels.tsa.arima_model import ARIMA\\nimport tqdm\\nfrom sklearn.model_selection import train_test_split\\nfrom sklearn import metrics\\nimport pandas as pd\\nimport keras\\nimport textblob\\nimport altair as alt\\nimport tensorflow as tf\\nimport seaborn as sns\\nimport numpy as np\\nfrom sklearn.linear_model import LogisticRegression\\nimport torch\\nimport bokeh\\nimport cv2\\nimport matplotlib.pyplot as plt\\nfrom sklearn.preprocessing import StandardScaler\\nfrom sklearn.feature_extraction.text import CountVectorizer\\nfrom sklearn.preprocessing import LabelEncoder'); }\n",
              "    "
            ],
            "text/plain": [
              "<IPython.core.display.Javascript object>"
            ]
          },
          "metadata": {}
        },
        {
          "output_type": "display_data",
          "data": {
            "image/png": "[encoded data removed]",
            "text/plain": [
              "<Figure size 432x288 with 1 Axes>"
            ]
          },
          "metadata": {
            "needs_background": "light"
          }
        },
        {
          "output_type": "display_data",
          "data": {
            "application/javascript": [
              "\n",
              "        if (window._pyforest_update_imports_cell) { window._pyforest_update_imports_cell('from sklearn.model_selection import KFold\\nfrom sklearn.model_selection import cross_val_score\\nfrom statsmodels.tsa.arima_model import ARIMA\\nimport tqdm\\nfrom sklearn.model_selection import train_test_split\\nfrom sklearn import metrics\\nimport pandas as pd\\nimport keras\\nimport textblob\\nimport altair as alt\\nimport tensorflow as tf\\nimport seaborn as sns\\nimport numpy as np\\nfrom sklearn.linear_model import LogisticRegression\\nimport torch\\nimport bokeh\\nimport cv2\\nimport matplotlib.pyplot as plt\\nfrom sklearn.preprocessing import StandardScaler\\nfrom sklearn.feature_extraction.text import CountVectorizer\\nfrom sklearn.preprocessing import LabelEncoder'); }\n",
              "    "
            ],
            "text/plain": [
              "<IPython.core.display.Javascript object>"
            ]
          },
          "metadata": {}
        },
        {
          "output_type": "display_data",
          "data": {
            "application/javascript": [
              "\n",
              "        if (window._pyforest_update_imports_cell) { window._pyforest_update_imports_cell('from sklearn.model_selection import KFold\\nfrom sklearn.model_selection import cross_val_score\\nfrom statsmodels.tsa.arima_model import ARIMA\\nimport tqdm\\nfrom sklearn.model_selection import train_test_split\\nfrom sklearn import metrics\\nimport pandas as pd\\nimport keras\\nimport textblob\\nimport altair as alt\\nimport tensorflow as tf\\nimport seaborn as sns\\nimport numpy as np\\nfrom sklearn.linear_model import LogisticRegression\\nimport torch\\nimport bokeh\\nimport cv2\\nimport matplotlib.pyplot as plt\\nfrom sklearn.preprocessing import StandardScaler\\nfrom sklearn.feature_extraction.text import CountVectorizer\\nfrom sklearn.preprocessing import LabelEncoder'); }\n",
              "    "
            ],
            "text/plain": [
              "<IPython.core.display.Javascript object>"
            ]
          },
          "metadata": {}
        },
        {
          "output_type": "display_data",
          "data": {
            "image/png": "[encoded data removed]",
            "text/plain": [
              "<Figure size 432x288 with 1 Axes>"
            ]
          },
          "metadata": {
            "needs_background": "light"
          }
        },
        {
          "output_type": "display_data",
          "data": {
            "application/javascript": [
              "\n",
              "        if (window._pyforest_update_imports_cell) { window._pyforest_update_imports_cell('from sklearn.model_selection import KFold\\nfrom sklearn.model_selection import cross_val_score\\nfrom statsmodels.tsa.arima_model import ARIMA\\nimport tqdm\\nfrom sklearn.model_selection import train_test_split\\nfrom sklearn import metrics\\nimport pandas as pd\\nimport keras\\nimport textblob\\nimport altair as alt\\nimport tensorflow as tf\\nimport seaborn as sns\\nimport numpy as np\\nfrom sklearn.linear_model import LogisticRegression\\nimport torch\\nimport bokeh\\nimport cv2\\nimport matplotlib.pyplot as plt\\nfrom sklearn.preprocessing import StandardScaler\\nfrom sklearn.feature_extraction.text import CountVectorizer\\nfrom sklearn.preprocessing import LabelEncoder'); }\n",
              "    "
            ],
            "text/plain": [
              "<IPython.core.display.Javascript object>"
            ]
          },
          "metadata": {}
        },
        {
          "output_type": "display_data",
          "data": {
            "application/javascript": [
              "\n",
              "        if (window._pyforest_update_imports_cell) { window._pyforest_update_imports_cell('from sklearn.model_selection import KFold\\nfrom sklearn.model_selection import cross_val_score\\nfrom statsmodels.tsa.arima_model import ARIMA\\nimport tqdm\\nfrom sklearn.model_selection import train_test_split\\nfrom sklearn import metrics\\nimport pandas as pd\\nimport keras\\nimport textblob\\nimport altair as alt\\nimport tensorflow as tf\\nimport seaborn as sns\\nimport numpy as np\\nfrom sklearn.linear_model import LogisticRegression\\nimport torch\\nimport bokeh\\nimport cv2\\nimport matplotlib.pyplot as plt\\nfrom sklearn.preprocessing import StandardScaler\\nfrom sklearn.feature_extraction.text import CountVectorizer\\nfrom sklearn.preprocessing import LabelEncoder'); }\n",
              "    "
            ],
            "text/plain": [
              "<IPython.core.display.Javascript object>"
            ]
          },
          "metadata": {}
        },
        {
          "output_type": "display_data",
          "data": {
            "image/png": "[encoded data removed]",
            "text/plain": [
              "<Figure size 432x288 with 1 Axes>"
            ]
          },
          "metadata": {
            "needs_background": "light"
          }
        },
        {
          "output_type": "display_data",
          "data": {
            "application/javascript": [
              "\n",
              "        if (window._pyforest_update_imports_cell) { window._pyforest_update_imports_cell('from sklearn.model_selection import KFold\\nfrom sklearn.model_selection import cross_val_score\\nfrom statsmodels.tsa.arima_model import ARIMA\\nimport tqdm\\nfrom sklearn.model_selection import train_test_split\\nfrom sklearn import metrics\\nimport pandas as pd\\nimport keras\\nimport textblob\\nimport altair as alt\\nimport tensorflow as tf\\nimport seaborn as sns\\nimport numpy as np\\nfrom sklearn.linear_model import LogisticRegression\\nimport torch\\nimport bokeh\\nimport cv2\\nimport matplotlib.pyplot as plt\\nfrom sklearn.preprocessing import StandardScaler\\nfrom sklearn.feature_extraction.text import CountVectorizer\\nfrom sklearn.preprocessing import LabelEncoder'); }\n",
              "    "
            ],
            "text/plain": [
              "<IPython.core.display.Javascript object>"
            ]
          },
          "metadata": {}
        },
        {
          "output_type": "display_data",
          "data": {
            "application/javascript": [
              "\n",
              "        if (window._pyforest_update_imports_cell) { window._pyforest_update_imports_cell('from sklearn.model_selection import KFold\\nfrom sklearn.model_selection import cross_val_score\\nfrom statsmodels.tsa.arima_model import ARIMA\\nimport tqdm\\nfrom sklearn.model_selection import train_test_split\\nfrom sklearn import metrics\\nimport pandas as pd\\nimport keras\\nimport textblob\\nimport altair as alt\\nimport tensorflow as tf\\nimport seaborn as sns\\nimport numpy as np\\nfrom sklearn.linear_model import LogisticRegression\\nimport torch\\nimport bokeh\\nimport cv2\\nimport matplotlib.pyplot as plt\\nfrom sklearn.preprocessing import StandardScaler\\nfrom sklearn.feature_extraction.text import CountVectorizer\\nfrom sklearn.preprocessing import LabelEncoder'); }\n",
              "    "
            ],
            "text/plain": [
              "<IPython.core.display.Javascript object>"
            ]
          },
          "metadata": {}
        },
        {
          "output_type": "display_data",
          "data": {
            "image/png": "[encoded data removed]",
            "text/plain": [
              "<Figure size 432x288 with 1 Axes>"
            ]
          },
          "metadata": {
            "needs_background": "light"
          }
        },
        {
          "output_type": "display_data",
          "data": {
            "application/javascript": [
              "\n",
              "        if (window._pyforest_update_imports_cell) { window._pyforest_update_imports_cell('from sklearn.model_selection import KFold\\nfrom sklearn.model_selection import cross_val_score\\nfrom statsmodels.tsa.arima_model import ARIMA\\nimport tqdm\\nfrom sklearn.model_selection import train_test_split\\nfrom sklearn import metrics\\nimport pandas as pd\\nimport keras\\nimport textblob\\nimport altair as alt\\nimport tensorflow as tf\\nimport seaborn as sns\\nimport numpy as np\\nfrom sklearn.linear_model import LogisticRegression\\nimport torch\\nimport bokeh\\nimport cv2\\nimport matplotlib.pyplot as plt\\nfrom sklearn.preprocessing import StandardScaler\\nfrom sklearn.feature_extraction.text import CountVectorizer\\nfrom sklearn.preprocessing import LabelEncoder'); }\n",
              "    "
            ],
            "text/plain": [
              "<IPython.core.display.Javascript object>"
            ]
          },
          "metadata": {}
        },
        {
          "output_type": "display_data",
          "data": {
            "application/javascript": [
              "\n",
              "        if (window._pyforest_update_imports_cell) { window._pyforest_update_imports_cell('from sklearn.model_selection import KFold\\nfrom sklearn.model_selection import cross_val_score\\nfrom statsmodels.tsa.arima_model import ARIMA\\nimport tqdm\\nfrom sklearn.model_selection import train_test_split\\nfrom sklearn import metrics\\nimport pandas as pd\\nimport keras\\nimport textblob\\nimport altair as alt\\nimport tensorflow as tf\\nimport seaborn as sns\\nimport numpy as np\\nfrom sklearn.linear_model import LogisticRegression\\nimport torch\\nimport bokeh\\nimport cv2\\nimport matplotlib.pyplot as plt\\nfrom sklearn.preprocessing import StandardScaler\\nfrom sklearn.feature_extraction.text import CountVectorizer\\nfrom sklearn.preprocessing import LabelEncoder'); }\n",
              "    "
            ],
            "text/plain": [
              "<IPython.core.display.Javascript object>"
            ]
          },
          "metadata": {}
        },
        {
          "output_type": "display_data",
          "data": {
            "image/png": "[encoded data removed]",
            "text/plain": [
              "<Figure size 432x288 with 1 Axes>"
            ]
          },
          "metadata": {
            "needs_background": "light"
          }
        },
        {
          "output_type": "display_data",
          "data": {
            "application/javascript": [
              "\n",
              "        if (window._pyforest_update_imports_cell) { window._pyforest_update_imports_cell('from sklearn.model_selection import KFold\\nfrom sklearn.model_selection import cross_val_score\\nfrom statsmodels.tsa.arima_model import ARIMA\\nimport tqdm\\nfrom sklearn.model_selection import train_test_split\\nfrom sklearn import metrics\\nimport pandas as pd\\nimport keras\\nimport textblob\\nimport altair as alt\\nimport tensorflow as tf\\nimport seaborn as sns\\nimport numpy as np\\nfrom sklearn.linear_model import LogisticRegression\\nimport torch\\nimport bokeh\\nimport cv2\\nimport matplotlib.pyplot as plt\\nfrom sklearn.preprocessing import StandardScaler\\nfrom sklearn.feature_extraction.text import CountVectorizer\\nfrom sklearn.preprocessing import LabelEncoder'); }\n",
              "    "
            ],
            "text/plain": [
              "<IPython.core.display.Javascript object>"
            ]
          },
          "metadata": {}
        },
        {
          "output_type": "display_data",
          "data": {
            "application/javascript": [
              "\n",
              "        if (window._pyforest_update_imports_cell) { window._pyforest_update_imports_cell('from sklearn.model_selection import KFold\\nfrom sklearn.model_selection import cross_val_score\\nfrom statsmodels.tsa.arima_model import ARIMA\\nimport tqdm\\nfrom sklearn.model_selection import train_test_split\\nfrom sklearn import metrics\\nimport pandas as pd\\nimport keras\\nimport textblob\\nimport altair as alt\\nimport tensorflow as tf\\nimport seaborn as sns\\nimport numpy as np\\nfrom sklearn.linear_model import LogisticRegression\\nimport torch\\nimport bokeh\\nimport cv2\\nimport matplotlib.pyplot as plt\\nfrom sklearn.preprocessing import StandardScaler\\nfrom sklearn.feature_extraction.text import CountVectorizer\\nfrom sklearn.preprocessing import LabelEncoder'); }\n",
              "    "
            ],
            "text/plain": [
              "<IPython.core.display.Javascript object>"
            ]
          },
          "metadata": {}
        },
        {
          "output_type": "display_data",
          "data": {
            "image/png": "[encoded data removed]",
            "text/plain": [
              "<Figure size 432x288 with 1 Axes>"
            ]
          },
          "metadata": {
            "needs_background": "light"
          }
        },
        {
          "output_type": "display_data",
          "data": {
            "application/javascript": [
              "\n",
              "        if (window._pyforest_update_imports_cell) { window._pyforest_update_imports_cell('from sklearn.model_selection import KFold\\nfrom sklearn.model_selection import cross_val_score\\nfrom statsmodels.tsa.arima_model import ARIMA\\nimport tqdm\\nfrom sklearn.model_selection import train_test_split\\nfrom sklearn import metrics\\nimport pandas as pd\\nimport keras\\nimport textblob\\nimport altair as alt\\nimport tensorflow as tf\\nimport seaborn as sns\\nimport numpy as np\\nfrom sklearn.linear_model import LogisticRegression\\nimport torch\\nimport bokeh\\nimport cv2\\nimport matplotlib.pyplot as plt\\nfrom sklearn.preprocessing import StandardScaler\\nfrom sklearn.feature_extraction.text import CountVectorizer\\nfrom sklearn.preprocessing import LabelEncoder'); }\n",
              "    "
            ],
            "text/plain": [
              "<IPython.core.display.Javascript object>"
            ]
          },
          "metadata": {}
        },
        {
          "output_type": "display_data",
          "data": {
            "application/javascript": [
              "\n",
              "        if (window._pyforest_update_imports_cell) { window._pyforest_update_imports_cell('from sklearn.model_selection import KFold\\nfrom sklearn.model_selection import cross_val_score\\nfrom statsmodels.tsa.arima_model import ARIMA\\nimport tqdm\\nfrom sklearn.model_selection import train_test_split\\nfrom sklearn import metrics\\nimport pandas as pd\\nimport keras\\nimport textblob\\nimport altair as alt\\nimport tensorflow as tf\\nimport seaborn as sns\\nimport numpy as np\\nfrom sklearn.linear_model import LogisticRegression\\nimport torch\\nimport bokeh\\nimport cv2\\nimport matplotlib.pyplot as plt\\nfrom sklearn.preprocessing import StandardScaler\\nfrom sklearn.feature_extraction.text import CountVectorizer\\nfrom sklearn.preprocessing import LabelEncoder'); }\n",
              "    "
            ],
            "text/plain": [
              "<IPython.core.display.Javascript object>"
            ]
          },
          "metadata": {}
        },
        {
          "output_type": "display_data",
          "data": {
            "image/png": "[encoded data removed]",
            "text/plain": [
              "<Figure size 432x288 with 1 Axes>"
            ]
          },
          "metadata": {
            "needs_background": "light"
          }
        }
      ],
      "source": [
        "#Checking the presence of outliers\n",
        "for i in df.describe().columns:\n",
        "    sns.boxplot(df[i])\n",
        "    plt.show()"
      ]
    },
    {
      "cell_type": "markdown",
      "metadata": {
        "id": "WysSjLC7zTJp"
      },
      "source": [
        "## Prepare the data to train a model"
      ]
    },
    {
      "cell_type": "markdown",
      "metadata": {
        "id": "rYj7MfcvzTJq"
      },
      "source": [
        "### Categorical Features"
      ]
    },
    {
      "cell_type": "markdown",
      "metadata": {
        "id": "3puWYLrwzTJr"
      },
      "source": [
        "**job**"
      ]
    },
    {
      "cell_type": "code",
      "execution_count": 118,
      "metadata": {
        "colab": {
          "base_uri": "https://localhost:8080/"
        },
        "id": "tSdttf6izTJr",
        "outputId": "47a5ae30-1702-42c0-d3a4-e3543bba225d"
      },
      "outputs": [
        {
          "output_type": "execute_result",
          "data": {
            "text/plain": [
              "blue-collar      9732\n",
              "management       9458\n",
              "technician       7597\n",
              "admin.           5171\n",
              "services         4154\n",
              "retired          2264\n",
              "self-employed    1579\n",
              "entrepreneur     1487\n",
              "unemployed       1303\n",
              "housemaid        1240\n",
              "student           938\n",
              "unknown           288\n",
              "Name: job, dtype: int64"
            ]
          },
          "metadata": {},
          "execution_count": 118
        }
      ],
      "source": [
        "df.job.value_counts() #there is 'unknown' data that should be handled."
      ]
    },
    {
      "cell_type": "code",
      "execution_count": 119,
      "metadata": {
        "id": "3CyS2SaqzTJt"
      },
      "outputs": [],
      "source": [
        "df['job'] = df['job'].replace({'unknown':'blue-collar'}) "
      ]
    },
    {
      "cell_type": "code",
      "execution_count": 120,
      "metadata": {
        "colab": {
          "base_uri": "https://localhost:8080/"
        },
        "id": "OWX2jxt6zTJu",
        "outputId": "b0ff78aa-17e7-4944-ccdc-55ca6b39a9b4"
      },
      "outputs": [
        {
          "output_type": "execute_result",
          "data": {
            "text/plain": [
              "blue-collar      10020\n",
              "management        9458\n",
              "technician        7597\n",
              "admin.            5171\n",
              "services          4154\n",
              "retired           2264\n",
              "self-employed     1579\n",
              "entrepreneur      1487\n",
              "unemployed        1303\n",
              "housemaid         1240\n",
              "student            938\n",
              "Name: job, dtype: int64"
            ]
          },
          "metadata": {},
          "execution_count": 120
        }
      ],
      "source": [
        "df.job.value_counts() #'unknown' replaced by the mode of the column ('blue-collar')."
      ]
    },
    {
      "cell_type": "markdown",
      "metadata": {
        "id": "3x7GQDOpzTJv"
      },
      "source": [
        "**marital**"
      ]
    },
    {
      "cell_type": "code",
      "execution_count": 121,
      "metadata": {
        "colab": {
          "base_uri": "https://localhost:8080/"
        },
        "id": "z8OmI8tszTJw",
        "outputId": "1cdc405c-7a59-43cd-9879-b0e0cfb04e43"
      },
      "outputs": [
        {
          "output_type": "execute_result",
          "data": {
            "text/plain": [
              "married     27214\n",
              "single      12790\n",
              "divorced     5207\n",
              "Name: marital, dtype: int64"
            ]
          },
          "metadata": {},
          "execution_count": 121
        }
      ],
      "source": [
        "df.marital.value_counts() #there is no 'unknown' data, so it is good to go."
      ]
    },
    {
      "cell_type": "markdown",
      "metadata": {
        "id": "jLIww-vJzTJx"
      },
      "source": [
        "**education**"
      ]
    },
    {
      "cell_type": "code",
      "execution_count": 122,
      "metadata": {
        "colab": {
          "base_uri": "https://localhost:8080/"
        },
        "id": "LB94XwROzTJy",
        "outputId": "99b180e5-6c61-4a09-f17d-b3a07e969857"
      },
      "outputs": [
        {
          "output_type": "execute_result",
          "data": {
            "text/plain": [
              "secondary    23202\n",
              "tertiary     13301\n",
              "primary       6851\n",
              "unknown       1857\n",
              "Name: education, dtype: int64"
            ]
          },
          "metadata": {},
          "execution_count": 122
        }
      ],
      "source": [
        "df.education.value_counts() #there is 'unknown' data that should be handled."
      ]
    },
    {
      "cell_type": "code",
      "execution_count": 123,
      "metadata": {
        "id": "r-iZPhUGzTJy"
      },
      "outputs": [],
      "source": [
        "df['education'] = df['education'].replace({'unknown':'secondary'})"
      ]
    },
    {
      "cell_type": "code",
      "execution_count": 124,
      "metadata": {
        "colab": {
          "base_uri": "https://localhost:8080/"
        },
        "id": "zKeH9j01zTJz",
        "outputId": "cf249a0a-a492-4b03-fe6c-e7cfdcd35605"
      },
      "outputs": [
        {
          "output_type": "execute_result",
          "data": {
            "text/plain": [
              "secondary    25059\n",
              "tertiary     13301\n",
              "primary       6851\n",
              "Name: education, dtype: int64"
            ]
          },
          "metadata": {},
          "execution_count": 124
        }
      ],
      "source": [
        "df.education.value_counts() #'unknown' replaced by the mode of the column ('secondary')."
      ]
    },
    {
      "cell_type": "markdown",
      "metadata": {
        "id": "xnq6JqPczTJ0"
      },
      "source": [
        "**default**"
      ]
    },
    {
      "cell_type": "code",
      "execution_count": 125,
      "metadata": {
        "colab": {
          "base_uri": "https://localhost:8080/"
        },
        "id": "wJB2miwUzTJ0",
        "outputId": "f1fde325-47bf-4ce9-98d5-152193b684e3"
      },
      "outputs": [
        {
          "output_type": "execute_result",
          "data": {
            "text/plain": [
              "no     44396\n",
              "yes      815\n",
              "Name: default, dtype: int64"
            ]
          },
          "metadata": {},
          "execution_count": 125
        }
      ],
      "source": [
        "df.default.value_counts() #there is no 'unknown' data, so it is good to go."
      ]
    },
    {
      "cell_type": "markdown",
      "metadata": {
        "id": "upgKdX4rzTJ0"
      },
      "source": [
        "**housing**"
      ]
    },
    {
      "cell_type": "code",
      "execution_count": 126,
      "metadata": {
        "colab": {
          "base_uri": "https://localhost:8080/"
        },
        "id": "kptQFCdLzTJ1",
        "outputId": "8185fb1b-9e28-4d44-9eb9-839c09fb1886"
      },
      "outputs": [
        {
          "output_type": "execute_result",
          "data": {
            "text/plain": [
              "yes    25130\n",
              "no     20081\n",
              "Name: housing, dtype: int64"
            ]
          },
          "metadata": {},
          "execution_count": 126
        }
      ],
      "source": [
        "df.housing.value_counts() #there is no 'unknown' data, so it is good to go."
      ]
    },
    {
      "cell_type": "markdown",
      "metadata": {
        "id": "N8OMFnIPzTJ1"
      },
      "source": [
        "**loan**"
      ]
    },
    {
      "cell_type": "code",
      "execution_count": 127,
      "metadata": {
        "colab": {
          "base_uri": "https://localhost:8080/"
        },
        "id": "bhzBME0VzTJ2",
        "outputId": "9ab0592c-9311-4303-99e1-d9b128a4b169"
      },
      "outputs": [
        {
          "output_type": "execute_result",
          "data": {
            "text/plain": [
              "no     37967\n",
              "yes     7244\n",
              "Name: loan, dtype: int64"
            ]
          },
          "metadata": {},
          "execution_count": 127
        }
      ],
      "source": [
        "df.loan.value_counts() #there is no 'unknown' data, so it is good to go."
      ]
    },
    {
      "cell_type": "markdown",
      "metadata": {
        "id": "kq92yglPzTJ2"
      },
      "source": [
        "**contact**"
      ]
    },
    {
      "cell_type": "code",
      "execution_count": 128,
      "metadata": {
        "colab": {
          "base_uri": "https://localhost:8080/"
        },
        "id": "5vHd1m_ozTJ3",
        "outputId": "c8a02d38-90eb-4bce-d05e-42a2a8a3586e"
      },
      "outputs": [
        {
          "output_type": "execute_result",
          "data": {
            "text/plain": [
              "cellular     29285\n",
              "unknown      13020\n",
              "telephone     2906\n",
              "Name: contact, dtype: int64"
            ]
          },
          "metadata": {},
          "execution_count": 128
        }
      ],
      "source": [
        "df.contact.value_counts() #there is 'unknown' data that should be handled."
      ]
    },
    {
      "cell_type": "code",
      "execution_count": 129,
      "metadata": {
        "id": "pnwSKwbBzTJ3"
      },
      "outputs": [],
      "source": [
        "df['contact'] = df['contact'].replace({'unknown':'cellular'})"
      ]
    },
    {
      "cell_type": "code",
      "execution_count": 130,
      "metadata": {
        "colab": {
          "base_uri": "https://localhost:8080/"
        },
        "id": "IUCsvEzPzTJ4",
        "outputId": "0369f737-7dc6-4631-dff8-8ebf6cef0c7f"
      },
      "outputs": [
        {
          "output_type": "execute_result",
          "data": {
            "text/plain": [
              "cellular     42305\n",
              "telephone     2906\n",
              "Name: contact, dtype: int64"
            ]
          },
          "metadata": {},
          "execution_count": 130
        }
      ],
      "source": [
        "df.contact.value_counts() #'unknown' replaced by the mode of the column ('cellular')."
      ]
    },
    {
      "cell_type": "markdown",
      "metadata": {
        "id": "e9e-bubYzTJ4"
      },
      "source": [
        "**month**"
      ]
    },
    {
      "cell_type": "code",
      "execution_count": 131,
      "metadata": {
        "colab": {
          "base_uri": "https://localhost:8080/"
        },
        "id": "zpBtr8nIzTJ5",
        "outputId": "af70cdf2-35a9-4f7d-b877-86798022872d"
      },
      "outputs": [
        {
          "output_type": "execute_result",
          "data": {
            "text/plain": [
              "may    13766\n",
              "jul     6895\n",
              "aug     6247\n",
              "jun     5341\n",
              "nov     3970\n",
              "apr     2932\n",
              "feb     2649\n",
              "jan     1403\n",
              "oct      738\n",
              "sep      579\n",
              "mar      477\n",
              "dec      214\n",
              "Name: month, dtype: int64"
            ]
          },
          "metadata": {},
          "execution_count": 131
        }
      ],
      "source": [
        "df.month.value_counts() #there is no 'unknown' data, so it is good to go."
      ]
    },
    {
      "cell_type": "markdown",
      "metadata": {
        "id": "u0-TWg95zTJ6"
      },
      "source": [
        "**poutcome**"
      ]
    },
    {
      "cell_type": "code",
      "execution_count": 132,
      "metadata": {
        "colab": {
          "base_uri": "https://localhost:8080/"
        },
        "id": "eu52yu3VzTJ6",
        "outputId": "4784ccc3-17b1-4be0-e561-7132e6ca051a"
      },
      "outputs": [
        {
          "output_type": "execute_result",
          "data": {
            "text/plain": [
              "unknown    36959\n",
              "failure     4901\n",
              "other       1840\n",
              "success     1511\n",
              "Name: poutcome, dtype: int64"
            ]
          },
          "metadata": {},
          "execution_count": 132
        }
      ],
      "source": [
        "df.poutcome.value_counts()"
      ]
    },
    {
      "cell_type": "markdown",
      "metadata": {
        "id": "aSEDpLTIzTJ7"
      },
      "source": [
        "Beacuse most of the data in 'poutcome' column is unknown, it would not be a helpful data for the classification. Therefor I will drop it."
      ]
    },
    {
      "cell_type": "code",
      "execution_count": 133,
      "metadata": {
        "id": "SR69GWTWzTJ7"
      },
      "outputs": [],
      "source": [
        "df.drop(['poutcome'], axis=1, inplace=True)"
      ]
    },
    {
      "cell_type": "code",
      "execution_count": 134,
      "metadata": {
        "colab": {
          "base_uri": "https://localhost:8080/",
          "height": 0
        },
        "id": "fx3hkm0uzTJ8",
        "outputId": "c9e6b13d-31a1-4889-ca33-5fa279d4a673"
      },
      "outputs": [
        {
          "output_type": "execute_result",
          "data": {
            "text/html": [
              "<div>\n",
              "<style scoped>\n",
              "    .dataframe tbody tr th:only-of-type {\n",
              "        vertical-align: middle;\n",
              "    }\n",
              "\n",
              "    .dataframe tbody tr th {\n",
              "        vertical-align: top;\n",
              "    }\n",
              "\n",
              "    .dataframe thead th {\n",
              "        text-align: right;\n",
              "    }\n",
              "</style>\n",
              "<table border=\"1\" class=\"dataframe\">\n",
              "  <thead>\n",
              "    <tr style=\"text-align: right;\">\n",
              "      <th></th>\n",
              "      <th>age</th>\n",
              "      <th>job</th>\n",
              "      <th>marital</th>\n",
              "      <th>education</th>\n",
              "      <th>default</th>\n",
              "      <th>balance</th>\n",
              "      <th>housing</th>\n",
              "      <th>loan</th>\n",
              "      <th>contact</th>\n",
              "      <th>day</th>\n",
              "      <th>month</th>\n",
              "      <th>duration</th>\n",
              "      <th>campaign</th>\n",
              "      <th>pdays</th>\n",
              "      <th>previous</th>\n",
              "      <th>Target</th>\n",
              "    </tr>\n",
              "  </thead>\n",
              "  <tbody>\n",
              "    <tr>\n",
              "      <th>0</th>\n",
              "      <td>58</td>\n",
              "      <td>management</td>\n",
              "      <td>married</td>\n",
              "      <td>tertiary</td>\n",
              "      <td>no</td>\n",
              "      <td>2143</td>\n",
              "      <td>yes</td>\n",
              "      <td>no</td>\n",
              "      <td>cellular</td>\n",
              "      <td>5</td>\n",
              "      <td>may</td>\n",
              "      <td>261</td>\n",
              "      <td>1</td>\n",
              "      <td>-1</td>\n",
              "      <td>0</td>\n",
              "      <td>no</td>\n",
              "    </tr>\n",
              "  </tbody>\n",
              "</table>\n",
              "</div>"
            ],
            "text/plain": [
              "   age         job  marital education  ... campaign  pdays previous Target\n",
              "0   58  management  married  tertiary  ...        1     -1        0     no\n",
              "\n",
              "[1 rows x 16 columns]"
            ]
          },
          "metadata": {},
          "execution_count": 134
        }
      ],
      "source": [
        "df.head(1)"
      ]
    },
    {
      "cell_type": "markdown",
      "metadata": {
        "id": "KB5BfRU4zTJ8"
      },
      "source": [
        "### Numerical Features"
      ]
    },
    {
      "cell_type": "code",
      "execution_count": 135,
      "metadata": {
        "id": "w6ik6_JtzTJ9"
      },
      "outputs": [],
      "source": [
        "#As mentioned in the Data Description, the 'duration' column, would not be helpful. So, I'm droping it.\n",
        "df.drop(['duration'], axis=1, inplace=True)"
      ]
    },
    {
      "cell_type": "markdown",
      "metadata": {
        "id": "LXOsOuhRzTJ9"
      },
      "source": [
        "**pdays**"
      ]
    },
    {
      "cell_type": "code",
      "execution_count": 136,
      "metadata": {
        "colab": {
          "base_uri": "https://localhost:8080/"
        },
        "id": "W_OQ7VzRzTJ-",
        "outputId": "2ac5d86b-a988-406e-9bea-60240ce3b6ea"
      },
      "outputs": [
        {
          "output_type": "execute_result",
          "data": {
            "text/plain": [
              "count    45211.000000\n",
              "mean        40.197828\n",
              "std        100.128746\n",
              "min         -1.000000\n",
              "25%         -1.000000\n",
              "50%         -1.000000\n",
              "75%         -1.000000\n",
              "max        871.000000\n",
              "Name: pdays, dtype: float64"
            ]
          },
          "metadata": {},
          "execution_count": 136
        }
      ],
      "source": [
        "df.pdays.describe() "
      ]
    },
    {
      "cell_type": "code",
      "execution_count": 137,
      "metadata": {
        "colab": {
          "base_uri": "https://localhost:8080/"
        },
        "id": "gZzNCLf_zTJ_",
        "outputId": "85fd1fa1-17eb-4140-ff2f-eb8b0e9a3c6d"
      },
      "outputs": [
        {
          "output_type": "execute_result",
          "data": {
            "text/plain": [
              "36954"
            ]
          },
          "metadata": {},
          "execution_count": 137
        }
      ],
      "source": [
        "(df.pdays < 0).sum() #Nearly all the data in pdays column is -1 which is not a meaningful data. So I'm droping it."
      ]
    },
    {
      "cell_type": "code",
      "execution_count": 138,
      "metadata": {
        "id": "vzIui_BTzTJ_"
      },
      "outputs": [],
      "source": [
        "df.drop(['pdays'], axis=1, inplace=True)"
      ]
    },
    {
      "cell_type": "code",
      "execution_count": 139,
      "metadata": {
        "colab": {
          "base_uri": "https://localhost:8080/",
          "height": 0
        },
        "id": "BbybfO7szTKA",
        "outputId": "7f00a7f6-6059-44c3-9574-05ff98eb637b"
      },
      "outputs": [
        {
          "output_type": "execute_result",
          "data": {
            "text/html": [
              "<div>\n",
              "<style scoped>\n",
              "    .dataframe tbody tr th:only-of-type {\n",
              "        vertical-align: middle;\n",
              "    }\n",
              "\n",
              "    .dataframe tbody tr th {\n",
              "        vertical-align: top;\n",
              "    }\n",
              "\n",
              "    .dataframe thead th {\n",
              "        text-align: right;\n",
              "    }\n",
              "</style>\n",
              "<table border=\"1\" class=\"dataframe\">\n",
              "  <thead>\n",
              "    <tr style=\"text-align: right;\">\n",
              "      <th></th>\n",
              "      <th>age</th>\n",
              "      <th>job</th>\n",
              "      <th>marital</th>\n",
              "      <th>education</th>\n",
              "      <th>default</th>\n",
              "      <th>balance</th>\n",
              "      <th>housing</th>\n",
              "      <th>loan</th>\n",
              "      <th>contact</th>\n",
              "      <th>day</th>\n",
              "      <th>month</th>\n",
              "      <th>campaign</th>\n",
              "      <th>previous</th>\n",
              "      <th>Target</th>\n",
              "    </tr>\n",
              "  </thead>\n",
              "  <tbody>\n",
              "    <tr>\n",
              "      <th>0</th>\n",
              "      <td>58</td>\n",
              "      <td>management</td>\n",
              "      <td>married</td>\n",
              "      <td>tertiary</td>\n",
              "      <td>no</td>\n",
              "      <td>2143</td>\n",
              "      <td>yes</td>\n",
              "      <td>no</td>\n",
              "      <td>cellular</td>\n",
              "      <td>5</td>\n",
              "      <td>may</td>\n",
              "      <td>1</td>\n",
              "      <td>0</td>\n",
              "      <td>no</td>\n",
              "    </tr>\n",
              "  </tbody>\n",
              "</table>\n",
              "</div>"
            ],
            "text/plain": [
              "   age         job  marital education  ... month  campaign previous Target\n",
              "0   58  management  married  tertiary  ...   may         1        0     no\n",
              "\n",
              "[1 rows x 14 columns]"
            ]
          },
          "metadata": {},
          "execution_count": 139
        }
      ],
      "source": [
        "df.head(1)"
      ]
    },
    {
      "cell_type": "code",
      "execution_count": 140,
      "metadata": {
        "colab": {
          "base_uri": "https://localhost:8080/",
          "height": 0
        },
        "id": "qmHg-EiAzTKA",
        "outputId": "f613443f-07f3-4576-d6fe-362527b25fc7"
      },
      "outputs": [
        {
          "output_type": "execute_result",
          "data": {
            "text/plain": [
              "<matplotlib.axes._subplots.AxesSubplot at 0x7f9b4e904d50>"
            ]
          },
          "metadata": {},
          "execution_count": 140
        },
        {
          "output_type": "display_data",
          "data": {
            "image/png": "[encoded data removed]",
            "text/plain": [
              "<Figure size 1152x720 with 1 Axes>"
            ]
          },
          "metadata": {
            "needs_background": "light"
          }
        }
      ],
      "source": [
        "df.boxplot(figsize=(16,10))"
      ]
    },
    {
      "cell_type": "markdown",
      "metadata": {
        "id": "gPHOpoY9zTKB"
      },
      "source": [
        "As it is clear from the above boxplot for numerical features there ar lots of outliers that should be handled. And also, the data should be normalized."
      ]
    },
    {
      "cell_type": "code",
      "execution_count": 141,
      "metadata": {
        "id": "JYjF39PqzTKB"
      },
      "outputs": [],
      "source": [
        "# Handling Outliers\n",
        "\n",
        "cols_of_interest = ['age', 'balance', 'campaign', 'previous']\n",
        "\n",
        "for col in cols_of_interest:\n",
        "    Q1=df[col].quantile(q=0.25)\n",
        "    Q3=df[col].quantile(q=0.75)\n",
        "    IQR=Q3-Q1\n",
        "    L_outliers=Q1-1.5*(IQR)\n",
        "    U_outliers=Q3+1.5*(IQR)\n",
        "    df.loc[(df[col] < L_outliers) | (df[col] > U_outliers), col] = df[col].median()"
      ]
    },
    {
      "cell_type": "code",
      "execution_count": 142,
      "metadata": {
        "colab": {
          "base_uri": "https://localhost:8080/",
          "height": 0
        },
        "id": "Y7I1lK9FzTKC",
        "outputId": "9541a760-f43f-4893-d581-9e299e5aab90"
      },
      "outputs": [
        {
          "output_type": "execute_result",
          "data": {
            "text/plain": [
              "<matplotlib.axes._subplots.AxesSubplot at 0x7f9b40c3ab90>"
            ]
          },
          "metadata": {},
          "execution_count": 142
        },
        {
          "output_type": "display_data",
          "data": {
            "image/png": "[encoded data removed]",
            "text/plain": [
              "<Figure size 1152x720 with 1 Axes>"
            ]
          },
          "metadata": {
            "needs_background": "light"
          }
        }
      ],
      "source": [
        "df.boxplot(figsize=(16,10))"
      ]
    },
    {
      "cell_type": "markdown",
      "metadata": {
        "id": "lyUj26SHzTKC"
      },
      "source": [
        "### Target column cheking for imbalancity."
      ]
    },
    {
      "cell_type": "code",
      "execution_count": 143,
      "metadata": {
        "colab": {
          "base_uri": "https://localhost:8080/"
        },
        "id": "r-MHTdpIzTKD",
        "outputId": "33499ae2-d658-4e23-d0a4-5d0c00e23aa0"
      },
      "outputs": [
        {
          "output_type": "execute_result",
          "data": {
            "text/plain": [
              "no     39922\n",
              "yes     5289\n",
              "Name: Target, dtype: int64"
            ]
          },
          "metadata": {},
          "execution_count": 143
        }
      ],
      "source": [
        "df['Target'].value_counts()"
      ]
    },
    {
      "cell_type": "markdown",
      "metadata": {
        "id": "a3tQufnvzTKD"
      },
      "source": [
        "Clearly the data is imbalance. So it should be cared."
      ]
    },
    {
      "cell_type": "markdown",
      "metadata": {
        "id": "0rmpLcBFzTKD"
      },
      "source": [
        "**Up Sampling**"
      ]
    },
    {
      "cell_type": "markdown",
      "metadata": {
        "id": "7twk-M0qzTKE"
      },
      "source": [
        "Prior to upsampling the data should be divide into train and test. The class that should be upsampled is **'yes'**."
      ]
    },
    {
      "cell_type": "code",
      "execution_count": 144,
      "metadata": {
        "id": "7MI6WMvLzTKE"
      },
      "outputs": [],
      "source": [
        "X=df.drop('Target',axis=1)\n",
        "y=df['Target']"
      ]
    },
    {
      "cell_type": "code",
      "execution_count": 145,
      "metadata": {
        "colab": {
          "base_uri": "https://localhost:8080/",
          "height": 0
        },
        "id": "REblRV1izTKE",
        "outputId": "fcfb8690-fdd6-4660-adb5-6fc4aa76989d"
      },
      "outputs": [
        {
          "output_type": "display_data",
          "data": {
            "application/javascript": [
              "\n",
              "        if (window._pyforest_update_imports_cell) { window._pyforest_update_imports_cell('from sklearn.model_selection import KFold\\nfrom sklearn.model_selection import cross_val_score\\nfrom statsmodels.tsa.arima_model import ARIMA\\nimport tqdm\\nfrom sklearn.model_selection import train_test_split\\nfrom sklearn import metrics\\nimport pandas as pd\\nimport keras\\nimport textblob\\nimport altair as alt\\nimport tensorflow as tf\\nimport seaborn as sns\\nimport numpy as np\\nfrom sklearn.linear_model import LogisticRegression\\nimport torch\\nimport bokeh\\nimport cv2\\nimport matplotlib.pyplot as plt\\nfrom sklearn.preprocessing import StandardScaler\\nfrom sklearn.feature_extraction.text import CountVectorizer\\nfrom sklearn.preprocessing import LabelEncoder'); }\n",
              "    "
            ],
            "text/plain": [
              "<IPython.core.display.Javascript object>"
            ]
          },
          "metadata": {}
        }
      ],
      "source": [
        "X_train,X_test,y_train,y_test=train_test_split(X,y,test_size=0.25,random_state=1)"
      ]
    },
    {
      "cell_type": "code",
      "execution_count": 146,
      "metadata": {
        "colab": {
          "base_uri": "https://localhost:8080/",
          "height": 0
        },
        "id": "yX_Id4-JzTKF",
        "outputId": "edcf5f20-bbcc-42ad-cc32-665463faa951"
      },
      "outputs": [
        {
          "output_type": "display_data",
          "data": {
            "application/javascript": [
              "\n",
              "        if (window._pyforest_update_imports_cell) { window._pyforest_update_imports_cell('from sklearn.model_selection import KFold\\nfrom sklearn.model_selection import cross_val_score\\nfrom statsmodels.tsa.arima_model import ARIMA\\nimport tqdm\\nfrom sklearn.model_selection import train_test_split\\nfrom sklearn import metrics\\nimport pandas as pd\\nimport keras\\nimport textblob\\nimport altair as alt\\nimport tensorflow as tf\\nimport seaborn as sns\\nimport numpy as np\\nfrom sklearn.linear_model import LogisticRegression\\nimport torch\\nimport bokeh\\nimport cv2\\nimport matplotlib.pyplot as plt\\nfrom sklearn.preprocessing import StandardScaler\\nfrom sklearn.feature_extraction.text import CountVectorizer\\nfrom sklearn.preprocessing import LabelEncoder'); }\n",
              "    "
            ],
            "text/plain": [
              "<IPython.core.display.Javascript object>"
            ]
          },
          "metadata": {}
        },
        {
          "output_type": "execute_result",
          "data": {
            "text/html": [
              "<div>\n",
              "<style scoped>\n",
              "    .dataframe tbody tr th:only-of-type {\n",
              "        vertical-align: middle;\n",
              "    }\n",
              "\n",
              "    .dataframe tbody tr th {\n",
              "        vertical-align: top;\n",
              "    }\n",
              "\n",
              "    .dataframe thead th {\n",
              "        text-align: right;\n",
              "    }\n",
              "</style>\n",
              "<table border=\"1\" class=\"dataframe\">\n",
              "  <thead>\n",
              "    <tr style=\"text-align: right;\">\n",
              "      <th></th>\n",
              "      <th>age</th>\n",
              "      <th>job</th>\n",
              "      <th>marital</th>\n",
              "      <th>education</th>\n",
              "      <th>default</th>\n",
              "      <th>balance</th>\n",
              "      <th>housing</th>\n",
              "      <th>loan</th>\n",
              "      <th>contact</th>\n",
              "      <th>day</th>\n",
              "      <th>month</th>\n",
              "      <th>campaign</th>\n",
              "      <th>previous</th>\n",
              "      <th>Target</th>\n",
              "    </tr>\n",
              "  </thead>\n",
              "  <tbody>\n",
              "    <tr>\n",
              "      <th>32731</th>\n",
              "      <td>29</td>\n",
              "      <td>blue-collar</td>\n",
              "      <td>married</td>\n",
              "      <td>secondary</td>\n",
              "      <td>no</td>\n",
              "      <td>137</td>\n",
              "      <td>yes</td>\n",
              "      <td>no</td>\n",
              "      <td>cellular</td>\n",
              "      <td>17</td>\n",
              "      <td>apr</td>\n",
              "      <td>2</td>\n",
              "      <td>0</td>\n",
              "      <td>no</td>\n",
              "    </tr>\n",
              "    <tr>\n",
              "      <th>1498</th>\n",
              "      <td>39</td>\n",
              "      <td>blue-collar</td>\n",
              "      <td>married</td>\n",
              "      <td>primary</td>\n",
              "      <td>no</td>\n",
              "      <td>830</td>\n",
              "      <td>yes</td>\n",
              "      <td>no</td>\n",
              "      <td>cellular</td>\n",
              "      <td>8</td>\n",
              "      <td>may</td>\n",
              "      <td>2</td>\n",
              "      <td>0</td>\n",
              "      <td>no</td>\n",
              "    </tr>\n",
              "    <tr>\n",
              "      <th>17532</th>\n",
              "      <td>30</td>\n",
              "      <td>technician</td>\n",
              "      <td>married</td>\n",
              "      <td>tertiary</td>\n",
              "      <td>no</td>\n",
              "      <td>1103</td>\n",
              "      <td>yes</td>\n",
              "      <td>yes</td>\n",
              "      <td>cellular</td>\n",
              "      <td>29</td>\n",
              "      <td>jul</td>\n",
              "      <td>2</td>\n",
              "      <td>0</td>\n",
              "      <td>no</td>\n",
              "    </tr>\n",
              "    <tr>\n",
              "      <th>8166</th>\n",
              "      <td>25</td>\n",
              "      <td>services</td>\n",
              "      <td>single</td>\n",
              "      <td>secondary</td>\n",
              "      <td>no</td>\n",
              "      <td>229</td>\n",
              "      <td>yes</td>\n",
              "      <td>no</td>\n",
              "      <td>cellular</td>\n",
              "      <td>2</td>\n",
              "      <td>jun</td>\n",
              "      <td>2</td>\n",
              "      <td>0</td>\n",
              "      <td>no</td>\n",
              "    </tr>\n",
              "    <tr>\n",
              "      <th>15495</th>\n",
              "      <td>32</td>\n",
              "      <td>management</td>\n",
              "      <td>married</td>\n",
              "      <td>secondary</td>\n",
              "      <td>no</td>\n",
              "      <td>2858</td>\n",
              "      <td>yes</td>\n",
              "      <td>yes</td>\n",
              "      <td>cellular</td>\n",
              "      <td>18</td>\n",
              "      <td>jul</td>\n",
              "      <td>5</td>\n",
              "      <td>0</td>\n",
              "      <td>no</td>\n",
              "    </tr>\n",
              "  </tbody>\n",
              "</table>\n",
              "</div>"
            ],
            "text/plain": [
              "       age          job  marital  education  ... month  campaign previous Target\n",
              "32731   29  blue-collar  married  secondary  ...   apr         2        0     no\n",
              "1498    39  blue-collar  married    primary  ...   may         2        0     no\n",
              "17532   30   technician  married   tertiary  ...   jul         2        0     no\n",
              "8166    25     services   single  secondary  ...   jun         2        0     no\n",
              "15495   32   management  married  secondary  ...   jul         5        0     no\n",
              "\n",
              "[5 rows x 14 columns]"
            ]
          },
          "metadata": {},
          "execution_count": 146
        }
      ],
      "source": [
        "X=pd.concat([X_train,y_train],axis=1)\n",
        "X.head()"
      ]
    },
    {
      "cell_type": "code",
      "execution_count": 147,
      "metadata": {
        "id": "xbJQa-eqzTKF"
      },
      "outputs": [],
      "source": [
        "subscribed=X[X['Target']=='yes']\n",
        "not_subscribed=X[X['Target']=='no']"
      ]
    },
    {
      "cell_type": "code",
      "execution_count": 148,
      "metadata": {
        "colab": {
          "base_uri": "https://localhost:8080/",
          "height": 0
        },
        "id": "Yvg3vofizTKF",
        "outputId": "8f6ee8d7-5b1d-4b31-ef0b-082ee7c7afb4"
      },
      "outputs": [
        {
          "output_type": "display_data",
          "data": {
            "application/javascript": [
              "\n",
              "        if (window._pyforest_update_imports_cell) { window._pyforest_update_imports_cell('from sklearn.model_selection import KFold\\nfrom sklearn.model_selection import cross_val_score\\nfrom statsmodels.tsa.arima_model import ARIMA\\nimport tqdm\\nfrom sklearn.model_selection import train_test_split\\nfrom sklearn import metrics\\nimport pandas as pd\\nimport keras\\nimport textblob\\nimport altair as alt\\nimport tensorflow as tf\\nimport seaborn as sns\\nimport numpy as np\\nfrom sklearn.linear_model import LogisticRegression\\nimport torch\\nimport bokeh\\nimport cv2\\nimport matplotlib.pyplot as plt\\nfrom sklearn.preprocessing import StandardScaler\\nfrom sklearn.feature_extraction.text import CountVectorizer\\nfrom sklearn.preprocessing import LabelEncoder'); }\n",
              "    "
            ],
            "text/plain": [
              "<IPython.core.display.Javascript object>"
            ]
          },
          "metadata": {}
        }
      ],
      "source": [
        "subscribed_upsampled=resample(subscribed,replace=True, n_samples=len(not_subscribed), random_state=1)\n",
        "\n",
        "upsampled=pd.concat([not_subscribed, subscribed_upsampled])"
      ]
    },
    {
      "cell_type": "code",
      "execution_count": 149,
      "metadata": {
        "colab": {
          "base_uri": "https://localhost:8080/"
        },
        "id": "hhoaUEMLzTKF",
        "outputId": "2b357f7a-24be-45b5-a811-f2b96a97ac9f"
      },
      "outputs": [
        {
          "output_type": "execute_result",
          "data": {
            "text/plain": [
              "yes    29924\n",
              "no     29924\n",
              "Name: Target, dtype: int64"
            ]
          },
          "metadata": {},
          "execution_count": 149
        }
      ],
      "source": [
        "upsampled['Target'].value_counts()"
      ]
    },
    {
      "cell_type": "code",
      "execution_count": 150,
      "metadata": {
        "id": "cXLBM1nOzTKG"
      },
      "outputs": [],
      "source": [
        "X_train=upsampled.drop('Target', axis=1)\n",
        "y_train=upsampled['Target']"
      ]
    },
    {
      "cell_type": "markdown",
      "metadata": {
        "id": "3_gr8BSozTKG"
      },
      "source": [
        "## Normalization"
      ]
    },
    {
      "cell_type": "code",
      "execution_count": 151,
      "metadata": {
        "colab": {
          "base_uri": "https://localhost:8080/",
          "height": 0
        },
        "id": "6jUPOLs7zTKG",
        "outputId": "4678035b-8870-4560-b4e1-0502167d4be3"
      },
      "outputs": [
        {
          "output_type": "display_data",
          "data": {
            "application/javascript": [
              "\n",
              "        if (window._pyforest_update_imports_cell) { window._pyforest_update_imports_cell('from sklearn.model_selection import KFold\\nfrom sklearn.model_selection import cross_val_score\\nfrom statsmodels.tsa.arima_model import ARIMA\\nimport tqdm\\nfrom sklearn.model_selection import train_test_split\\nfrom sklearn import metrics\\nimport pandas as pd\\nimport keras\\nimport textblob\\nimport altair as alt\\nimport tensorflow as tf\\nimport seaborn as sns\\nimport numpy as np\\nfrom sklearn.linear_model import LogisticRegression\\nimport torch\\nimport bokeh\\nimport cv2\\nimport matplotlib.pyplot as plt\\nfrom sklearn.preprocessing import StandardScaler\\nfrom sklearn.feature_extraction.text import CountVectorizer\\nfrom sklearn.preprocessing import LabelEncoder'); }\n",
              "    "
            ],
            "text/plain": [
              "<IPython.core.display.Javascript object>"
            ]
          },
          "metadata": {}
        }
      ],
      "source": [
        "scaler=StandardScaler()"
      ]
    },
    {
      "cell_type": "code",
      "execution_count": 152,
      "metadata": {
        "id": "MveiL3dqzTKH"
      },
      "outputs": [],
      "source": [
        "cols_to_normalize=['age', 'balance', 'campaign', 'previous']"
      ]
    },
    {
      "cell_type": "code",
      "execution_count": 153,
      "metadata": {
        "colab": {
          "base_uri": "https://localhost:8080/",
          "height": 0
        },
        "id": "1UnWR5UqzTKH",
        "outputId": "40e6fc7b-5b70-47a1-8027-7c3910c769ca"
      },
      "outputs": [
        {
          "output_type": "display_data",
          "data": {
            "application/javascript": [
              "\n",
              "        if (window._pyforest_update_imports_cell) { window._pyforest_update_imports_cell('from sklearn.model_selection import KFold\\nfrom sklearn.model_selection import cross_val_score\\nfrom statsmodels.tsa.arima_model import ARIMA\\nimport tqdm\\nfrom sklearn.model_selection import train_test_split\\nfrom sklearn import metrics\\nimport pandas as pd\\nimport keras\\nimport textblob\\nimport altair as alt\\nimport tensorflow as tf\\nimport seaborn as sns\\nimport numpy as np\\nfrom sklearn.linear_model import LogisticRegression\\nimport torch\\nimport bokeh\\nimport cv2\\nimport matplotlib.pyplot as plt\\nfrom sklearn.preprocessing import StandardScaler\\nfrom sklearn.feature_extraction.text import CountVectorizer\\nfrom sklearn.preprocessing import LabelEncoder'); }\n",
              "    "
            ],
            "text/plain": [
              "<IPython.core.display.Javascript object>"
            ]
          },
          "metadata": {}
        }
      ],
      "source": [
        "train_numcols= X_train[cols_to_normalize]\n",
        "train_numcols=pd.DataFrame(scaler.fit_transform(train_numcols))\n",
        "train_numcols.columns = cols_to_normalize"
      ]
    },
    {
      "cell_type": "code",
      "execution_count": 154,
      "metadata": {
        "colab": {
          "base_uri": "https://localhost:8080/",
          "height": 0
        },
        "id": "8qtWUdcUzTKH",
        "outputId": "f3db04d3-1709-4711-e11c-5f3c9dd2d218"
      },
      "outputs": [
        {
          "output_type": "display_data",
          "data": {
            "application/javascript": [
              "\n",
              "        if (window._pyforest_update_imports_cell) { window._pyforest_update_imports_cell('from sklearn.model_selection import KFold\\nfrom sklearn.model_selection import cross_val_score\\nfrom statsmodels.tsa.arima_model import ARIMA\\nimport tqdm\\nfrom sklearn.model_selection import train_test_split\\nfrom sklearn import metrics\\nimport pandas as pd\\nimport keras\\nimport textblob\\nimport altair as alt\\nimport tensorflow as tf\\nimport seaborn as sns\\nimport numpy as np\\nfrom sklearn.linear_model import LogisticRegression\\nimport torch\\nimport bokeh\\nimport cv2\\nimport matplotlib.pyplot as plt\\nfrom sklearn.preprocessing import StandardScaler\\nfrom sklearn.feature_extraction.text import CountVectorizer\\nfrom sklearn.preprocessing import LabelEncoder'); }\n",
              "    "
            ],
            "text/plain": [
              "<IPython.core.display.Javascript object>"
            ]
          },
          "metadata": {}
        }
      ],
      "source": [
        "X_train.drop(cols_to_normalize, axis=1, inplace=True)\n",
        "X_train=X_train.reset_index()\n",
        "X_train = pd.concat([X_train, train_numcols], axis=1)"
      ]
    },
    {
      "cell_type": "code",
      "execution_count": 155,
      "metadata": {
        "colab": {
          "base_uri": "https://localhost:8080/",
          "height": 0
        },
        "id": "6ChrkUnUzTKI",
        "outputId": "8f9408d6-c6c4-4445-b804-01da7d2931e4"
      },
      "outputs": [
        {
          "output_type": "execute_result",
          "data": {
            "text/html": [
              "<div>\n",
              "<style scoped>\n",
              "    .dataframe tbody tr th:only-of-type {\n",
              "        vertical-align: middle;\n",
              "    }\n",
              "\n",
              "    .dataframe tbody tr th {\n",
              "        vertical-align: top;\n",
              "    }\n",
              "\n",
              "    .dataframe thead th {\n",
              "        text-align: right;\n",
              "    }\n",
              "</style>\n",
              "<table border=\"1\" class=\"dataframe\">\n",
              "  <thead>\n",
              "    <tr style=\"text-align: right;\">\n",
              "      <th></th>\n",
              "      <th>job</th>\n",
              "      <th>marital</th>\n",
              "      <th>education</th>\n",
              "      <th>default</th>\n",
              "      <th>housing</th>\n",
              "      <th>loan</th>\n",
              "      <th>contact</th>\n",
              "      <th>day</th>\n",
              "      <th>month</th>\n",
              "      <th>age</th>\n",
              "      <th>balance</th>\n",
              "      <th>campaign</th>\n",
              "      <th>previous</th>\n",
              "    </tr>\n",
              "  </thead>\n",
              "  <tbody>\n",
              "    <tr>\n",
              "      <th>0</th>\n",
              "      <td>blue-collar</td>\n",
              "      <td>married</td>\n",
              "      <td>secondary</td>\n",
              "      <td>no</td>\n",
              "      <td>yes</td>\n",
              "      <td>no</td>\n",
              "      <td>cellular</td>\n",
              "      <td>17</td>\n",
              "      <td>apr</td>\n",
              "      <td>-1.072548</td>\n",
              "      <td>-0.678187</td>\n",
              "      <td>-0.026158</td>\n",
              "      <td>0.0</td>\n",
              "    </tr>\n",
              "    <tr>\n",
              "      <th>1</th>\n",
              "      <td>blue-collar</td>\n",
              "      <td>married</td>\n",
              "      <td>primary</td>\n",
              "      <td>no</td>\n",
              "      <td>yes</td>\n",
              "      <td>no</td>\n",
              "      <td>cellular</td>\n",
              "      <td>8</td>\n",
              "      <td>may</td>\n",
              "      <td>-0.123830</td>\n",
              "      <td>0.153503</td>\n",
              "      <td>-0.026158</td>\n",
              "      <td>0.0</td>\n",
              "    </tr>\n",
              "    <tr>\n",
              "      <th>2</th>\n",
              "      <td>technician</td>\n",
              "      <td>married</td>\n",
              "      <td>tertiary</td>\n",
              "      <td>no</td>\n",
              "      <td>yes</td>\n",
              "      <td>yes</td>\n",
              "      <td>cellular</td>\n",
              "      <td>29</td>\n",
              "      <td>jul</td>\n",
              "      <td>-0.977676</td>\n",
              "      <td>0.481138</td>\n",
              "      <td>-0.026158</td>\n",
              "      <td>0.0</td>\n",
              "    </tr>\n",
              "    <tr>\n",
              "      <th>3</th>\n",
              "      <td>services</td>\n",
              "      <td>single</td>\n",
              "      <td>secondary</td>\n",
              "      <td>no</td>\n",
              "      <td>yes</td>\n",
              "      <td>no</td>\n",
              "      <td>cellular</td>\n",
              "      <td>2</td>\n",
              "      <td>jun</td>\n",
              "      <td>-1.452035</td>\n",
              "      <td>-0.567775</td>\n",
              "      <td>-0.026158</td>\n",
              "      <td>0.0</td>\n",
              "    </tr>\n",
              "    <tr>\n",
              "      <th>4</th>\n",
              "      <td>management</td>\n",
              "      <td>married</td>\n",
              "      <td>secondary</td>\n",
              "      <td>no</td>\n",
              "      <td>yes</td>\n",
              "      <td>yes</td>\n",
              "      <td>cellular</td>\n",
              "      <td>18</td>\n",
              "      <td>jul</td>\n",
              "      <td>-0.787933</td>\n",
              "      <td>2.587364</td>\n",
              "      <td>2.408530</td>\n",
              "      <td>0.0</td>\n",
              "    </tr>\n",
              "  </tbody>\n",
              "</table>\n",
              "</div>"
            ],
            "text/plain": [
              "           job  marital  education  ...   balance  campaign previous\n",
              "0  blue-collar  married  secondary  ... -0.678187 -0.026158      0.0\n",
              "1  blue-collar  married    primary  ...  0.153503 -0.026158      0.0\n",
              "2   technician  married   tertiary  ...  0.481138 -0.026158      0.0\n",
              "3     services   single  secondary  ... -0.567775 -0.026158      0.0\n",
              "4   management  married  secondary  ...  2.587364  2.408530      0.0\n",
              "\n",
              "[5 rows x 13 columns]"
            ]
          },
          "metadata": {},
          "execution_count": 155
        }
      ],
      "source": [
        "X_train.drop(['index'],axis=1,inplace=True)\n",
        "X_train.head()"
      ]
    },
    {
      "cell_type": "code",
      "execution_count": 156,
      "metadata": {
        "colab": {
          "base_uri": "https://localhost:8080/",
          "height": 0
        },
        "id": "NFRfSFTbzTKI",
        "outputId": "19f58116-2314-47c8-a523-6c52f36c6972"
      },
      "outputs": [
        {
          "output_type": "display_data",
          "data": {
            "application/javascript": [
              "\n",
              "        if (window._pyforest_update_imports_cell) { window._pyforest_update_imports_cell('from sklearn.model_selection import KFold\\nfrom sklearn.model_selection import cross_val_score\\nfrom statsmodels.tsa.arima_model import ARIMA\\nimport tqdm\\nfrom sklearn.model_selection import train_test_split\\nfrom sklearn import metrics\\nimport pandas as pd\\nimport keras\\nimport textblob\\nimport altair as alt\\nimport tensorflow as tf\\nimport seaborn as sns\\nimport numpy as np\\nfrom sklearn.linear_model import LogisticRegression\\nimport torch\\nimport bokeh\\nimport cv2\\nimport matplotlib.pyplot as plt\\nfrom sklearn.preprocessing import StandardScaler\\nfrom sklearn.feature_extraction.text import CountVectorizer\\nfrom sklearn.preprocessing import LabelEncoder'); }\n",
              "    "
            ],
            "text/plain": [
              "<IPython.core.display.Javascript object>"
            ]
          },
          "metadata": {}
        }
      ],
      "source": [
        "test_numcols= X_test[cols_to_normalize]\n",
        "test_numcols=pd.DataFrame(scaler.fit_transform(test_numcols))\n",
        "test_numcols.columns = cols_to_normalize"
      ]
    },
    {
      "cell_type": "code",
      "execution_count": 157,
      "metadata": {
        "colab": {
          "base_uri": "https://localhost:8080/",
          "height": 0
        },
        "id": "T1U8TUyezTKI",
        "outputId": "6273bfd9-8fdb-4d16-a114-be169efc5e42"
      },
      "outputs": [
        {
          "output_type": "display_data",
          "data": {
            "application/javascript": [
              "\n",
              "        if (window._pyforest_update_imports_cell) { window._pyforest_update_imports_cell('from sklearn.model_selection import KFold\\nfrom sklearn.model_selection import cross_val_score\\nfrom statsmodels.tsa.arima_model import ARIMA\\nimport tqdm\\nfrom sklearn.model_selection import train_test_split\\nfrom sklearn import metrics\\nimport pandas as pd\\nimport keras\\nimport textblob\\nimport altair as alt\\nimport tensorflow as tf\\nimport seaborn as sns\\nimport numpy as np\\nfrom sklearn.linear_model import LogisticRegression\\nimport torch\\nimport bokeh\\nimport cv2\\nimport matplotlib.pyplot as plt\\nfrom sklearn.preprocessing import StandardScaler\\nfrom sklearn.feature_extraction.text import CountVectorizer\\nfrom sklearn.preprocessing import LabelEncoder'); }\n",
              "    "
            ],
            "text/plain": [
              "<IPython.core.display.Javascript object>"
            ]
          },
          "metadata": {}
        }
      ],
      "source": [
        "X_test.drop(cols_to_normalize, axis=1, inplace=True)\n",
        "X_test=X_test.reset_index()\n",
        "X_test = pd.concat([X_test, test_numcols], axis=1)"
      ]
    },
    {
      "cell_type": "code",
      "execution_count": 158,
      "metadata": {
        "colab": {
          "base_uri": "https://localhost:8080/",
          "height": 0
        },
        "id": "r-5FyHlLzTKJ",
        "outputId": "8ec1d93c-74e7-46a5-cce3-4662f39f2c6f"
      },
      "outputs": [
        {
          "output_type": "execute_result",
          "data": {
            "text/html": [
              "<div>\n",
              "<style scoped>\n",
              "    .dataframe tbody tr th:only-of-type {\n",
              "        vertical-align: middle;\n",
              "    }\n",
              "\n",
              "    .dataframe tbody tr th {\n",
              "        vertical-align: top;\n",
              "    }\n",
              "\n",
              "    .dataframe thead th {\n",
              "        text-align: right;\n",
              "    }\n",
              "</style>\n",
              "<table border=\"1\" class=\"dataframe\">\n",
              "  <thead>\n",
              "    <tr style=\"text-align: right;\">\n",
              "      <th></th>\n",
              "      <th>job</th>\n",
              "      <th>marital</th>\n",
              "      <th>education</th>\n",
              "      <th>default</th>\n",
              "      <th>housing</th>\n",
              "      <th>loan</th>\n",
              "      <th>contact</th>\n",
              "      <th>day</th>\n",
              "      <th>month</th>\n",
              "      <th>age</th>\n",
              "      <th>balance</th>\n",
              "      <th>campaign</th>\n",
              "      <th>previous</th>\n",
              "    </tr>\n",
              "  </thead>\n",
              "  <tbody>\n",
              "    <tr>\n",
              "      <th>0</th>\n",
              "      <td>blue-collar</td>\n",
              "      <td>married</td>\n",
              "      <td>primary</td>\n",
              "      <td>no</td>\n",
              "      <td>yes</td>\n",
              "      <td>no</td>\n",
              "      <td>cellular</td>\n",
              "      <td>15</td>\n",
              "      <td>may</td>\n",
              "      <td>0.148653</td>\n",
              "      <td>2.383245</td>\n",
              "      <td>1.479583</td>\n",
              "      <td>0.0</td>\n",
              "    </tr>\n",
              "    <tr>\n",
              "      <th>1</th>\n",
              "      <td>technician</td>\n",
              "      <td>married</td>\n",
              "      <td>secondary</td>\n",
              "      <td>no</td>\n",
              "      <td>no</td>\n",
              "      <td>no</td>\n",
              "      <td>cellular</td>\n",
              "      <td>20</td>\n",
              "      <td>jun</td>\n",
              "      <td>-0.352937</td>\n",
              "      <td>1.994347</td>\n",
              "      <td>-0.086896</td>\n",
              "      <td>0.0</td>\n",
              "    </tr>\n",
              "    <tr>\n",
              "      <th>2</th>\n",
              "      <td>admin.</td>\n",
              "      <td>married</td>\n",
              "      <td>secondary</td>\n",
              "      <td>no</td>\n",
              "      <td>yes</td>\n",
              "      <td>no</td>\n",
              "      <td>cellular</td>\n",
              "      <td>17</td>\n",
              "      <td>apr</td>\n",
              "      <td>-0.854527</td>\n",
              "      <td>0.381048</td>\n",
              "      <td>1.479583</td>\n",
              "      <td>0.0</td>\n",
              "    </tr>\n",
              "    <tr>\n",
              "      <th>3</th>\n",
              "      <td>blue-collar</td>\n",
              "      <td>married</td>\n",
              "      <td>primary</td>\n",
              "      <td>no</td>\n",
              "      <td>no</td>\n",
              "      <td>no</td>\n",
              "      <td>cellular</td>\n",
              "      <td>28</td>\n",
              "      <td>jul</td>\n",
              "      <td>1.252152</td>\n",
              "      <td>-0.392984</td>\n",
              "      <td>0.696344</td>\n",
              "      <td>0.0</td>\n",
              "    </tr>\n",
              "    <tr>\n",
              "      <th>4</th>\n",
              "      <td>technician</td>\n",
              "      <td>single</td>\n",
              "      <td>tertiary</td>\n",
              "      <td>no</td>\n",
              "      <td>yes</td>\n",
              "      <td>no</td>\n",
              "      <td>cellular</td>\n",
              "      <td>2</td>\n",
              "      <td>jun</td>\n",
              "      <td>-0.854527</td>\n",
              "      <td>-0.454455</td>\n",
              "      <td>2.262823</td>\n",
              "      <td>0.0</td>\n",
              "    </tr>\n",
              "  </tbody>\n",
              "</table>\n",
              "</div>"
            ],
            "text/plain": [
              "           job  marital  education  ...   balance  campaign previous\n",
              "0  blue-collar  married    primary  ...  2.383245  1.479583      0.0\n",
              "1   technician  married  secondary  ...  1.994347 -0.086896      0.0\n",
              "2       admin.  married  secondary  ...  0.381048  1.479583      0.0\n",
              "3  blue-collar  married    primary  ... -0.392984  0.696344      0.0\n",
              "4   technician   single   tertiary  ... -0.454455  2.262823      0.0\n",
              "\n",
              "[5 rows x 13 columns]"
            ]
          },
          "metadata": {},
          "execution_count": 158
        }
      ],
      "source": [
        "X_test.drop(['index'],axis=1,inplace=True)\n",
        "X_test.head()"
      ]
    },
    {
      "cell_type": "markdown",
      "metadata": {
        "id": "uLyRjZNVzTKJ"
      },
      "source": [
        "## Handling Categorical Features"
      ]
    },
    {
      "cell_type": "code",
      "execution_count": 159,
      "metadata": {
        "colab": {
          "base_uri": "https://localhost:8080/",
          "height": 0
        },
        "id": "7i3PXyJ2zTKK",
        "outputId": "35f62cb4-0635-4095-bd14-7641c06dc9bb"
      },
      "outputs": [
        {
          "output_type": "display_data",
          "data": {
            "application/javascript": [
              "\n",
              "        if (window._pyforest_update_imports_cell) { window._pyforest_update_imports_cell('from sklearn.model_selection import KFold\\nfrom sklearn.model_selection import cross_val_score\\nfrom statsmodels.tsa.arima_model import ARIMA\\nimport tqdm\\nfrom sklearn.model_selection import train_test_split\\nfrom sklearn import metrics\\nimport pandas as pd\\nimport keras\\nimport textblob\\nimport altair as alt\\nimport tensorflow as tf\\nimport seaborn as sns\\nimport numpy as np\\nfrom sklearn.linear_model import LogisticRegression\\nimport torch\\nimport bokeh\\nimport cv2\\nimport matplotlib.pyplot as plt\\nfrom sklearn.preprocessing import StandardScaler\\nfrom sklearn.feature_extraction.text import CountVectorizer\\nfrom sklearn.preprocessing import LabelEncoder'); }\n",
              "    "
            ],
            "text/plain": [
              "<IPython.core.display.Javascript object>"
            ]
          },
          "metadata": {}
        }
      ],
      "source": [
        "y_train=y_train.reset_index()\n",
        "train = pd.concat([X_train, y_train], axis=1)"
      ]
    },
    {
      "cell_type": "code",
      "execution_count": 160,
      "metadata": {
        "colab": {
          "base_uri": "https://localhost:8080/",
          "height": 0
        },
        "id": "-n2NJcFtzTKK",
        "outputId": "32261a82-66db-4440-ad52-58e2d39e7bec"
      },
      "outputs": [
        {
          "output_type": "display_data",
          "data": {
            "application/javascript": [
              "\n",
              "        if (window._pyforest_update_imports_cell) { window._pyforest_update_imports_cell('from sklearn.model_selection import KFold\\nfrom sklearn.model_selection import cross_val_score\\nfrom statsmodels.tsa.arima_model import ARIMA\\nimport tqdm\\nfrom sklearn.model_selection import train_test_split\\nfrom sklearn import metrics\\nimport pandas as pd\\nimport keras\\nimport textblob\\nimport altair as alt\\nimport tensorflow as tf\\nimport seaborn as sns\\nimport numpy as np\\nfrom sklearn.linear_model import LogisticRegression\\nimport torch\\nimport bokeh\\nimport cv2\\nimport matplotlib.pyplot as plt\\nfrom sklearn.preprocessing import StandardScaler\\nfrom sklearn.feature_extraction.text import CountVectorizer\\nfrom sklearn.preprocessing import LabelEncoder'); }\n",
              "    "
            ],
            "text/plain": [
              "<IPython.core.display.Javascript object>"
            ]
          },
          "metadata": {}
        }
      ],
      "source": [
        "y_test=y_test.reset_index()\n",
        "test = pd.concat([X_test, y_test], axis=1)"
      ]
    },
    {
      "cell_type": "code",
      "execution_count": 161,
      "metadata": {
        "colab": {
          "base_uri": "https://localhost:8080/",
          "height": 0
        },
        "id": "epkMTi9tzTKK",
        "outputId": "16fc5705-fcb1-4213-e53d-ab71a2f73ab6"
      },
      "outputs": [
        {
          "output_type": "display_data",
          "data": {
            "application/javascript": [
              "\n",
              "        if (window._pyforest_update_imports_cell) { window._pyforest_update_imports_cell('from sklearn.model_selection import KFold\\nfrom sklearn.model_selection import cross_val_score\\nfrom statsmodels.tsa.arima_model import ARIMA\\nimport tqdm\\nfrom sklearn.model_selection import train_test_split\\nfrom sklearn import metrics\\nimport pandas as pd\\nimport keras\\nimport textblob\\nimport altair as alt\\nimport tensorflow as tf\\nimport seaborn as sns\\nimport numpy as np\\nfrom sklearn.linear_model import LogisticRegression\\nimport torch\\nimport bokeh\\nimport cv2\\nimport matplotlib.pyplot as plt\\nfrom sklearn.preprocessing import StandardScaler\\nfrom sklearn.feature_extraction.text import CountVectorizer\\nfrom sklearn.preprocessing import LabelEncoder'); }\n",
              "    "
            ],
            "text/plain": [
              "<IPython.core.display.Javascript object>"
            ]
          },
          "metadata": {}
        }
      ],
      "source": [
        "train['source']='train'\n",
        "test['source']='test'\n",
        "newdf=pd.concat([train, test], ignore_index=True)\n",
        "newdf.drop(['index'], axis=1, inplace=True)"
      ]
    },
    {
      "cell_type": "code",
      "execution_count": 162,
      "metadata": {
        "colab": {
          "base_uri": "https://localhost:8080/",
          "height": 0
        },
        "id": "HnKAe2kizTKL",
        "outputId": "3415ff59-fae6-492c-acd8-88ea140613fb"
      },
      "outputs": [
        {
          "output_type": "display_data",
          "data": {
            "application/javascript": [
              "\n",
              "        if (window._pyforest_update_imports_cell) { window._pyforest_update_imports_cell('from sklearn.model_selection import KFold\\nfrom sklearn.model_selection import cross_val_score\\nfrom statsmodels.tsa.arima_model import ARIMA\\nimport tqdm\\nfrom sklearn.model_selection import train_test_split\\nfrom sklearn import metrics\\nimport pandas as pd\\nimport keras\\nimport textblob\\nimport altair as alt\\nimport tensorflow as tf\\nimport seaborn as sns\\nimport numpy as np\\nfrom sklearn.linear_model import LogisticRegression\\nimport torch\\nimport bokeh\\nimport cv2\\nimport matplotlib.pyplot as plt\\nfrom sklearn.preprocessing import StandardScaler\\nfrom sklearn.feature_extraction.text import CountVectorizer\\nfrom sklearn.preprocessing import LabelEncoder'); }\n",
              "    "
            ],
            "text/plain": [
              "<IPython.core.display.Javascript object>"
            ]
          },
          "metadata": {}
        }
      ],
      "source": [
        "label=LabelEncoder()\n",
        "\n",
        "cat_features=['job', 'marital', 'education', 'default', 'housing', 'loan', 'contact','day', 'month']\n",
        "\n",
        "for i in cat_features:\n",
        "    newdf[i] = label.fit_transform(newdf[i])"
      ]
    },
    {
      "cell_type": "code",
      "execution_count": 163,
      "metadata": {
        "colab": {
          "base_uri": "https://localhost:8080/",
          "height": 0
        },
        "id": "pnwM5S8DzTKL",
        "outputId": "aec244a7-e89a-4d68-fdc5-af09755d9e39"
      },
      "outputs": [
        {
          "output_type": "execute_result",
          "data": {
            "text/html": [
              "<div>\n",
              "<style scoped>\n",
              "    .dataframe tbody tr th:only-of-type {\n",
              "        vertical-align: middle;\n",
              "    }\n",
              "\n",
              "    .dataframe tbody tr th {\n",
              "        vertical-align: top;\n",
              "    }\n",
              "\n",
              "    .dataframe thead th {\n",
              "        text-align: right;\n",
              "    }\n",
              "</style>\n",
              "<table border=\"1\" class=\"dataframe\">\n",
              "  <thead>\n",
              "    <tr style=\"text-align: right;\">\n",
              "      <th></th>\n",
              "      <th>job</th>\n",
              "      <th>marital</th>\n",
              "      <th>education</th>\n",
              "      <th>default</th>\n",
              "      <th>housing</th>\n",
              "      <th>loan</th>\n",
              "      <th>contact</th>\n",
              "      <th>day</th>\n",
              "      <th>month</th>\n",
              "      <th>age</th>\n",
              "      <th>balance</th>\n",
              "      <th>campaign</th>\n",
              "      <th>previous</th>\n",
              "      <th>Target</th>\n",
              "      <th>source</th>\n",
              "    </tr>\n",
              "  </thead>\n",
              "  <tbody>\n",
              "    <tr>\n",
              "      <th>0</th>\n",
              "      <td>1</td>\n",
              "      <td>1</td>\n",
              "      <td>1</td>\n",
              "      <td>0</td>\n",
              "      <td>1</td>\n",
              "      <td>0</td>\n",
              "      <td>0</td>\n",
              "      <td>16</td>\n",
              "      <td>0</td>\n",
              "      <td>-1.072548</td>\n",
              "      <td>-0.678187</td>\n",
              "      <td>-0.026158</td>\n",
              "      <td>0.0</td>\n",
              "      <td>no</td>\n",
              "      <td>train</td>\n",
              "    </tr>\n",
              "    <tr>\n",
              "      <th>1</th>\n",
              "      <td>1</td>\n",
              "      <td>1</td>\n",
              "      <td>0</td>\n",
              "      <td>0</td>\n",
              "      <td>1</td>\n",
              "      <td>0</td>\n",
              "      <td>0</td>\n",
              "      <td>7</td>\n",
              "      <td>8</td>\n",
              "      <td>-0.123830</td>\n",
              "      <td>0.153503</td>\n",
              "      <td>-0.026158</td>\n",
              "      <td>0.0</td>\n",
              "      <td>no</td>\n",
              "      <td>train</td>\n",
              "    </tr>\n",
              "    <tr>\n",
              "      <th>2</th>\n",
              "      <td>9</td>\n",
              "      <td>1</td>\n",
              "      <td>2</td>\n",
              "      <td>0</td>\n",
              "      <td>1</td>\n",
              "      <td>1</td>\n",
              "      <td>0</td>\n",
              "      <td>28</td>\n",
              "      <td>5</td>\n",
              "      <td>-0.977676</td>\n",
              "      <td>0.481138</td>\n",
              "      <td>-0.026158</td>\n",
              "      <td>0.0</td>\n",
              "      <td>no</td>\n",
              "      <td>train</td>\n",
              "    </tr>\n",
              "    <tr>\n",
              "      <th>3</th>\n",
              "      <td>7</td>\n",
              "      <td>2</td>\n",
              "      <td>1</td>\n",
              "      <td>0</td>\n",
              "      <td>1</td>\n",
              "      <td>0</td>\n",
              "      <td>0</td>\n",
              "      <td>1</td>\n",
              "      <td>6</td>\n",
              "      <td>-1.452035</td>\n",
              "      <td>-0.567775</td>\n",
              "      <td>-0.026158</td>\n",
              "      <td>0.0</td>\n",
              "      <td>no</td>\n",
              "      <td>train</td>\n",
              "    </tr>\n",
              "    <tr>\n",
              "      <th>4</th>\n",
              "      <td>4</td>\n",
              "      <td>1</td>\n",
              "      <td>1</td>\n",
              "      <td>0</td>\n",
              "      <td>1</td>\n",
              "      <td>1</td>\n",
              "      <td>0</td>\n",
              "      <td>17</td>\n",
              "      <td>5</td>\n",
              "      <td>-0.787933</td>\n",
              "      <td>2.587364</td>\n",
              "      <td>2.408530</td>\n",
              "      <td>0.0</td>\n",
              "      <td>no</td>\n",
              "      <td>train</td>\n",
              "    </tr>\n",
              "  </tbody>\n",
              "</table>\n",
              "</div>"
            ],
            "text/plain": [
              "   job  marital  education  default  ...  campaign  previous  Target  source\n",
              "0    1        1          1        0  ... -0.026158       0.0      no   train\n",
              "1    1        1          0        0  ... -0.026158       0.0      no   train\n",
              "2    9        1          2        0  ... -0.026158       0.0      no   train\n",
              "3    7        2          1        0  ... -0.026158       0.0      no   train\n",
              "4    4        1          1        0  ...  2.408530       0.0      no   train\n",
              "\n",
              "[5 rows x 15 columns]"
            ]
          },
          "metadata": {},
          "execution_count": 163
        }
      ],
      "source": [
        "newdf.head()"
      ]
    },
    {
      "cell_type": "code",
      "execution_count": 164,
      "metadata": {
        "colab": {
          "base_uri": "https://localhost:8080/",
          "height": 0
        },
        "id": "MDlqoFUkzTKM",
        "outputId": "af6c75ee-6133-4c38-d116-b21720a755fb"
      },
      "outputs": [
        {
          "output_type": "display_data",
          "data": {
            "application/javascript": [
              "\n",
              "        if (window._pyforest_update_imports_cell) { window._pyforest_update_imports_cell('from sklearn.model_selection import KFold\\nfrom sklearn.model_selection import cross_val_score\\nfrom statsmodels.tsa.arima_model import ARIMA\\nimport tqdm\\nfrom sklearn.model_selection import train_test_split\\nfrom sklearn import metrics\\nimport pandas as pd\\nimport keras\\nimport textblob\\nimport altair as alt\\nimport tensorflow as tf\\nimport seaborn as sns\\nimport numpy as np\\nfrom sklearn.linear_model import LogisticRegression\\nimport torch\\nimport bokeh\\nimport cv2\\nimport matplotlib.pyplot as plt\\nfrom sklearn.preprocessing import StandardScaler\\nfrom sklearn.feature_extraction.text import CountVectorizer\\nfrom sklearn.preprocessing import LabelEncoder'); }\n",
              "    "
            ],
            "text/plain": [
              "<IPython.core.display.Javascript object>"
            ]
          },
          "metadata": {}
        }
      ],
      "source": [
        "newdf=pd.get_dummies(newdf, columns=['job', 'marital', 'education', 'default', \n",
        "                               'housing', 'loan', 'contact','day', 'month'])"
      ]
    },
    {
      "cell_type": "code",
      "execution_count": 165,
      "metadata": {
        "colab": {
          "base_uri": "https://localhost:8080/",
          "height": 0
        },
        "id": "Ciue2B-tzTKM",
        "outputId": "2ac48f3c-f223-4690-fe08-765311a8fa66"
      },
      "outputs": [
        {
          "output_type": "execute_result",
          "data": {
            "text/html": [
              "<div>\n",
              "<style scoped>\n",
              "    .dataframe tbody tr th:only-of-type {\n",
              "        vertical-align: middle;\n",
              "    }\n",
              "\n",
              "    .dataframe tbody tr th {\n",
              "        vertical-align: top;\n",
              "    }\n",
              "\n",
              "    .dataframe thead th {\n",
              "        text-align: right;\n",
              "    }\n",
              "</style>\n",
              "<table border=\"1\" class=\"dataframe\">\n",
              "  <thead>\n",
              "    <tr style=\"text-align: right;\">\n",
              "      <th></th>\n",
              "      <th>age</th>\n",
              "      <th>balance</th>\n",
              "      <th>campaign</th>\n",
              "      <th>previous</th>\n",
              "      <th>Target</th>\n",
              "      <th>source</th>\n",
              "      <th>job_0</th>\n",
              "      <th>job_1</th>\n",
              "      <th>job_2</th>\n",
              "      <th>job_3</th>\n",
              "      <th>job_4</th>\n",
              "      <th>job_5</th>\n",
              "      <th>job_6</th>\n",
              "      <th>job_7</th>\n",
              "      <th>job_8</th>\n",
              "      <th>job_9</th>\n",
              "      <th>job_10</th>\n",
              "      <th>marital_0</th>\n",
              "      <th>marital_1</th>\n",
              "      <th>marital_2</th>\n",
              "      <th>education_0</th>\n",
              "      <th>education_1</th>\n",
              "      <th>education_2</th>\n",
              "      <th>default_0</th>\n",
              "      <th>default_1</th>\n",
              "      <th>housing_0</th>\n",
              "      <th>housing_1</th>\n",
              "      <th>loan_0</th>\n",
              "      <th>loan_1</th>\n",
              "      <th>contact_0</th>\n",
              "      <th>contact_1</th>\n",
              "      <th>day_0</th>\n",
              "      <th>day_1</th>\n",
              "      <th>day_2</th>\n",
              "      <th>day_3</th>\n",
              "      <th>day_4</th>\n",
              "      <th>day_5</th>\n",
              "      <th>day_6</th>\n",
              "      <th>day_7</th>\n",
              "      <th>day_8</th>\n",
              "      <th>day_9</th>\n",
              "      <th>day_10</th>\n",
              "      <th>day_11</th>\n",
              "      <th>day_12</th>\n",
              "      <th>day_13</th>\n",
              "      <th>day_14</th>\n",
              "      <th>day_15</th>\n",
              "      <th>day_16</th>\n",
              "      <th>day_17</th>\n",
              "      <th>day_18</th>\n",
              "      <th>day_19</th>\n",
              "      <th>day_20</th>\n",
              "      <th>day_21</th>\n",
              "      <th>day_22</th>\n",
              "      <th>day_23</th>\n",
              "      <th>day_24</th>\n",
              "      <th>day_25</th>\n",
              "      <th>day_26</th>\n",
              "      <th>day_27</th>\n",
              "      <th>day_28</th>\n",
              "      <th>day_29</th>\n",
              "      <th>day_30</th>\n",
              "      <th>month_0</th>\n",
              "      <th>month_1</th>\n",
              "      <th>month_2</th>\n",
              "      <th>month_3</th>\n",
              "      <th>month_4</th>\n",
              "      <th>month_5</th>\n",
              "      <th>month_6</th>\n",
              "      <th>month_7</th>\n",
              "      <th>month_8</th>\n",
              "      <th>month_9</th>\n",
              "      <th>month_10</th>\n",
              "      <th>month_11</th>\n",
              "    </tr>\n",
              "  </thead>\n",
              "  <tbody>\n",
              "    <tr>\n",
              "      <th>0</th>\n",
              "      <td>-1.072548</td>\n",
              "      <td>-0.678187</td>\n",
              "      <td>-0.026158</td>\n",
              "      <td>0.0</td>\n",
              "      <td>no</td>\n",
              "      <td>train</td>\n",
              "      <td>0</td>\n",
              "      <td>1</td>\n",
              "      <td>0</td>\n",
              "      <td>0</td>\n",
              "      <td>0</td>\n",
              "      <td>0</td>\n",
              "      <td>0</td>\n",
              "      <td>0</td>\n",
              "      <td>0</td>\n",
              "      <td>0</td>\n",
              "      <td>0</td>\n",
              "      <td>0</td>\n",
              "      <td>1</td>\n",
              "      <td>0</td>\n",
              "      <td>0</td>\n",
              "      <td>1</td>\n",
              "      <td>0</td>\n",
              "      <td>1</td>\n",
              "      <td>0</td>\n",
              "      <td>0</td>\n",
              "      <td>1</td>\n",
              "      <td>1</td>\n",
              "      <td>0</td>\n",
              "      <td>1</td>\n",
              "      <td>0</td>\n",
              "      <td>0</td>\n",
              "      <td>0</td>\n",
              "      <td>0</td>\n",
              "      <td>0</td>\n",
              "      <td>0</td>\n",
              "      <td>0</td>\n",
              "      <td>0</td>\n",
              "      <td>0</td>\n",
              "      <td>0</td>\n",
              "      <td>0</td>\n",
              "      <td>0</td>\n",
              "      <td>0</td>\n",
              "      <td>0</td>\n",
              "      <td>0</td>\n",
              "      <td>0</td>\n",
              "      <td>0</td>\n",
              "      <td>1</td>\n",
              "      <td>0</td>\n",
              "      <td>0</td>\n",
              "      <td>0</td>\n",
              "      <td>0</td>\n",
              "      <td>0</td>\n",
              "      <td>0</td>\n",
              "      <td>0</td>\n",
              "      <td>0</td>\n",
              "      <td>0</td>\n",
              "      <td>0</td>\n",
              "      <td>0</td>\n",
              "      <td>0</td>\n",
              "      <td>0</td>\n",
              "      <td>0</td>\n",
              "      <td>1</td>\n",
              "      <td>0</td>\n",
              "      <td>0</td>\n",
              "      <td>0</td>\n",
              "      <td>0</td>\n",
              "      <td>0</td>\n",
              "      <td>0</td>\n",
              "      <td>0</td>\n",
              "      <td>0</td>\n",
              "      <td>0</td>\n",
              "      <td>0</td>\n",
              "      <td>0</td>\n",
              "    </tr>\n",
              "    <tr>\n",
              "      <th>1</th>\n",
              "      <td>-0.123830</td>\n",
              "      <td>0.153503</td>\n",
              "      <td>-0.026158</td>\n",
              "      <td>0.0</td>\n",
              "      <td>no</td>\n",
              "      <td>train</td>\n",
              "      <td>0</td>\n",
              "      <td>1</td>\n",
              "      <td>0</td>\n",
              "      <td>0</td>\n",
              "      <td>0</td>\n",
              "      <td>0</td>\n",
              "      <td>0</td>\n",
              "      <td>0</td>\n",
              "      <td>0</td>\n",
              "      <td>0</td>\n",
              "      <td>0</td>\n",
              "      <td>0</td>\n",
              "      <td>1</td>\n",
              "      <td>0</td>\n",
              "      <td>1</td>\n",
              "      <td>0</td>\n",
              "      <td>0</td>\n",
              "      <td>1</td>\n",
              "      <td>0</td>\n",
              "      <td>0</td>\n",
              "      <td>1</td>\n",
              "      <td>1</td>\n",
              "      <td>0</td>\n",
              "      <td>1</td>\n",
              "      <td>0</td>\n",
              "      <td>0</td>\n",
              "      <td>0</td>\n",
              "      <td>0</td>\n",
              "      <td>0</td>\n",
              "      <td>0</td>\n",
              "      <td>0</td>\n",
              "      <td>0</td>\n",
              "      <td>1</td>\n",
              "      <td>0</td>\n",
              "      <td>0</td>\n",
              "      <td>0</td>\n",
              "      <td>0</td>\n",
              "      <td>0</td>\n",
              "      <td>0</td>\n",
              "      <td>0</td>\n",
              "      <td>0</td>\n",
              "      <td>0</td>\n",
              "      <td>0</td>\n",
              "      <td>0</td>\n",
              "      <td>0</td>\n",
              "      <td>0</td>\n",
              "      <td>0</td>\n",
              "      <td>0</td>\n",
              "      <td>0</td>\n",
              "      <td>0</td>\n",
              "      <td>0</td>\n",
              "      <td>0</td>\n",
              "      <td>0</td>\n",
              "      <td>0</td>\n",
              "      <td>0</td>\n",
              "      <td>0</td>\n",
              "      <td>0</td>\n",
              "      <td>0</td>\n",
              "      <td>0</td>\n",
              "      <td>0</td>\n",
              "      <td>0</td>\n",
              "      <td>0</td>\n",
              "      <td>0</td>\n",
              "      <td>0</td>\n",
              "      <td>1</td>\n",
              "      <td>0</td>\n",
              "      <td>0</td>\n",
              "      <td>0</td>\n",
              "    </tr>\n",
              "    <tr>\n",
              "      <th>2</th>\n",
              "      <td>-0.977676</td>\n",
              "      <td>0.481138</td>\n",
              "      <td>-0.026158</td>\n",
              "      <td>0.0</td>\n",
              "      <td>no</td>\n",
              "      <td>train</td>\n",
              "      <td>0</td>\n",
              "      <td>0</td>\n",
              "      <td>0</td>\n",
              "      <td>0</td>\n",
              "      <td>0</td>\n",
              "      <td>0</td>\n",
              "      <td>0</td>\n",
              "      <td>0</td>\n",
              "      <td>0</td>\n",
              "      <td>1</td>\n",
              "      <td>0</td>\n",
              "      <td>0</td>\n",
              "      <td>1</td>\n",
              "      <td>0</td>\n",
              "      <td>0</td>\n",
              "      <td>0</td>\n",
              "      <td>1</td>\n",
              "      <td>1</td>\n",
              "      <td>0</td>\n",
              "      <td>0</td>\n",
              "      <td>1</td>\n",
              "      <td>0</td>\n",
              "      <td>1</td>\n",
              "      <td>1</td>\n",
              "      <td>0</td>\n",
              "      <td>0</td>\n",
              "      <td>0</td>\n",
              "      <td>0</td>\n",
              "      <td>0</td>\n",
              "      <td>0</td>\n",
              "      <td>0</td>\n",
              "      <td>0</td>\n",
              "      <td>0</td>\n",
              "      <td>0</td>\n",
              "      <td>0</td>\n",
              "      <td>0</td>\n",
              "      <td>0</td>\n",
              "      <td>0</td>\n",
              "      <td>0</td>\n",
              "      <td>0</td>\n",
              "      <td>0</td>\n",
              "      <td>0</td>\n",
              "      <td>0</td>\n",
              "      <td>0</td>\n",
              "      <td>0</td>\n",
              "      <td>0</td>\n",
              "      <td>0</td>\n",
              "      <td>0</td>\n",
              "      <td>0</td>\n",
              "      <td>0</td>\n",
              "      <td>0</td>\n",
              "      <td>0</td>\n",
              "      <td>0</td>\n",
              "      <td>1</td>\n",
              "      <td>0</td>\n",
              "      <td>0</td>\n",
              "      <td>0</td>\n",
              "      <td>0</td>\n",
              "      <td>0</td>\n",
              "      <td>0</td>\n",
              "      <td>0</td>\n",
              "      <td>1</td>\n",
              "      <td>0</td>\n",
              "      <td>0</td>\n",
              "      <td>0</td>\n",
              "      <td>0</td>\n",
              "      <td>0</td>\n",
              "      <td>0</td>\n",
              "    </tr>\n",
              "    <tr>\n",
              "      <th>3</th>\n",
              "      <td>-1.452035</td>\n",
              "      <td>-0.567775</td>\n",
              "      <td>-0.026158</td>\n",
              "      <td>0.0</td>\n",
              "      <td>no</td>\n",
              "      <td>train</td>\n",
              "      <td>0</td>\n",
              "      <td>0</td>\n",
              "      <td>0</td>\n",
              "      <td>0</td>\n",
              "      <td>0</td>\n",
              "      <td>0</td>\n",
              "      <td>0</td>\n",
              "      <td>1</td>\n",
              "      <td>0</td>\n",
              "      <td>0</td>\n",
              "      <td>0</td>\n",
              "      <td>0</td>\n",
              "      <td>0</td>\n",
              "      <td>1</td>\n",
              "      <td>0</td>\n",
              "      <td>1</td>\n",
              "      <td>0</td>\n",
              "      <td>1</td>\n",
              "      <td>0</td>\n",
              "      <td>0</td>\n",
              "      <td>1</td>\n",
              "      <td>1</td>\n",
              "      <td>0</td>\n",
              "      <td>1</td>\n",
              "      <td>0</td>\n",
              "      <td>0</td>\n",
              "      <td>1</td>\n",
              "      <td>0</td>\n",
              "      <td>0</td>\n",
              "      <td>0</td>\n",
              "      <td>0</td>\n",
              "      <td>0</td>\n",
              "      <td>0</td>\n",
              "      <td>0</td>\n",
              "      <td>0</td>\n",
              "      <td>0</td>\n",
              "      <td>0</td>\n",
              "      <td>0</td>\n",
              "      <td>0</td>\n",
              "      <td>0</td>\n",
              "      <td>0</td>\n",
              "      <td>0</td>\n",
              "      <td>0</td>\n",
              "      <td>0</td>\n",
              "      <td>0</td>\n",
              "      <td>0</td>\n",
              "      <td>0</td>\n",
              "      <td>0</td>\n",
              "      <td>0</td>\n",
              "      <td>0</td>\n",
              "      <td>0</td>\n",
              "      <td>0</td>\n",
              "      <td>0</td>\n",
              "      <td>0</td>\n",
              "      <td>0</td>\n",
              "      <td>0</td>\n",
              "      <td>0</td>\n",
              "      <td>0</td>\n",
              "      <td>0</td>\n",
              "      <td>0</td>\n",
              "      <td>0</td>\n",
              "      <td>0</td>\n",
              "      <td>1</td>\n",
              "      <td>0</td>\n",
              "      <td>0</td>\n",
              "      <td>0</td>\n",
              "      <td>0</td>\n",
              "      <td>0</td>\n",
              "    </tr>\n",
              "    <tr>\n",
              "      <th>4</th>\n",
              "      <td>-0.787933</td>\n",
              "      <td>2.587364</td>\n",
              "      <td>2.408530</td>\n",
              "      <td>0.0</td>\n",
              "      <td>no</td>\n",
              "      <td>train</td>\n",
              "      <td>0</td>\n",
              "      <td>0</td>\n",
              "      <td>0</td>\n",
              "      <td>0</td>\n",
              "      <td>1</td>\n",
              "      <td>0</td>\n",
              "      <td>0</td>\n",
              "      <td>0</td>\n",
              "      <td>0</td>\n",
              "      <td>0</td>\n",
              "      <td>0</td>\n",
              "      <td>0</td>\n",
              "      <td>1</td>\n",
              "      <td>0</td>\n",
              "      <td>0</td>\n",
              "      <td>1</td>\n",
              "      <td>0</td>\n",
              "      <td>1</td>\n",
              "      <td>0</td>\n",
              "      <td>0</td>\n",
              "      <td>1</td>\n",
              "      <td>0</td>\n",
              "      <td>1</td>\n",
              "      <td>1</td>\n",
              "      <td>0</td>\n",
              "      <td>0</td>\n",
              "      <td>0</td>\n",
              "      <td>0</td>\n",
              "      <td>0</td>\n",
              "      <td>0</td>\n",
              "      <td>0</td>\n",
              "      <td>0</td>\n",
              "      <td>0</td>\n",
              "      <td>0</td>\n",
              "      <td>0</td>\n",
              "      <td>0</td>\n",
              "      <td>0</td>\n",
              "      <td>0</td>\n",
              "      <td>0</td>\n",
              "      <td>0</td>\n",
              "      <td>0</td>\n",
              "      <td>0</td>\n",
              "      <td>1</td>\n",
              "      <td>0</td>\n",
              "      <td>0</td>\n",
              "      <td>0</td>\n",
              "      <td>0</td>\n",
              "      <td>0</td>\n",
              "      <td>0</td>\n",
              "      <td>0</td>\n",
              "      <td>0</td>\n",
              "      <td>0</td>\n",
              "      <td>0</td>\n",
              "      <td>0</td>\n",
              "      <td>0</td>\n",
              "      <td>0</td>\n",
              "      <td>0</td>\n",
              "      <td>0</td>\n",
              "      <td>0</td>\n",
              "      <td>0</td>\n",
              "      <td>0</td>\n",
              "      <td>1</td>\n",
              "      <td>0</td>\n",
              "      <td>0</td>\n",
              "      <td>0</td>\n",
              "      <td>0</td>\n",
              "      <td>0</td>\n",
              "      <td>0</td>\n",
              "    </tr>\n",
              "  </tbody>\n",
              "</table>\n",
              "</div>"
            ],
            "text/plain": [
              "        age   balance  campaign  previous  ... month_8 month_9  month_10  month_11\n",
              "0 -1.072548 -0.678187 -0.026158       0.0  ...       0       0         0         0\n",
              "1 -0.123830  0.153503 -0.026158       0.0  ...       1       0         0         0\n",
              "2 -0.977676  0.481138 -0.026158       0.0  ...       0       0         0         0\n",
              "3 -1.452035 -0.567775 -0.026158       0.0  ...       0       0         0         0\n",
              "4 -0.787933  2.587364  2.408530       0.0  ...       0       0         0         0\n",
              "\n",
              "[5 rows x 74 columns]"
            ]
          },
          "metadata": {},
          "execution_count": 165
        }
      ],
      "source": [
        "newdf.head()"
      ]
    },
    {
      "cell_type": "code",
      "execution_count": 166,
      "metadata": {
        "id": "eQ-GmOd8zTKN"
      },
      "outputs": [],
      "source": [
        "train = newdf.loc[newdf['source'] == 'train']\n",
        "test = newdf.loc[newdf['source'] == 'test']"
      ]
    },
    {
      "cell_type": "code",
      "execution_count": 167,
      "metadata": {
        "colab": {
          "base_uri": "https://localhost:8080/",
          "height": 0
        },
        "id": "C5kYPV41zTKN",
        "outputId": "b37aa610-e251-4737-b71d-6ecca662b006"
      },
      "outputs": [
        {
          "output_type": "execute_result",
          "data": {
            "text/html": [
              "<div>\n",
              "<style scoped>\n",
              "    .dataframe tbody tr th:only-of-type {\n",
              "        vertical-align: middle;\n",
              "    }\n",
              "\n",
              "    .dataframe tbody tr th {\n",
              "        vertical-align: top;\n",
              "    }\n",
              "\n",
              "    .dataframe thead th {\n",
              "        text-align: right;\n",
              "    }\n",
              "</style>\n",
              "<table border=\"1\" class=\"dataframe\">\n",
              "  <thead>\n",
              "    <tr style=\"text-align: right;\">\n",
              "      <th></th>\n",
              "      <th>age</th>\n",
              "      <th>balance</th>\n",
              "      <th>campaign</th>\n",
              "      <th>previous</th>\n",
              "      <th>Target</th>\n",
              "      <th>job_0</th>\n",
              "      <th>job_1</th>\n",
              "      <th>job_2</th>\n",
              "      <th>job_3</th>\n",
              "      <th>job_4</th>\n",
              "      <th>job_5</th>\n",
              "      <th>job_6</th>\n",
              "      <th>job_7</th>\n",
              "      <th>job_8</th>\n",
              "      <th>job_9</th>\n",
              "      <th>job_10</th>\n",
              "      <th>marital_0</th>\n",
              "      <th>marital_1</th>\n",
              "      <th>marital_2</th>\n",
              "      <th>education_0</th>\n",
              "      <th>education_1</th>\n",
              "      <th>education_2</th>\n",
              "      <th>default_0</th>\n",
              "      <th>default_1</th>\n",
              "      <th>housing_0</th>\n",
              "      <th>housing_1</th>\n",
              "      <th>loan_0</th>\n",
              "      <th>loan_1</th>\n",
              "      <th>contact_0</th>\n",
              "      <th>contact_1</th>\n",
              "      <th>day_0</th>\n",
              "      <th>day_1</th>\n",
              "      <th>day_2</th>\n",
              "      <th>day_3</th>\n",
              "      <th>day_4</th>\n",
              "      <th>day_5</th>\n",
              "      <th>day_6</th>\n",
              "      <th>day_7</th>\n",
              "      <th>day_8</th>\n",
              "      <th>day_9</th>\n",
              "      <th>day_10</th>\n",
              "      <th>day_11</th>\n",
              "      <th>day_12</th>\n",
              "      <th>day_13</th>\n",
              "      <th>day_14</th>\n",
              "      <th>day_15</th>\n",
              "      <th>day_16</th>\n",
              "      <th>day_17</th>\n",
              "      <th>day_18</th>\n",
              "      <th>day_19</th>\n",
              "      <th>day_20</th>\n",
              "      <th>day_21</th>\n",
              "      <th>day_22</th>\n",
              "      <th>day_23</th>\n",
              "      <th>day_24</th>\n",
              "      <th>day_25</th>\n",
              "      <th>day_26</th>\n",
              "      <th>day_27</th>\n",
              "      <th>day_28</th>\n",
              "      <th>day_29</th>\n",
              "      <th>day_30</th>\n",
              "      <th>month_0</th>\n",
              "      <th>month_1</th>\n",
              "      <th>month_2</th>\n",
              "      <th>month_3</th>\n",
              "      <th>month_4</th>\n",
              "      <th>month_5</th>\n",
              "      <th>month_6</th>\n",
              "      <th>month_7</th>\n",
              "      <th>month_8</th>\n",
              "      <th>month_9</th>\n",
              "      <th>month_10</th>\n",
              "      <th>month_11</th>\n",
              "    </tr>\n",
              "  </thead>\n",
              "  <tbody>\n",
              "    <tr>\n",
              "      <th>0</th>\n",
              "      <td>-1.072548</td>\n",
              "      <td>-0.678187</td>\n",
              "      <td>-0.026158</td>\n",
              "      <td>0.0</td>\n",
              "      <td>no</td>\n",
              "      <td>0</td>\n",
              "      <td>1</td>\n",
              "      <td>0</td>\n",
              "      <td>0</td>\n",
              "      <td>0</td>\n",
              "      <td>0</td>\n",
              "      <td>0</td>\n",
              "      <td>0</td>\n",
              "      <td>0</td>\n",
              "      <td>0</td>\n",
              "      <td>0</td>\n",
              "      <td>0</td>\n",
              "      <td>1</td>\n",
              "      <td>0</td>\n",
              "      <td>0</td>\n",
              "      <td>1</td>\n",
              "      <td>0</td>\n",
              "      <td>1</td>\n",
              "      <td>0</td>\n",
              "      <td>0</td>\n",
              "      <td>1</td>\n",
              "      <td>1</td>\n",
              "      <td>0</td>\n",
              "      <td>1</td>\n",
              "      <td>0</td>\n",
              "      <td>0</td>\n",
              "      <td>0</td>\n",
              "      <td>0</td>\n",
              "      <td>0</td>\n",
              "      <td>0</td>\n",
              "      <td>0</td>\n",
              "      <td>0</td>\n",
              "      <td>0</td>\n",
              "      <td>0</td>\n",
              "      <td>0</td>\n",
              "      <td>0</td>\n",
              "      <td>0</td>\n",
              "      <td>0</td>\n",
              "      <td>0</td>\n",
              "      <td>0</td>\n",
              "      <td>0</td>\n",
              "      <td>1</td>\n",
              "      <td>0</td>\n",
              "      <td>0</td>\n",
              "      <td>0</td>\n",
              "      <td>0</td>\n",
              "      <td>0</td>\n",
              "      <td>0</td>\n",
              "      <td>0</td>\n",
              "      <td>0</td>\n",
              "      <td>0</td>\n",
              "      <td>0</td>\n",
              "      <td>0</td>\n",
              "      <td>0</td>\n",
              "      <td>0</td>\n",
              "      <td>0</td>\n",
              "      <td>1</td>\n",
              "      <td>0</td>\n",
              "      <td>0</td>\n",
              "      <td>0</td>\n",
              "      <td>0</td>\n",
              "      <td>0</td>\n",
              "      <td>0</td>\n",
              "      <td>0</td>\n",
              "      <td>0</td>\n",
              "      <td>0</td>\n",
              "      <td>0</td>\n",
              "      <td>0</td>\n",
              "    </tr>\n",
              "    <tr>\n",
              "      <th>1</th>\n",
              "      <td>-0.123830</td>\n",
              "      <td>0.153503</td>\n",
              "      <td>-0.026158</td>\n",
              "      <td>0.0</td>\n",
              "      <td>no</td>\n",
              "      <td>0</td>\n",
              "      <td>1</td>\n",
              "      <td>0</td>\n",
              "      <td>0</td>\n",
              "      <td>0</td>\n",
              "      <td>0</td>\n",
              "      <td>0</td>\n",
              "      <td>0</td>\n",
              "      <td>0</td>\n",
              "      <td>0</td>\n",
              "      <td>0</td>\n",
              "      <td>0</td>\n",
              "      <td>1</td>\n",
              "      <td>0</td>\n",
              "      <td>1</td>\n",
              "      <td>0</td>\n",
              "      <td>0</td>\n",
              "      <td>1</td>\n",
              "      <td>0</td>\n",
              "      <td>0</td>\n",
              "      <td>1</td>\n",
              "      <td>1</td>\n",
              "      <td>0</td>\n",
              "      <td>1</td>\n",
              "      <td>0</td>\n",
              "      <td>0</td>\n",
              "      <td>0</td>\n",
              "      <td>0</td>\n",
              "      <td>0</td>\n",
              "      <td>0</td>\n",
              "      <td>0</td>\n",
              "      <td>0</td>\n",
              "      <td>1</td>\n",
              "      <td>0</td>\n",
              "      <td>0</td>\n",
              "      <td>0</td>\n",
              "      <td>0</td>\n",
              "      <td>0</td>\n",
              "      <td>0</td>\n",
              "      <td>0</td>\n",
              "      <td>0</td>\n",
              "      <td>0</td>\n",
              "      <td>0</td>\n",
              "      <td>0</td>\n",
              "      <td>0</td>\n",
              "      <td>0</td>\n",
              "      <td>0</td>\n",
              "      <td>0</td>\n",
              "      <td>0</td>\n",
              "      <td>0</td>\n",
              "      <td>0</td>\n",
              "      <td>0</td>\n",
              "      <td>0</td>\n",
              "      <td>0</td>\n",
              "      <td>0</td>\n",
              "      <td>0</td>\n",
              "      <td>0</td>\n",
              "      <td>0</td>\n",
              "      <td>0</td>\n",
              "      <td>0</td>\n",
              "      <td>0</td>\n",
              "      <td>0</td>\n",
              "      <td>0</td>\n",
              "      <td>0</td>\n",
              "      <td>1</td>\n",
              "      <td>0</td>\n",
              "      <td>0</td>\n",
              "      <td>0</td>\n",
              "    </tr>\n",
              "    <tr>\n",
              "      <th>2</th>\n",
              "      <td>-0.977676</td>\n",
              "      <td>0.481138</td>\n",
              "      <td>-0.026158</td>\n",
              "      <td>0.0</td>\n",
              "      <td>no</td>\n",
              "      <td>0</td>\n",
              "      <td>0</td>\n",
              "      <td>0</td>\n",
              "      <td>0</td>\n",
              "      <td>0</td>\n",
              "      <td>0</td>\n",
              "      <td>0</td>\n",
              "      <td>0</td>\n",
              "      <td>0</td>\n",
              "      <td>1</td>\n",
              "      <td>0</td>\n",
              "      <td>0</td>\n",
              "      <td>1</td>\n",
              "      <td>0</td>\n",
              "      <td>0</td>\n",
              "      <td>0</td>\n",
              "      <td>1</td>\n",
              "      <td>1</td>\n",
              "      <td>0</td>\n",
              "      <td>0</td>\n",
              "      <td>1</td>\n",
              "      <td>0</td>\n",
              "      <td>1</td>\n",
              "      <td>1</td>\n",
              "      <td>0</td>\n",
              "      <td>0</td>\n",
              "      <td>0</td>\n",
              "      <td>0</td>\n",
              "      <td>0</td>\n",
              "      <td>0</td>\n",
              "      <td>0</td>\n",
              "      <td>0</td>\n",
              "      <td>0</td>\n",
              "      <td>0</td>\n",
              "      <td>0</td>\n",
              "      <td>0</td>\n",
              "      <td>0</td>\n",
              "      <td>0</td>\n",
              "      <td>0</td>\n",
              "      <td>0</td>\n",
              "      <td>0</td>\n",
              "      <td>0</td>\n",
              "      <td>0</td>\n",
              "      <td>0</td>\n",
              "      <td>0</td>\n",
              "      <td>0</td>\n",
              "      <td>0</td>\n",
              "      <td>0</td>\n",
              "      <td>0</td>\n",
              "      <td>0</td>\n",
              "      <td>0</td>\n",
              "      <td>0</td>\n",
              "      <td>0</td>\n",
              "      <td>1</td>\n",
              "      <td>0</td>\n",
              "      <td>0</td>\n",
              "      <td>0</td>\n",
              "      <td>0</td>\n",
              "      <td>0</td>\n",
              "      <td>0</td>\n",
              "      <td>0</td>\n",
              "      <td>1</td>\n",
              "      <td>0</td>\n",
              "      <td>0</td>\n",
              "      <td>0</td>\n",
              "      <td>0</td>\n",
              "      <td>0</td>\n",
              "      <td>0</td>\n",
              "    </tr>\n",
              "    <tr>\n",
              "      <th>3</th>\n",
              "      <td>-1.452035</td>\n",
              "      <td>-0.567775</td>\n",
              "      <td>-0.026158</td>\n",
              "      <td>0.0</td>\n",
              "      <td>no</td>\n",
              "      <td>0</td>\n",
              "      <td>0</td>\n",
              "      <td>0</td>\n",
              "      <td>0</td>\n",
              "      <td>0</td>\n",
              "      <td>0</td>\n",
              "      <td>0</td>\n",
              "      <td>1</td>\n",
              "      <td>0</td>\n",
              "      <td>0</td>\n",
              "      <td>0</td>\n",
              "      <td>0</td>\n",
              "      <td>0</td>\n",
              "      <td>1</td>\n",
              "      <td>0</td>\n",
              "      <td>1</td>\n",
              "      <td>0</td>\n",
              "      <td>1</td>\n",
              "      <td>0</td>\n",
              "      <td>0</td>\n",
              "      <td>1</td>\n",
              "      <td>1</td>\n",
              "      <td>0</td>\n",
              "      <td>1</td>\n",
              "      <td>0</td>\n",
              "      <td>0</td>\n",
              "      <td>1</td>\n",
              "      <td>0</td>\n",
              "      <td>0</td>\n",
              "      <td>0</td>\n",
              "      <td>0</td>\n",
              "      <td>0</td>\n",
              "      <td>0</td>\n",
              "      <td>0</td>\n",
              "      <td>0</td>\n",
              "      <td>0</td>\n",
              "      <td>0</td>\n",
              "      <td>0</td>\n",
              "      <td>0</td>\n",
              "      <td>0</td>\n",
              "      <td>0</td>\n",
              "      <td>0</td>\n",
              "      <td>0</td>\n",
              "      <td>0</td>\n",
              "      <td>0</td>\n",
              "      <td>0</td>\n",
              "      <td>0</td>\n",
              "      <td>0</td>\n",
              "      <td>0</td>\n",
              "      <td>0</td>\n",
              "      <td>0</td>\n",
              "      <td>0</td>\n",
              "      <td>0</td>\n",
              "      <td>0</td>\n",
              "      <td>0</td>\n",
              "      <td>0</td>\n",
              "      <td>0</td>\n",
              "      <td>0</td>\n",
              "      <td>0</td>\n",
              "      <td>0</td>\n",
              "      <td>0</td>\n",
              "      <td>0</td>\n",
              "      <td>1</td>\n",
              "      <td>0</td>\n",
              "      <td>0</td>\n",
              "      <td>0</td>\n",
              "      <td>0</td>\n",
              "      <td>0</td>\n",
              "    </tr>\n",
              "    <tr>\n",
              "      <th>4</th>\n",
              "      <td>-0.787933</td>\n",
              "      <td>2.587364</td>\n",
              "      <td>2.408530</td>\n",
              "      <td>0.0</td>\n",
              "      <td>no</td>\n",
              "      <td>0</td>\n",
              "      <td>0</td>\n",
              "      <td>0</td>\n",
              "      <td>0</td>\n",
              "      <td>1</td>\n",
              "      <td>0</td>\n",
              "      <td>0</td>\n",
              "      <td>0</td>\n",
              "      <td>0</td>\n",
              "      <td>0</td>\n",
              "      <td>0</td>\n",
              "      <td>0</td>\n",
              "      <td>1</td>\n",
              "      <td>0</td>\n",
              "      <td>0</td>\n",
              "      <td>1</td>\n",
              "      <td>0</td>\n",
              "      <td>1</td>\n",
              "      <td>0</td>\n",
              "      <td>0</td>\n",
              "      <td>1</td>\n",
              "      <td>0</td>\n",
              "      <td>1</td>\n",
              "      <td>1</td>\n",
              "      <td>0</td>\n",
              "      <td>0</td>\n",
              "      <td>0</td>\n",
              "      <td>0</td>\n",
              "      <td>0</td>\n",
              "      <td>0</td>\n",
              "      <td>0</td>\n",
              "      <td>0</td>\n",
              "      <td>0</td>\n",
              "      <td>0</td>\n",
              "      <td>0</td>\n",
              "      <td>0</td>\n",
              "      <td>0</td>\n",
              "      <td>0</td>\n",
              "      <td>0</td>\n",
              "      <td>0</td>\n",
              "      <td>0</td>\n",
              "      <td>0</td>\n",
              "      <td>1</td>\n",
              "      <td>0</td>\n",
              "      <td>0</td>\n",
              "      <td>0</td>\n",
              "      <td>0</td>\n",
              "      <td>0</td>\n",
              "      <td>0</td>\n",
              "      <td>0</td>\n",
              "      <td>0</td>\n",
              "      <td>0</td>\n",
              "      <td>0</td>\n",
              "      <td>0</td>\n",
              "      <td>0</td>\n",
              "      <td>0</td>\n",
              "      <td>0</td>\n",
              "      <td>0</td>\n",
              "      <td>0</td>\n",
              "      <td>0</td>\n",
              "      <td>0</td>\n",
              "      <td>1</td>\n",
              "      <td>0</td>\n",
              "      <td>0</td>\n",
              "      <td>0</td>\n",
              "      <td>0</td>\n",
              "      <td>0</td>\n",
              "      <td>0</td>\n",
              "    </tr>\n",
              "  </tbody>\n",
              "</table>\n",
              "</div>"
            ],
            "text/plain": [
              "        age   balance  campaign  previous  ... month_8  month_9  month_10  month_11\n",
              "0 -1.072548 -0.678187 -0.026158       0.0  ...       0        0         0         0\n",
              "1 -0.123830  0.153503 -0.026158       0.0  ...       1        0         0         0\n",
              "2 -0.977676  0.481138 -0.026158       0.0  ...       0        0         0         0\n",
              "3 -1.452035 -0.567775 -0.026158       0.0  ...       0        0         0         0\n",
              "4 -0.787933  2.587364  2.408530       0.0  ...       0        0         0         0\n",
              "\n",
              "[5 rows x 73 columns]"
            ]
          },
          "metadata": {},
          "execution_count": 167
        }
      ],
      "source": [
        "train.drop(['source'], axis=1, inplace=True)\n",
        "train.head()"
      ]
    },
    {
      "cell_type": "code",
      "execution_count": 168,
      "metadata": {
        "colab": {
          "base_uri": "https://localhost:8080/",
          "height": 0
        },
        "id": "SYPur3Y9zTKO",
        "outputId": "0fa0c9f0-ecb6-4054-b2fd-e23cb5886f57"
      },
      "outputs": [
        {
          "output_type": "execute_result",
          "data": {
            "text/html": [
              "<div>\n",
              "<style scoped>\n",
              "    .dataframe tbody tr th:only-of-type {\n",
              "        vertical-align: middle;\n",
              "    }\n",
              "\n",
              "    .dataframe tbody tr th {\n",
              "        vertical-align: top;\n",
              "    }\n",
              "\n",
              "    .dataframe thead th {\n",
              "        text-align: right;\n",
              "    }\n",
              "</style>\n",
              "<table border=\"1\" class=\"dataframe\">\n",
              "  <thead>\n",
              "    <tr style=\"text-align: right;\">\n",
              "      <th></th>\n",
              "      <th>age</th>\n",
              "      <th>balance</th>\n",
              "      <th>campaign</th>\n",
              "      <th>previous</th>\n",
              "      <th>Target</th>\n",
              "      <th>job_0</th>\n",
              "      <th>job_1</th>\n",
              "      <th>job_2</th>\n",
              "      <th>job_3</th>\n",
              "      <th>job_4</th>\n",
              "      <th>job_5</th>\n",
              "      <th>job_6</th>\n",
              "      <th>job_7</th>\n",
              "      <th>job_8</th>\n",
              "      <th>job_9</th>\n",
              "      <th>job_10</th>\n",
              "      <th>marital_0</th>\n",
              "      <th>marital_1</th>\n",
              "      <th>marital_2</th>\n",
              "      <th>education_0</th>\n",
              "      <th>education_1</th>\n",
              "      <th>education_2</th>\n",
              "      <th>default_0</th>\n",
              "      <th>default_1</th>\n",
              "      <th>housing_0</th>\n",
              "      <th>housing_1</th>\n",
              "      <th>loan_0</th>\n",
              "      <th>loan_1</th>\n",
              "      <th>contact_0</th>\n",
              "      <th>contact_1</th>\n",
              "      <th>day_0</th>\n",
              "      <th>day_1</th>\n",
              "      <th>day_2</th>\n",
              "      <th>day_3</th>\n",
              "      <th>day_4</th>\n",
              "      <th>day_5</th>\n",
              "      <th>day_6</th>\n",
              "      <th>day_7</th>\n",
              "      <th>day_8</th>\n",
              "      <th>day_9</th>\n",
              "      <th>day_10</th>\n",
              "      <th>day_11</th>\n",
              "      <th>day_12</th>\n",
              "      <th>day_13</th>\n",
              "      <th>day_14</th>\n",
              "      <th>day_15</th>\n",
              "      <th>day_16</th>\n",
              "      <th>day_17</th>\n",
              "      <th>day_18</th>\n",
              "      <th>day_19</th>\n",
              "      <th>day_20</th>\n",
              "      <th>day_21</th>\n",
              "      <th>day_22</th>\n",
              "      <th>day_23</th>\n",
              "      <th>day_24</th>\n",
              "      <th>day_25</th>\n",
              "      <th>day_26</th>\n",
              "      <th>day_27</th>\n",
              "      <th>day_28</th>\n",
              "      <th>day_29</th>\n",
              "      <th>day_30</th>\n",
              "      <th>month_0</th>\n",
              "      <th>month_1</th>\n",
              "      <th>month_2</th>\n",
              "      <th>month_3</th>\n",
              "      <th>month_4</th>\n",
              "      <th>month_5</th>\n",
              "      <th>month_6</th>\n",
              "      <th>month_7</th>\n",
              "      <th>month_8</th>\n",
              "      <th>month_9</th>\n",
              "      <th>month_10</th>\n",
              "      <th>month_11</th>\n",
              "    </tr>\n",
              "  </thead>\n",
              "  <tbody>\n",
              "    <tr>\n",
              "      <th>59848</th>\n",
              "      <td>0.148653</td>\n",
              "      <td>2.383245</td>\n",
              "      <td>1.479583</td>\n",
              "      <td>0.0</td>\n",
              "      <td>no</td>\n",
              "      <td>0</td>\n",
              "      <td>1</td>\n",
              "      <td>0</td>\n",
              "      <td>0</td>\n",
              "      <td>0</td>\n",
              "      <td>0</td>\n",
              "      <td>0</td>\n",
              "      <td>0</td>\n",
              "      <td>0</td>\n",
              "      <td>0</td>\n",
              "      <td>0</td>\n",
              "      <td>0</td>\n",
              "      <td>1</td>\n",
              "      <td>0</td>\n",
              "      <td>1</td>\n",
              "      <td>0</td>\n",
              "      <td>0</td>\n",
              "      <td>1</td>\n",
              "      <td>0</td>\n",
              "      <td>0</td>\n",
              "      <td>1</td>\n",
              "      <td>1</td>\n",
              "      <td>0</td>\n",
              "      <td>1</td>\n",
              "      <td>0</td>\n",
              "      <td>0</td>\n",
              "      <td>0</td>\n",
              "      <td>0</td>\n",
              "      <td>0</td>\n",
              "      <td>0</td>\n",
              "      <td>0</td>\n",
              "      <td>0</td>\n",
              "      <td>0</td>\n",
              "      <td>0</td>\n",
              "      <td>0</td>\n",
              "      <td>0</td>\n",
              "      <td>0</td>\n",
              "      <td>0</td>\n",
              "      <td>0</td>\n",
              "      <td>1</td>\n",
              "      <td>0</td>\n",
              "      <td>0</td>\n",
              "      <td>0</td>\n",
              "      <td>0</td>\n",
              "      <td>0</td>\n",
              "      <td>0</td>\n",
              "      <td>0</td>\n",
              "      <td>0</td>\n",
              "      <td>0</td>\n",
              "      <td>0</td>\n",
              "      <td>0</td>\n",
              "      <td>0</td>\n",
              "      <td>0</td>\n",
              "      <td>0</td>\n",
              "      <td>0</td>\n",
              "      <td>0</td>\n",
              "      <td>0</td>\n",
              "      <td>0</td>\n",
              "      <td>0</td>\n",
              "      <td>0</td>\n",
              "      <td>0</td>\n",
              "      <td>0</td>\n",
              "      <td>0</td>\n",
              "      <td>0</td>\n",
              "      <td>1</td>\n",
              "      <td>0</td>\n",
              "      <td>0</td>\n",
              "      <td>0</td>\n",
              "    </tr>\n",
              "    <tr>\n",
              "      <th>59849</th>\n",
              "      <td>-0.352937</td>\n",
              "      <td>1.994347</td>\n",
              "      <td>-0.086896</td>\n",
              "      <td>0.0</td>\n",
              "      <td>no</td>\n",
              "      <td>0</td>\n",
              "      <td>0</td>\n",
              "      <td>0</td>\n",
              "      <td>0</td>\n",
              "      <td>0</td>\n",
              "      <td>0</td>\n",
              "      <td>0</td>\n",
              "      <td>0</td>\n",
              "      <td>0</td>\n",
              "      <td>1</td>\n",
              "      <td>0</td>\n",
              "      <td>0</td>\n",
              "      <td>1</td>\n",
              "      <td>0</td>\n",
              "      <td>0</td>\n",
              "      <td>1</td>\n",
              "      <td>0</td>\n",
              "      <td>1</td>\n",
              "      <td>0</td>\n",
              "      <td>1</td>\n",
              "      <td>0</td>\n",
              "      <td>1</td>\n",
              "      <td>0</td>\n",
              "      <td>1</td>\n",
              "      <td>0</td>\n",
              "      <td>0</td>\n",
              "      <td>0</td>\n",
              "      <td>0</td>\n",
              "      <td>0</td>\n",
              "      <td>0</td>\n",
              "      <td>0</td>\n",
              "      <td>0</td>\n",
              "      <td>0</td>\n",
              "      <td>0</td>\n",
              "      <td>0</td>\n",
              "      <td>0</td>\n",
              "      <td>0</td>\n",
              "      <td>0</td>\n",
              "      <td>0</td>\n",
              "      <td>0</td>\n",
              "      <td>0</td>\n",
              "      <td>0</td>\n",
              "      <td>0</td>\n",
              "      <td>0</td>\n",
              "      <td>1</td>\n",
              "      <td>0</td>\n",
              "      <td>0</td>\n",
              "      <td>0</td>\n",
              "      <td>0</td>\n",
              "      <td>0</td>\n",
              "      <td>0</td>\n",
              "      <td>0</td>\n",
              "      <td>0</td>\n",
              "      <td>0</td>\n",
              "      <td>0</td>\n",
              "      <td>0</td>\n",
              "      <td>0</td>\n",
              "      <td>0</td>\n",
              "      <td>0</td>\n",
              "      <td>0</td>\n",
              "      <td>0</td>\n",
              "      <td>0</td>\n",
              "      <td>1</td>\n",
              "      <td>0</td>\n",
              "      <td>0</td>\n",
              "      <td>0</td>\n",
              "      <td>0</td>\n",
              "      <td>0</td>\n",
              "    </tr>\n",
              "    <tr>\n",
              "      <th>59850</th>\n",
              "      <td>-0.854527</td>\n",
              "      <td>0.381048</td>\n",
              "      <td>1.479583</td>\n",
              "      <td>0.0</td>\n",
              "      <td>no</td>\n",
              "      <td>1</td>\n",
              "      <td>0</td>\n",
              "      <td>0</td>\n",
              "      <td>0</td>\n",
              "      <td>0</td>\n",
              "      <td>0</td>\n",
              "      <td>0</td>\n",
              "      <td>0</td>\n",
              "      <td>0</td>\n",
              "      <td>0</td>\n",
              "      <td>0</td>\n",
              "      <td>0</td>\n",
              "      <td>1</td>\n",
              "      <td>0</td>\n",
              "      <td>0</td>\n",
              "      <td>1</td>\n",
              "      <td>0</td>\n",
              "      <td>1</td>\n",
              "      <td>0</td>\n",
              "      <td>0</td>\n",
              "      <td>1</td>\n",
              "      <td>1</td>\n",
              "      <td>0</td>\n",
              "      <td>1</td>\n",
              "      <td>0</td>\n",
              "      <td>0</td>\n",
              "      <td>0</td>\n",
              "      <td>0</td>\n",
              "      <td>0</td>\n",
              "      <td>0</td>\n",
              "      <td>0</td>\n",
              "      <td>0</td>\n",
              "      <td>0</td>\n",
              "      <td>0</td>\n",
              "      <td>0</td>\n",
              "      <td>0</td>\n",
              "      <td>0</td>\n",
              "      <td>0</td>\n",
              "      <td>0</td>\n",
              "      <td>0</td>\n",
              "      <td>0</td>\n",
              "      <td>1</td>\n",
              "      <td>0</td>\n",
              "      <td>0</td>\n",
              "      <td>0</td>\n",
              "      <td>0</td>\n",
              "      <td>0</td>\n",
              "      <td>0</td>\n",
              "      <td>0</td>\n",
              "      <td>0</td>\n",
              "      <td>0</td>\n",
              "      <td>0</td>\n",
              "      <td>0</td>\n",
              "      <td>0</td>\n",
              "      <td>0</td>\n",
              "      <td>0</td>\n",
              "      <td>1</td>\n",
              "      <td>0</td>\n",
              "      <td>0</td>\n",
              "      <td>0</td>\n",
              "      <td>0</td>\n",
              "      <td>0</td>\n",
              "      <td>0</td>\n",
              "      <td>0</td>\n",
              "      <td>0</td>\n",
              "      <td>0</td>\n",
              "      <td>0</td>\n",
              "      <td>0</td>\n",
              "    </tr>\n",
              "    <tr>\n",
              "      <th>59851</th>\n",
              "      <td>1.252152</td>\n",
              "      <td>-0.392984</td>\n",
              "      <td>0.696344</td>\n",
              "      <td>0.0</td>\n",
              "      <td>yes</td>\n",
              "      <td>0</td>\n",
              "      <td>1</td>\n",
              "      <td>0</td>\n",
              "      <td>0</td>\n",
              "      <td>0</td>\n",
              "      <td>0</td>\n",
              "      <td>0</td>\n",
              "      <td>0</td>\n",
              "      <td>0</td>\n",
              "      <td>0</td>\n",
              "      <td>0</td>\n",
              "      <td>0</td>\n",
              "      <td>1</td>\n",
              "      <td>0</td>\n",
              "      <td>1</td>\n",
              "      <td>0</td>\n",
              "      <td>0</td>\n",
              "      <td>1</td>\n",
              "      <td>0</td>\n",
              "      <td>1</td>\n",
              "      <td>0</td>\n",
              "      <td>1</td>\n",
              "      <td>0</td>\n",
              "      <td>1</td>\n",
              "      <td>0</td>\n",
              "      <td>0</td>\n",
              "      <td>0</td>\n",
              "      <td>0</td>\n",
              "      <td>0</td>\n",
              "      <td>0</td>\n",
              "      <td>0</td>\n",
              "      <td>0</td>\n",
              "      <td>0</td>\n",
              "      <td>0</td>\n",
              "      <td>0</td>\n",
              "      <td>0</td>\n",
              "      <td>0</td>\n",
              "      <td>0</td>\n",
              "      <td>0</td>\n",
              "      <td>0</td>\n",
              "      <td>0</td>\n",
              "      <td>0</td>\n",
              "      <td>0</td>\n",
              "      <td>0</td>\n",
              "      <td>0</td>\n",
              "      <td>0</td>\n",
              "      <td>0</td>\n",
              "      <td>0</td>\n",
              "      <td>0</td>\n",
              "      <td>0</td>\n",
              "      <td>0</td>\n",
              "      <td>0</td>\n",
              "      <td>1</td>\n",
              "      <td>0</td>\n",
              "      <td>0</td>\n",
              "      <td>0</td>\n",
              "      <td>0</td>\n",
              "      <td>0</td>\n",
              "      <td>0</td>\n",
              "      <td>0</td>\n",
              "      <td>0</td>\n",
              "      <td>1</td>\n",
              "      <td>0</td>\n",
              "      <td>0</td>\n",
              "      <td>0</td>\n",
              "      <td>0</td>\n",
              "      <td>0</td>\n",
              "      <td>0</td>\n",
              "    </tr>\n",
              "    <tr>\n",
              "      <th>59852</th>\n",
              "      <td>-0.854527</td>\n",
              "      <td>-0.454455</td>\n",
              "      <td>2.262823</td>\n",
              "      <td>0.0</td>\n",
              "      <td>no</td>\n",
              "      <td>0</td>\n",
              "      <td>0</td>\n",
              "      <td>0</td>\n",
              "      <td>0</td>\n",
              "      <td>0</td>\n",
              "      <td>0</td>\n",
              "      <td>0</td>\n",
              "      <td>0</td>\n",
              "      <td>0</td>\n",
              "      <td>1</td>\n",
              "      <td>0</td>\n",
              "      <td>0</td>\n",
              "      <td>0</td>\n",
              "      <td>1</td>\n",
              "      <td>0</td>\n",
              "      <td>0</td>\n",
              "      <td>1</td>\n",
              "      <td>1</td>\n",
              "      <td>0</td>\n",
              "      <td>0</td>\n",
              "      <td>1</td>\n",
              "      <td>1</td>\n",
              "      <td>0</td>\n",
              "      <td>1</td>\n",
              "      <td>0</td>\n",
              "      <td>0</td>\n",
              "      <td>1</td>\n",
              "      <td>0</td>\n",
              "      <td>0</td>\n",
              "      <td>0</td>\n",
              "      <td>0</td>\n",
              "      <td>0</td>\n",
              "      <td>0</td>\n",
              "      <td>0</td>\n",
              "      <td>0</td>\n",
              "      <td>0</td>\n",
              "      <td>0</td>\n",
              "      <td>0</td>\n",
              "      <td>0</td>\n",
              "      <td>0</td>\n",
              "      <td>0</td>\n",
              "      <td>0</td>\n",
              "      <td>0</td>\n",
              "      <td>0</td>\n",
              "      <td>0</td>\n",
              "      <td>0</td>\n",
              "      <td>0</td>\n",
              "      <td>0</td>\n",
              "      <td>0</td>\n",
              "      <td>0</td>\n",
              "      <td>0</td>\n",
              "      <td>0</td>\n",
              "      <td>0</td>\n",
              "      <td>0</td>\n",
              "      <td>0</td>\n",
              "      <td>0</td>\n",
              "      <td>0</td>\n",
              "      <td>0</td>\n",
              "      <td>0</td>\n",
              "      <td>0</td>\n",
              "      <td>0</td>\n",
              "      <td>0</td>\n",
              "      <td>1</td>\n",
              "      <td>0</td>\n",
              "      <td>0</td>\n",
              "      <td>0</td>\n",
              "      <td>0</td>\n",
              "      <td>0</td>\n",
              "    </tr>\n",
              "  </tbody>\n",
              "</table>\n",
              "</div>"
            ],
            "text/plain": [
              "            age   balance  campaign  ...  month_9 month_10  month_11\n",
              "59848  0.148653  2.383245  1.479583  ...        0        0         0\n",
              "59849 -0.352937  1.994347 -0.086896  ...        0        0         0\n",
              "59850 -0.854527  0.381048  1.479583  ...        0        0         0\n",
              "59851  1.252152 -0.392984  0.696344  ...        0        0         0\n",
              "59852 -0.854527 -0.454455  2.262823  ...        0        0         0\n",
              "\n",
              "[5 rows x 73 columns]"
            ]
          },
          "metadata": {},
          "execution_count": 168
        }
      ],
      "source": [
        "test.drop(['source'], axis=1, inplace=True)\n",
        "test.head()"
      ]
    },
    {
      "cell_type": "code",
      "execution_count": 169,
      "metadata": {
        "id": "7C5wtRoLzTKO"
      },
      "outputs": [],
      "source": [
        "X_train = train.drop(['Target'], axis=1)\n",
        "X_test = test.drop(['Target'], axis=1)\n",
        "y_train = train['Target']\n",
        "y_test = test['Target']"
      ]
    },
    {
      "cell_type": "markdown",
      "metadata": {
        "id": "MXJIaF0_zTKP"
      },
      "source": [
        "## Model Building"
      ]
    },
    {
      "cell_type": "markdown",
      "metadata": {
        "id": "g8tV2TeJzTKP"
      },
      "source": [
        "### Logistic Regression"
      ]
    },
    {
      "cell_type": "code",
      "execution_count": 170,
      "metadata": {
        "colab": {
          "base_uri": "https://localhost:8080/",
          "height": 0
        },
        "id": "TcdaLfyezTKP",
        "outputId": "819f956c-c652-491d-9696-efa90c64aae3"
      },
      "outputs": [
        {
          "output_type": "display_data",
          "data": {
            "application/javascript": [
              "\n",
              "        if (window._pyforest_update_imports_cell) { window._pyforest_update_imports_cell('from sklearn.model_selection import KFold\\nfrom sklearn.model_selection import cross_val_score\\nfrom statsmodels.tsa.arima_model import ARIMA\\nimport tqdm\\nfrom sklearn.model_selection import train_test_split\\nfrom sklearn import metrics\\nimport pandas as pd\\nimport keras\\nimport textblob\\nimport altair as alt\\nimport tensorflow as tf\\nimport seaborn as sns\\nimport numpy as np\\nfrom sklearn.linear_model import LogisticRegression\\nimport torch\\nimport bokeh\\nimport cv2\\nimport matplotlib.pyplot as plt\\nfrom sklearn.preprocessing import StandardScaler\\nfrom sklearn.feature_extraction.text import CountVectorizer\\nfrom sklearn.preprocessing import LabelEncoder'); }\n",
              "    "
            ],
            "text/plain": [
              "<IPython.core.display.Javascript object>"
            ]
          },
          "metadata": {}
        },
        {
          "output_type": "execute_result",
          "data": {
            "text/plain": [
              "LogisticRegression(random_state=1)"
            ]
          },
          "metadata": {},
          "execution_count": 170
        }
      ],
      "source": [
        "LR=LogisticRegression(random_state=1)\n",
        "\n",
        "LR.fit(X_train,y_train)"
      ]
    },
    {
      "cell_type": "code",
      "execution_count": 181,
      "metadata": {
        "colab": {
          "base_uri": "https://localhost:8080/"
        },
        "id": "7HeQSHKuzTKQ",
        "outputId": "4d51ea75-bfdd-45bb-ec3c-b2694b106235"
      },
      "outputs": [
        {
          "output_type": "execute_result",
          "data": {
            "text/plain": [
              "0.6769816869402486"
            ]
          },
          "metadata": {},
          "execution_count": 181
        }
      ],
      "source": [
        "train_score=LR.score(X_train, y_train)\n",
        "train_score"
      ]
    },
    {
      "cell_type": "code",
      "execution_count": 182,
      "metadata": {
        "colab": {
          "base_uri": "https://localhost:8080/"
        },
        "id": "KFJL34FJzTKR",
        "outputId": "e41e541b-4f1f-4110-c40f-f5c97724534b"
      },
      "outputs": [
        {
          "output_type": "execute_result",
          "data": {
            "text/plain": [
              "0.7099000265416261"
            ]
          },
          "metadata": {},
          "execution_count": 182
        }
      ],
      "source": [
        "test_score=LR.score(X_test, y_test)\n",
        "test_score"
      ]
    },
    {
      "cell_type": "code",
      "execution_count": 183,
      "metadata": {
        "id": "reoM7aAuzTKR"
      },
      "outputs": [],
      "source": [
        "LR_pred=LR.predict(X_test)"
      ]
    },
    {
      "cell_type": "code",
      "execution_count": 184,
      "metadata": {
        "colab": {
          "base_uri": "https://localhost:8080/",
          "height": 0
        },
        "id": "jGyztvtWzTKS",
        "outputId": "0d4b1166-4fc2-4a43-ecd5-1b019a75f687"
      },
      "outputs": [
        {
          "output_type": "display_data",
          "data": {
            "application/javascript": [
              "\n",
              "        if (window._pyforest_update_imports_cell) { window._pyforest_update_imports_cell('from sklearn.model_selection import KFold\\nfrom sklearn.model_selection import cross_val_score\\nfrom statsmodels.tsa.arima_model import ARIMA\\nimport tqdm\\nfrom sklearn.model_selection import train_test_split\\nfrom sklearn import metrics\\nimport pandas as pd\\nimport keras\\nimport textblob\\nimport altair as alt\\nimport tensorflow as tf\\nimport seaborn as sns\\nimport numpy as np\\nfrom sklearn.linear_model import LogisticRegression\\nimport torch\\nimport bokeh\\nimport cv2\\nimport matplotlib.pyplot as plt\\nfrom sklearn.preprocessing import StandardScaler\\nfrom sklearn.feature_extraction.text import CountVectorizer\\nfrom sklearn.preprocessing import LabelEncoder'); }\n",
              "    "
            ],
            "text/plain": [
              "<IPython.core.display.Javascript object>"
            ]
          },
          "metadata": {}
        },
        {
          "output_type": "execute_result",
          "data": {
            "text/plain": [
              "array([[7192, 2806],\n",
              "       [ 473,  832]])"
            ]
          },
          "metadata": {},
          "execution_count": 184
        }
      ],
      "source": [
        "cm=metrics.confusion_matrix(y_test,LR_pred,labels=['no','yes'])\n",
        "cm"
      ]
    },
    {
      "cell_type": "code",
      "execution_count": 185,
      "metadata": {
        "colab": {
          "base_uri": "https://localhost:8080/",
          "height": 0
        },
        "id": "VNu_ouOFzTKS",
        "outputId": "14007624-f9e2-4bbd-9f90-6abe8d61e3f7"
      },
      "outputs": [
        {
          "output_type": "display_data",
          "data": {
            "application/javascript": [
              "\n",
              "        if (window._pyforest_update_imports_cell) { window._pyforest_update_imports_cell('from sklearn.model_selection import KFold\\nfrom sklearn.model_selection import cross_val_score\\nfrom statsmodels.tsa.arima_model import ARIMA\\nimport tqdm\\nfrom sklearn.model_selection import train_test_split\\nfrom sklearn import metrics\\nimport pandas as pd\\nimport keras\\nimport textblob\\nimport altair as alt\\nimport tensorflow as tf\\nimport seaborn as sns\\nimport numpy as np\\nfrom sklearn.linear_model import LogisticRegression\\nimport torch\\nimport bokeh\\nimport cv2\\nimport matplotlib.pyplot as plt\\nfrom sklearn.preprocessing import StandardScaler\\nfrom sklearn.feature_extraction.text import CountVectorizer\\nfrom sklearn.preprocessing import LabelEncoder'); }\n",
              "    "
            ],
            "text/plain": [
              "<IPython.core.display.Javascript object>"
            ]
          },
          "metadata": {}
        },
        {
          "output_type": "execute_result",
          "data": {
            "text/html": [
              "<div>\n",
              "<style scoped>\n",
              "    .dataframe tbody tr th:only-of-type {\n",
              "        vertical-align: middle;\n",
              "    }\n",
              "\n",
              "    .dataframe tbody tr th {\n",
              "        vertical-align: top;\n",
              "    }\n",
              "\n",
              "    .dataframe thead th {\n",
              "        text-align: right;\n",
              "    }\n",
              "</style>\n",
              "<table border=\"1\" class=\"dataframe\">\n",
              "  <thead>\n",
              "    <tr style=\"text-align: right;\">\n",
              "      <th></th>\n",
              "      <th>Predicted no</th>\n",
              "      <th>Predicted yes</th>\n",
              "    </tr>\n",
              "  </thead>\n",
              "  <tbody>\n",
              "    <tr>\n",
              "      <th>Real no</th>\n",
              "      <td>7192</td>\n",
              "      <td>2806</td>\n",
              "    </tr>\n",
              "    <tr>\n",
              "      <th>Real yes</th>\n",
              "      <td>473</td>\n",
              "      <td>832</td>\n",
              "    </tr>\n",
              "  </tbody>\n",
              "</table>\n",
              "</div>"
            ],
            "text/plain": [
              "          Predicted no  Predicted yes\n",
              "Real no           7192           2806\n",
              "Real yes           473            832"
            ]
          },
          "metadata": {},
          "execution_count": 185
        }
      ],
      "source": [
        "df_cm=pd.DataFrame(cm,index=[i for i in ['Real no','Real yes']],columns=[i for i in ['Predicted no', 'Predicted yes']])\n",
        "df_cm"
      ]
    },
    {
      "cell_type": "code",
      "execution_count": 186,
      "metadata": {
        "colab": {
          "base_uri": "https://localhost:8080/",
          "height": 0
        },
        "id": "8TG74EXWzTKT",
        "outputId": "2b77f65e-3f58-4fe4-cdb2-97d469ab8f55"
      },
      "outputs": [
        {
          "output_type": "display_data",
          "data": {
            "application/javascript": [
              "\n",
              "        if (window._pyforest_update_imports_cell) { window._pyforest_update_imports_cell('from sklearn.model_selection import KFold\\nfrom sklearn.model_selection import cross_val_score\\nfrom statsmodels.tsa.arima_model import ARIMA\\nimport tqdm\\nfrom sklearn.model_selection import train_test_split\\nfrom sklearn import metrics\\nimport pandas as pd\\nimport keras\\nimport textblob\\nimport altair as alt\\nimport tensorflow as tf\\nimport seaborn as sns\\nimport numpy as np\\nfrom sklearn.linear_model import LogisticRegression\\nimport torch\\nimport bokeh\\nimport cv2\\nimport matplotlib.pyplot as plt\\nfrom sklearn.preprocessing import StandardScaler\\nfrom sklearn.feature_extraction.text import CountVectorizer\\nfrom sklearn.preprocessing import LabelEncoder'); }\n",
              "    "
            ],
            "text/plain": [
              "<IPython.core.display.Javascript object>"
            ]
          },
          "metadata": {}
        },
        {
          "output_type": "display_data",
          "data": {
            "application/javascript": [
              "\n",
              "        if (window._pyforest_update_imports_cell) { window._pyforest_update_imports_cell('from sklearn.model_selection import KFold\\nfrom sklearn.model_selection import cross_val_score\\nfrom statsmodels.tsa.arima_model import ARIMA\\nimport tqdm\\nfrom sklearn.model_selection import train_test_split\\nfrom sklearn import metrics\\nimport pandas as pd\\nimport keras\\nimport textblob\\nimport altair as alt\\nimport tensorflow as tf\\nimport seaborn as sns\\nimport numpy as np\\nfrom sklearn.linear_model import LogisticRegression\\nimport torch\\nimport bokeh\\nimport cv2\\nimport matplotlib.pyplot as plt\\nfrom sklearn.preprocessing import StandardScaler\\nfrom sklearn.feature_extraction.text import CountVectorizer\\nfrom sklearn.preprocessing import LabelEncoder'); }\n",
              "    "
            ],
            "text/plain": [
              "<IPython.core.display.Javascript object>"
            ]
          },
          "metadata": {}
        },
        {
          "output_type": "display_data",
          "data": {
            "image/png": "[encoded data removed]",
            "text/plain": [
              "<Figure size 504x360 with 2 Axes>"
            ]
          },
          "metadata": {
            "needs_background": "light"
          }
        }
      ],
      "source": [
        "plt.figure(figsize=(7,5))\n",
        "sns.heatmap(df_cm,annot=True,cmap='viridis');"
      ]
    },
    {
      "cell_type": "code",
      "execution_count": 187,
      "metadata": {
        "colab": {
          "base_uri": "https://localhost:8080/"
        },
        "id": "C91tf8vCzTKT",
        "outputId": "2d5f55e3-1da9-448c-a042-13f4b8ef1fe4"
      },
      "outputs": [
        {
          "output_type": "stream",
          "name": "stdout",
          "text": [
            "              precision    recall  f1-score   support\n",
            "\n",
            "          no       0.94      0.72      0.81      9998\n",
            "         yes       0.23      0.64      0.34      1305\n",
            "\n",
            "    accuracy                           0.71     11303\n",
            "   macro avg       0.58      0.68      0.58     11303\n",
            "weighted avg       0.86      0.71      0.76     11303\n",
            "\n"
          ]
        }
      ],
      "source": [
        "print(classification_report(y_test, LR_pred))"
      ]
    },
    {
      "cell_type": "code",
      "execution_count": 190,
      "metadata": {
        "colab": {
          "base_uri": "https://localhost:8080/",
          "height": 0
        },
        "id": "Nxo5wji-zTKU",
        "outputId": "a9a64707-4228-47a3-d846-d6bc12ad165a"
      },
      "outputs": [
        {
          "output_type": "display_data",
          "data": {
            "application/javascript": [
              "\n",
              "        if (window._pyforest_update_imports_cell) { window._pyforest_update_imports_cell('from sklearn.model_selection import KFold\\nfrom sklearn.model_selection import cross_val_score\\nfrom statsmodels.tsa.arima_model import ARIMA\\nimport tqdm\\nfrom sklearn.model_selection import train_test_split\\nfrom sklearn import metrics\\nimport pandas as pd\\nimport keras\\nimport textblob\\nimport altair as alt\\nimport tensorflow as tf\\nimport seaborn as sns\\nimport numpy as np\\nfrom sklearn.linear_model import LogisticRegression\\nimport torch\\nimport bokeh\\nimport cv2\\nimport matplotlib.pyplot as plt\\nfrom sklearn.preprocessing import StandardScaler\\nfrom sklearn.feature_extraction.text import CountVectorizer\\nfrom sklearn.preprocessing import LabelEncoder'); }\n",
              "    "
            ],
            "text/plain": [
              "<IPython.core.display.Javascript object>"
            ]
          },
          "metadata": {}
        },
        {
          "output_type": "execute_result",
          "data": {
            "text/html": [
              "<div>\n",
              "<style scoped>\n",
              "    .dataframe tbody tr th:only-of-type {\n",
              "        vertical-align: middle;\n",
              "    }\n",
              "\n",
              "    .dataframe tbody tr th {\n",
              "        vertical-align: top;\n",
              "    }\n",
              "\n",
              "    .dataframe thead th {\n",
              "        text-align: right;\n",
              "    }\n",
              "</style>\n",
              "<table border=\"1\" class=\"dataframe\">\n",
              "  <thead>\n",
              "    <tr style=\"text-align: right;\">\n",
              "      <th></th>\n",
              "      <th>Algorithm</th>\n",
              "      <th>Model Score on Train</th>\n",
              "      <th>Model Score on Test</th>\n",
              "    </tr>\n",
              "  </thead>\n",
              "  <tbody>\n",
              "    <tr>\n",
              "      <th>1</th>\n",
              "      <td>Logistic Regression</td>\n",
              "      <td>0.676982</td>\n",
              "      <td>0.7099</td>\n",
              "    </tr>\n",
              "  </tbody>\n",
              "</table>\n",
              "</div>"
            ],
            "text/plain": [
              "             Algorithm  Model Score on Train  Model Score on Test\n",
              "1  Logistic Regression              0.676982               0.7099"
            ]
          },
          "metadata": {},
          "execution_count": 190
        }
      ],
      "source": [
        "results_LR = pd.DataFrame({'Algorithm': ['Logistic Regression'],'Model Score on Train':train_score, \n",
        "                           'Model Score on Test':test_score},index={'1'})\n",
        "results = results_LR[['Algorithm','Model Score on Train','Model Score on Test']]\n",
        "results"
      ]
    },
    {
      "cell_type": "markdown",
      "metadata": {
        "id": "w07yJFBQzTKV"
      },
      "source": [
        "### SVM"
      ]
    },
    {
      "cell_type": "code",
      "execution_count": 79,
      "metadata": {
        "colab": {
          "base_uri": "https://localhost:8080/"
        },
        "id": "U0IIkH_AzTKV",
        "outputId": "39fe204b-ad1c-4210-bdfe-fea3091bbfc6"
      },
      "outputs": [
        {
          "output_type": "execute_result",
          "data": {
            "text/plain": [
              "SVC()"
            ]
          },
          "metadata": {},
          "execution_count": 79
        }
      ],
      "source": [
        "svm=SVC()\n",
        "\n",
        "svm.fit(X_train,y_train)"
      ]
    },
    {
      "cell_type": "code",
      "execution_count": 80,
      "metadata": {
        "colab": {
          "base_uri": "https://localhost:8080/"
        },
        "id": "988XhynyzTKW",
        "outputId": "51825754-2eda-4e80-fb8a-ea88d600df02"
      },
      "outputs": [
        {
          "output_type": "execute_result",
          "data": {
            "text/plain": [
              "0.8064764068974736"
            ]
          },
          "metadata": {},
          "execution_count": 80
        }
      ],
      "source": [
        "train_score=svm.score(X_train, y_train)\n",
        "train_score"
      ]
    },
    {
      "cell_type": "code",
      "execution_count": 81,
      "metadata": {
        "colab": {
          "base_uri": "https://localhost:8080/"
        },
        "id": "SvUT_yFIzTKW",
        "outputId": "ec9e5931-404d-4721-c3d9-421f72d6300a"
      },
      "outputs": [
        {
          "output_type": "execute_result",
          "data": {
            "text/plain": [
              "0.7850128284526232"
            ]
          },
          "metadata": {},
          "execution_count": 81
        }
      ],
      "source": [
        "test_score=svm.score(X_test, y_test)\n",
        "test_score"
      ]
    },
    {
      "cell_type": "code",
      "execution_count": 82,
      "metadata": {
        "id": "Qk9dBQeVzTKW"
      },
      "outputs": [],
      "source": [
        "svm_pred=svm.predict(X_test)"
      ]
    },
    {
      "cell_type": "code",
      "execution_count": 83,
      "metadata": {
        "colab": {
          "base_uri": "https://localhost:8080/",
          "height": 0
        },
        "id": "GiFlsESUzTKW",
        "outputId": "1c542e94-3d47-43bc-a58c-398d0fadb7e1"
      },
      "outputs": [
        {
          "output_type": "display_data",
          "data": {
            "application/javascript": [
              "\n",
              "        if (window._pyforest_update_imports_cell) { window._pyforest_update_imports_cell('import matplotlib.pyplot as plt\\nfrom sklearn.preprocessing import StandardScaler\\nfrom sklearn.linear_model import LogisticRegression\\nimport seaborn as sns\\nimport numpy as np\\nfrom sklearn.model_selection import KFold\\nfrom sklearn.model_selection import train_test_split\\nfrom sklearn.model_selection import cross_val_score\\nfrom sklearn import metrics\\nimport pandas as pd\\nfrom sklearn.preprocessing import LabelEncoder'); }\n",
              "    "
            ],
            "text/plain": [
              "<IPython.core.display.Javascript object>"
            ]
          },
          "metadata": {}
        },
        {
          "output_type": "execute_result",
          "data": {
            "text/plain": [
              "array([[8107, 1891],\n",
              "       [ 539,  766]])"
            ]
          },
          "metadata": {},
          "execution_count": 83
        }
      ],
      "source": [
        "cm=metrics.confusion_matrix(y_test,svm_pred,labels=['no','yes'])\n",
        "cm"
      ]
    },
    {
      "cell_type": "code",
      "execution_count": 84,
      "metadata": {
        "colab": {
          "base_uri": "https://localhost:8080/",
          "height": 0
        },
        "id": "O4cjRjwozTKX",
        "outputId": "36b7abe6-27a4-48ad-e4db-d45853e95c1c"
      },
      "outputs": [
        {
          "output_type": "display_data",
          "data": {
            "application/javascript": [
              "\n",
              "        if (window._pyforest_update_imports_cell) { window._pyforest_update_imports_cell('import matplotlib.pyplot as plt\\nfrom sklearn.preprocessing import StandardScaler\\nfrom sklearn.linear_model import LogisticRegression\\nimport seaborn as sns\\nimport numpy as np\\nfrom sklearn.model_selection import KFold\\nfrom sklearn.model_selection import train_test_split\\nfrom sklearn.model_selection import cross_val_score\\nfrom sklearn import metrics\\nimport pandas as pd\\nfrom sklearn.preprocessing import LabelEncoder'); }\n",
              "    "
            ],
            "text/plain": [
              "<IPython.core.display.Javascript object>"
            ]
          },
          "metadata": {}
        },
        {
          "output_type": "execute_result",
          "data": {
            "text/html": [
              "<div>\n",
              "<style scoped>\n",
              "    .dataframe tbody tr th:only-of-type {\n",
              "        vertical-align: middle;\n",
              "    }\n",
              "\n",
              "    .dataframe tbody tr th {\n",
              "        vertical-align: top;\n",
              "    }\n",
              "\n",
              "    .dataframe thead th {\n",
              "        text-align: right;\n",
              "    }\n",
              "</style>\n",
              "<table border=\"1\" class=\"dataframe\">\n",
              "  <thead>\n",
              "    <tr style=\"text-align: right;\">\n",
              "      <th></th>\n",
              "      <th>Predicted no</th>\n",
              "      <th>Predicted yes</th>\n",
              "    </tr>\n",
              "  </thead>\n",
              "  <tbody>\n",
              "    <tr>\n",
              "      <th>Real no</th>\n",
              "      <td>8107</td>\n",
              "      <td>1891</td>\n",
              "    </tr>\n",
              "    <tr>\n",
              "      <th>Real yes</th>\n",
              "      <td>539</td>\n",
              "      <td>766</td>\n",
              "    </tr>\n",
              "  </tbody>\n",
              "</table>\n",
              "</div>"
            ],
            "text/plain": [
              "          Predicted no  Predicted yes\n",
              "Real no           8107           1891\n",
              "Real yes           539            766"
            ]
          },
          "metadata": {},
          "execution_count": 84
        }
      ],
      "source": [
        "df_cm=pd.DataFrame(cm,index=[i for i in ['Real no','Real yes']],columns=[i for i in ['Predicted no', 'Predicted yes']])\n",
        "df_cm"
      ]
    },
    {
      "cell_type": "code",
      "execution_count": 85,
      "metadata": {
        "colab": {
          "base_uri": "https://localhost:8080/",
          "height": 0
        },
        "id": "qX6W3y0TzTKX",
        "outputId": "319a044f-614c-4143-aeac-577cd8e7f751"
      },
      "outputs": [
        {
          "output_type": "display_data",
          "data": {
            "application/javascript": [
              "\n",
              "        if (window._pyforest_update_imports_cell) { window._pyforest_update_imports_cell('import matplotlib.pyplot as plt\\nfrom sklearn.preprocessing import StandardScaler\\nfrom sklearn.linear_model import LogisticRegression\\nimport seaborn as sns\\nimport numpy as np\\nfrom sklearn.model_selection import KFold\\nfrom sklearn.model_selection import train_test_split\\nfrom sklearn.model_selection import cross_val_score\\nfrom sklearn import metrics\\nimport pandas as pd\\nfrom sklearn.preprocessing import LabelEncoder'); }\n",
              "    "
            ],
            "text/plain": [
              "<IPython.core.display.Javascript object>"
            ]
          },
          "metadata": {}
        },
        {
          "output_type": "display_data",
          "data": {
            "application/javascript": [
              "\n",
              "        if (window._pyforest_update_imports_cell) { window._pyforest_update_imports_cell('import matplotlib.pyplot as plt\\nfrom sklearn.preprocessing import StandardScaler\\nfrom sklearn.linear_model import LogisticRegression\\nimport seaborn as sns\\nimport numpy as np\\nfrom sklearn.model_selection import KFold\\nfrom sklearn.model_selection import train_test_split\\nfrom sklearn.model_selection import cross_val_score\\nfrom sklearn import metrics\\nimport pandas as pd\\nfrom sklearn.preprocessing import LabelEncoder'); }\n",
              "    "
            ],
            "text/plain": [
              "<IPython.core.display.Javascript object>"
            ]
          },
          "metadata": {}
        },
        {
          "output_type": "display_data",
          "data": {
            "image/png": "[encoded data removed]",
            "text/plain": [
              "<Figure size 504x360 with 2 Axes>"
            ]
          },
          "metadata": {
            "needs_background": "light"
          }
        }
      ],
      "source": [
        "plt.figure(figsize=(7,5))\n",
        "sns.heatmap(df_cm,annot=True,cmap='viridis');"
      ]
    },
    {
      "cell_type": "code",
      "execution_count": 86,
      "metadata": {
        "colab": {
          "base_uri": "https://localhost:8080/"
        },
        "id": "zyMDdUpNzTKY",
        "outputId": "4948b9b8-e7d2-43c2-de6f-e42dcf7719d9"
      },
      "outputs": [
        {
          "output_type": "stream",
          "name": "stdout",
          "text": [
            "              precision    recall  f1-score   support\n",
            "\n",
            "          no       0.94      0.81      0.87      9998\n",
            "         yes       0.29      0.59      0.39      1305\n",
            "\n",
            "    accuracy                           0.79     11303\n",
            "   macro avg       0.61      0.70      0.63     11303\n",
            "weighted avg       0.86      0.79      0.81     11303\n",
            "\n"
          ]
        }
      ],
      "source": [
        "print(classification_report(y_test, svm_pred))"
      ]
    },
    {
      "cell_type": "code",
      "execution_count": 192,
      "metadata": {
        "colab": {
          "base_uri": "https://localhost:8080/",
          "height": 0
        },
        "id": "JEbXpZLSzTKY",
        "outputId": "e2b3e1df-fbe4-48b5-cd55-e49ad4995ec4"
      },
      "outputs": [
        {
          "output_type": "display_data",
          "data": {
            "application/javascript": [
              "\n",
              "        if (window._pyforest_update_imports_cell) { window._pyforest_update_imports_cell('from sklearn.model_selection import KFold\\nfrom sklearn.model_selection import cross_val_score\\nfrom sklearn import svm\\nfrom statsmodels.tsa.arima_model import ARIMA\\nimport tqdm\\nfrom sklearn.model_selection import train_test_split\\nfrom sklearn import metrics\\nimport pandas as pd\\nimport keras\\nimport textblob\\nimport altair as alt\\nimport tensorflow as tf\\nimport seaborn as sns\\nimport numpy as np\\nfrom sklearn.linear_model import LogisticRegression\\nimport torch\\nimport bokeh\\nimport cv2\\nimport matplotlib.pyplot as plt\\nfrom sklearn.preprocessing import StandardScaler\\nfrom sklearn.feature_extraction.text import CountVectorizer\\nfrom sklearn.preprocessing import LabelEncoder'); }\n",
              "    "
            ],
            "text/plain": [
              "<IPython.core.display.Javascript object>"
            ]
          },
          "metadata": {}
        },
        {
          "output_type": "display_data",
          "data": {
            "application/javascript": [
              "\n",
              "        if (window._pyforest_update_imports_cell) { window._pyforest_update_imports_cell('from sklearn.model_selection import KFold\\nfrom sklearn.model_selection import cross_val_score\\nfrom sklearn import svm\\nfrom statsmodels.tsa.arima_model import ARIMA\\nimport tqdm\\nfrom sklearn.model_selection import train_test_split\\nfrom sklearn import metrics\\nimport pandas as pd\\nimport keras\\nimport textblob\\nimport altair as alt\\nimport tensorflow as tf\\nimport seaborn as sns\\nimport numpy as np\\nfrom sklearn.linear_model import LogisticRegression\\nimport torch\\nimport bokeh\\nimport cv2\\nimport matplotlib.pyplot as plt\\nfrom sklearn.preprocessing import StandardScaler\\nfrom sklearn.feature_extraction.text import CountVectorizer\\nfrom sklearn.preprocessing import LabelEncoder'); }\n",
              "    "
            ],
            "text/plain": [
              "<IPython.core.display.Javascript object>"
            ]
          },
          "metadata": {}
        },
        {
          "output_type": "execute_result",
          "data": {
            "text/html": [
              "<div>\n",
              "<style scoped>\n",
              "    .dataframe tbody tr th:only-of-type {\n",
              "        vertical-align: middle;\n",
              "    }\n",
              "\n",
              "    .dataframe tbody tr th {\n",
              "        vertical-align: top;\n",
              "    }\n",
              "\n",
              "    .dataframe thead th {\n",
              "        text-align: right;\n",
              "    }\n",
              "</style>\n",
              "<table border=\"1\" class=\"dataframe\">\n",
              "  <thead>\n",
              "    <tr style=\"text-align: right;\">\n",
              "      <th></th>\n",
              "      <th>Algorithm</th>\n",
              "      <th>Model Score on Train</th>\n",
              "      <th>Model Score on Test</th>\n",
              "    </tr>\n",
              "  </thead>\n",
              "  <tbody>\n",
              "    <tr>\n",
              "      <th>1</th>\n",
              "      <td>Logistic Regression</td>\n",
              "      <td>0.676982</td>\n",
              "      <td>0.709900</td>\n",
              "    </tr>\n",
              "    <tr>\n",
              "      <th>2</th>\n",
              "      <td>SVM</td>\n",
              "      <td>0.806476</td>\n",
              "      <td>0.785013</td>\n",
              "    </tr>\n",
              "  </tbody>\n",
              "</table>\n",
              "</div>"
            ],
            "text/plain": [
              "             Algorithm  Model Score on Train  Model Score on Test\n",
              "1  Logistic Regression              0.676982             0.709900\n",
              "2                  SVM              0.806476             0.785013"
            ]
          },
          "metadata": {},
          "execution_count": 192
        }
      ],
      "source": [
        "result_svm = pd.DataFrame({'Algorithm': ['SVM'], 'Model Score on Train':train_score, \n",
        "                           'Model Score on Test':test_score},index={'2'})\n",
        "results = pd.concat([results, result_svm])\n",
        "results = results[['Algorithm','Model Score on Train','Model Score on Test']]\n",
        "results"
      ]
    },
    {
      "cell_type": "markdown",
      "metadata": {
        "id": "xQ-qJsf2zTKb"
      },
      "source": [
        "### Decission Tree"
      ]
    },
    {
      "cell_type": "code",
      "source": [
        "DT=DecisionTreeClassifier()\n",
        "\n",
        "DT.fit(X_train, y_train)"
      ],
      "metadata": {
        "colab": {
          "base_uri": "https://localhost:8080/"
        },
        "id": "zDyCyOFv54ym",
        "outputId": "afb1498d-a3f3-41a8-d636-3c1fc07b8eef"
      },
      "execution_count": 193,
      "outputs": [
        {
          "output_type": "execute_result",
          "data": {
            "text/plain": [
              "DecisionTreeClassifier()"
            ]
          },
          "metadata": {},
          "execution_count": 193
        }
      ]
    },
    {
      "cell_type": "code",
      "execution_count": 194,
      "metadata": {
        "colab": {
          "base_uri": "https://localhost:8080/"
        },
        "id": "nKjt8Swe6hTU",
        "outputId": "c01f9b4e-a8c6-42b4-8e45-9ceb3b24c529"
      },
      "outputs": [
        {
          "output_type": "execute_result",
          "data": {
            "text/plain": [
              "0.9999164550193824"
            ]
          },
          "metadata": {},
          "execution_count": 194
        }
      ],
      "source": [
        "train_score=DT.score(X_train, y_train)\n",
        "train_score"
      ]
    },
    {
      "cell_type": "code",
      "execution_count": 195,
      "metadata": {
        "colab": {
          "base_uri": "https://localhost:8080/"
        },
        "id": "q2abVh5u6hTV",
        "outputId": "34d09ced-582e-481f-b8f2-6f2b9726b112"
      },
      "outputs": [
        {
          "output_type": "execute_result",
          "data": {
            "text/plain": [
              "0.8168627797929753"
            ]
          },
          "metadata": {},
          "execution_count": 195
        }
      ],
      "source": [
        "test_score=DT.score(X_test, y_test)\n",
        "test_score"
      ]
    },
    {
      "cell_type": "code",
      "execution_count": 196,
      "metadata": {
        "id": "JbNnlnLP6hTV"
      },
      "outputs": [],
      "source": [
        "DT_pred=DT.predict(X_test)"
      ]
    },
    {
      "cell_type": "code",
      "execution_count": 197,
      "metadata": {
        "colab": {
          "base_uri": "https://localhost:8080/",
          "height": 52
        },
        "id": "hhaZ75GF6hTV",
        "outputId": "91b3e95d-0f8e-4544-c1d7-b3b4329e56bc"
      },
      "outputs": [
        {
          "output_type": "display_data",
          "data": {
            "application/javascript": [
              "\n",
              "        if (window._pyforest_update_imports_cell) { window._pyforest_update_imports_cell('from sklearn.model_selection import KFold\\nfrom sklearn.model_selection import cross_val_score\\nfrom sklearn import svm\\nfrom statsmodels.tsa.arima_model import ARIMA\\nimport tqdm\\nfrom sklearn.model_selection import train_test_split\\nfrom sklearn import metrics\\nimport pandas as pd\\nimport keras\\nimport textblob\\nimport altair as alt\\nimport tensorflow as tf\\nimport seaborn as sns\\nimport numpy as np\\nfrom sklearn.linear_model import LogisticRegression\\nimport torch\\nimport bokeh\\nimport cv2\\nimport matplotlib.pyplot as plt\\nfrom sklearn.preprocessing import StandardScaler\\nfrom sklearn.feature_extraction.text import CountVectorizer\\nfrom sklearn.preprocessing import LabelEncoder'); }\n",
              "    "
            ],
            "text/plain": [
              "<IPython.core.display.Javascript object>"
            ]
          },
          "metadata": {}
        },
        {
          "output_type": "execute_result",
          "data": {
            "text/plain": [
              "array([[8867, 1131],\n",
              "       [ 939,  366]])"
            ]
          },
          "metadata": {},
          "execution_count": 197
        }
      ],
      "source": [
        "cm=metrics.confusion_matrix(y_test,DT_pred,labels=['no','yes'])\n",
        "cm"
      ]
    },
    {
      "cell_type": "code",
      "execution_count": 198,
      "metadata": {
        "colab": {
          "base_uri": "https://localhost:8080/",
          "height": 112
        },
        "id": "yHZSgncM6hTV",
        "outputId": "9e265188-471e-4815-ba4f-3e5bf5de1cea"
      },
      "outputs": [
        {
          "output_type": "display_data",
          "data": {
            "application/javascript": [
              "\n",
              "        if (window._pyforest_update_imports_cell) { window._pyforest_update_imports_cell('from sklearn.model_selection import KFold\\nfrom sklearn.model_selection import cross_val_score\\nfrom sklearn import svm\\nfrom statsmodels.tsa.arima_model import ARIMA\\nimport tqdm\\nfrom sklearn.model_selection import train_test_split\\nfrom sklearn import metrics\\nimport pandas as pd\\nimport keras\\nimport textblob\\nimport altair as alt\\nimport tensorflow as tf\\nimport seaborn as sns\\nimport numpy as np\\nfrom sklearn.linear_model import LogisticRegression\\nimport torch\\nimport bokeh\\nimport cv2\\nimport matplotlib.pyplot as plt\\nfrom sklearn.preprocessing import StandardScaler\\nfrom sklearn.feature_extraction.text import CountVectorizer\\nfrom sklearn.preprocessing import LabelEncoder'); }\n",
              "    "
            ],
            "text/plain": [
              "<IPython.core.display.Javascript object>"
            ]
          },
          "metadata": {}
        },
        {
          "output_type": "execute_result",
          "data": {
            "text/html": [
              "<div>\n",
              "<style scoped>\n",
              "    .dataframe tbody tr th:only-of-type {\n",
              "        vertical-align: middle;\n",
              "    }\n",
              "\n",
              "    .dataframe tbody tr th {\n",
              "        vertical-align: top;\n",
              "    }\n",
              "\n",
              "    .dataframe thead th {\n",
              "        text-align: right;\n",
              "    }\n",
              "</style>\n",
              "<table border=\"1\" class=\"dataframe\">\n",
              "  <thead>\n",
              "    <tr style=\"text-align: right;\">\n",
              "      <th></th>\n",
              "      <th>Predicted no</th>\n",
              "      <th>Predicted yes</th>\n",
              "    </tr>\n",
              "  </thead>\n",
              "  <tbody>\n",
              "    <tr>\n",
              "      <th>Real no</th>\n",
              "      <td>8867</td>\n",
              "      <td>1131</td>\n",
              "    </tr>\n",
              "    <tr>\n",
              "      <th>Real yes</th>\n",
              "      <td>939</td>\n",
              "      <td>366</td>\n",
              "    </tr>\n",
              "  </tbody>\n",
              "</table>\n",
              "</div>"
            ],
            "text/plain": [
              "          Predicted no  Predicted yes\n",
              "Real no           8867           1131\n",
              "Real yes           939            366"
            ]
          },
          "metadata": {},
          "execution_count": 198
        }
      ],
      "source": [
        "df_cm=pd.DataFrame(cm,index=[i for i in ['Real no','Real yes']],columns=[i for i in ['Predicted no', 'Predicted yes']])\n",
        "df_cm"
      ]
    },
    {
      "cell_type": "code",
      "execution_count": 199,
      "metadata": {
        "colab": {
          "base_uri": "https://localhost:8080/",
          "height": 320
        },
        "id": "bgRa1-P16hTW",
        "outputId": "ec9a1824-6b98-47e7-c9d4-1fd6d2b6e412"
      },
      "outputs": [
        {
          "output_type": "display_data",
          "data": {
            "application/javascript": [
              "\n",
              "        if (window._pyforest_update_imports_cell) { window._pyforest_update_imports_cell('from sklearn.model_selection import KFold\\nfrom sklearn.model_selection import cross_val_score\\nfrom sklearn import svm\\nfrom statsmodels.tsa.arima_model import ARIMA\\nimport tqdm\\nfrom sklearn.model_selection import train_test_split\\nfrom sklearn import metrics\\nimport pandas as pd\\nimport keras\\nimport textblob\\nimport altair as alt\\nimport tensorflow as tf\\nimport seaborn as sns\\nimport numpy as np\\nfrom sklearn.linear_model import LogisticRegression\\nimport torch\\nimport bokeh\\nimport cv2\\nimport matplotlib.pyplot as plt\\nfrom sklearn.preprocessing import StandardScaler\\nfrom sklearn.feature_extraction.text import CountVectorizer\\nfrom sklearn.preprocessing import LabelEncoder'); }\n",
              "    "
            ],
            "text/plain": [
              "<IPython.core.display.Javascript object>"
            ]
          },
          "metadata": {}
        },
        {
          "output_type": "display_data",
          "data": {
            "application/javascript": [
              "\n",
              "        if (window._pyforest_update_imports_cell) { window._pyforest_update_imports_cell('from sklearn.model_selection import KFold\\nfrom sklearn.model_selection import cross_val_score\\nfrom sklearn import svm\\nfrom statsmodels.tsa.arima_model import ARIMA\\nimport tqdm\\nfrom sklearn.model_selection import train_test_split\\nfrom sklearn import metrics\\nimport pandas as pd\\nimport keras\\nimport textblob\\nimport altair as alt\\nimport tensorflow as tf\\nimport seaborn as sns\\nimport numpy as np\\nfrom sklearn.linear_model import LogisticRegression\\nimport torch\\nimport bokeh\\nimport cv2\\nimport matplotlib.pyplot as plt\\nfrom sklearn.preprocessing import StandardScaler\\nfrom sklearn.feature_extraction.text import CountVectorizer\\nfrom sklearn.preprocessing import LabelEncoder'); }\n",
              "    "
            ],
            "text/plain": [
              "<IPython.core.display.Javascript object>"
            ]
          },
          "metadata": {}
        },
        {
          "output_type": "display_data",
          "data": {
            "image/png": "[encoded data removed]",
            "text/plain": [
              "<Figure size 504x360 with 2 Axes>"
            ]
          },
          "metadata": {
            "needs_background": "light"
          }
        }
      ],
      "source": [
        "plt.figure(figsize=(7,5))\n",
        "sns.heatmap(df_cm,annot=True,cmap='viridis');"
      ]
    },
    {
      "cell_type": "code",
      "execution_count": 200,
      "metadata": {
        "colab": {
          "base_uri": "https://localhost:8080/"
        },
        "id": "eWYN2t2T6hTW",
        "outputId": "dbb217ef-d5a6-4abc-c11d-78bdcaadb6d7"
      },
      "outputs": [
        {
          "output_type": "stream",
          "name": "stdout",
          "text": [
            "              precision    recall  f1-score   support\n",
            "\n",
            "          no       0.90      0.89      0.90      9998\n",
            "         yes       0.24      0.28      0.26      1305\n",
            "\n",
            "    accuracy                           0.82     11303\n",
            "   macro avg       0.57      0.58      0.58     11303\n",
            "weighted avg       0.83      0.82      0.82     11303\n",
            "\n"
          ]
        }
      ],
      "source": [
        "print(classification_report(y_test, DT_pred))"
      ]
    },
    {
      "cell_type": "code",
      "execution_count": 240,
      "metadata": {
        "colab": {
          "base_uri": "https://localhost:8080/",
          "height": 143
        },
        "id": "0FxmFwSQ6hTW",
        "outputId": "6263fd98-337b-4655-fbf7-1fb9539be36a"
      },
      "outputs": [
        {
          "output_type": "display_data",
          "data": {
            "application/javascript": [
              "\n",
              "        if (window._pyforest_update_imports_cell) { window._pyforest_update_imports_cell('from sklearn.model_selection import KFold\\nimport fbprophet\\nfrom sklearn.model_selection import cross_val_score\\nfrom sklearn import svm\\nimport fastai\\nimport nltk\\nfrom sklearn.cluster import KMeans\\nimport re\\nimport sklearn\\nfrom statsmodels.tsa.arima_model import ARIMA\\nimport tqdm\\nfrom sklearn.model_selection import train_test_split\\nfrom sklearn import metrics\\nimport pandas as pd\\nimport keras\\nimport textblob\\nimport altair as alt\\nfrom sklearn.feature_extraction.text import TfidfVectorizer\\nimport tensorflow as tf\\nimport imutils\\nimport seaborn as sns\\nimport numpy as np\\nfrom sklearn.linear_model import LogisticRegression\\nimport torch\\nimport bokeh\\nimport cv2\\nimport matplotlib.pyplot as plt\\nfrom sklearn.preprocessing import StandardScaler\\nfrom sklearn.manifold import TSNE\\nfrom sklearn.feature_extraction.text import CountVectorizer\\nfrom sklearn.preprocessing import LabelEncoder'); }\n",
              "    "
            ],
            "text/plain": [
              "<IPython.core.display.Javascript object>"
            ]
          },
          "metadata": {}
        },
        {
          "output_type": "display_data",
          "data": {
            "application/javascript": [
              "\n",
              "        if (window._pyforest_update_imports_cell) { window._pyforest_update_imports_cell('from sklearn.model_selection import KFold\\nimport fbprophet\\nfrom sklearn.model_selection import cross_val_score\\nfrom sklearn import svm\\nimport fastai\\nimport nltk\\nfrom sklearn.cluster import KMeans\\nimport re\\nimport sklearn\\nfrom statsmodels.tsa.arima_model import ARIMA\\nimport tqdm\\nfrom sklearn.model_selection import train_test_split\\nfrom sklearn import metrics\\nimport pandas as pd\\nimport keras\\nimport textblob\\nimport altair as alt\\nfrom sklearn.feature_extraction.text import TfidfVectorizer\\nimport tensorflow as tf\\nimport imutils\\nimport seaborn as sns\\nimport numpy as np\\nfrom sklearn.linear_model import LogisticRegression\\nimport torch\\nimport bokeh\\nimport cv2\\nimport matplotlib.pyplot as plt\\nfrom sklearn.preprocessing import StandardScaler\\nfrom sklearn.manifold import TSNE\\nfrom sklearn.feature_extraction.text import CountVectorizer\\nfrom sklearn.preprocessing import LabelEncoder'); }\n",
              "    "
            ],
            "text/plain": [
              "<IPython.core.display.Javascript object>"
            ]
          },
          "metadata": {}
        },
        {
          "output_type": "execute_result",
          "data": {
            "text/html": [
              "<div>\n",
              "<style scoped>\n",
              "    .dataframe tbody tr th:only-of-type {\n",
              "        vertical-align: middle;\n",
              "    }\n",
              "\n",
              "    .dataframe tbody tr th {\n",
              "        vertical-align: top;\n",
              "    }\n",
              "\n",
              "    .dataframe thead th {\n",
              "        text-align: right;\n",
              "    }\n",
              "</style>\n",
              "<table border=\"1\" class=\"dataframe\">\n",
              "  <thead>\n",
              "    <tr style=\"text-align: right;\">\n",
              "      <th></th>\n",
              "      <th>Algorithm</th>\n",
              "      <th>Model Score on Train</th>\n",
              "      <th>Model Score on Test</th>\n",
              "    </tr>\n",
              "  </thead>\n",
              "  <tbody>\n",
              "    <tr>\n",
              "      <th>1</th>\n",
              "      <td>Logistic Regression</td>\n",
              "      <td>0.676982</td>\n",
              "      <td>0.709900</td>\n",
              "    </tr>\n",
              "    <tr>\n",
              "      <th>2</th>\n",
              "      <td>SVM</td>\n",
              "      <td>0.806476</td>\n",
              "      <td>0.785013</td>\n",
              "    </tr>\n",
              "    <tr>\n",
              "      <th>3</th>\n",
              "      <td>Decision Tree</td>\n",
              "      <td>0.999916</td>\n",
              "      <td>0.816863</td>\n",
              "    </tr>\n",
              "  </tbody>\n",
              "</table>\n",
              "</div>"
            ],
            "text/plain": [
              "             Algorithm  Model Score on Train  Model Score on Test\n",
              "1  Logistic Regression              0.676982             0.709900\n",
              "2                  SVM              0.806476             0.785013\n",
              "3        Decision Tree              0.999916             0.816863"
            ]
          },
          "metadata": {},
          "execution_count": 240
        }
      ],
      "source": [
        "result_DT = pd.DataFrame({'Algorithm': ['Decision Tree'], 'Model Score on Train':train_score, \n",
        "                           'Model Score on Test':test_score},index={'3'})\n",
        "results = pd.concat([results, result_DT])\n",
        "results = results[['Algorithm','Model Score on Train','Model Score on Test']]\n",
        "results"
      ]
    },
    {
      "cell_type": "markdown",
      "source": [
        "### KNN"
      ],
      "metadata": {
        "id": "ghkpid86QZvX"
      }
    },
    {
      "cell_type": "code",
      "source": [
        "k=[1,3,5,7,9,11,13,15]\n",
        "test=[]\n",
        "train=[]\n",
        "for i in k:\n",
        "  knn=KNeighborsClassifier(n_neighbors=i)\n",
        "  knn.fit(X_train,y_train)\n",
        "  train.append(knn.score(X_train,y_train))\n",
        "  test.append(knn.score(X_test,y_test))"
      ],
      "metadata": {
        "id": "kSG0kiBYQc4l"
      },
      "execution_count": 224,
      "outputs": []
    },
    {
      "cell_type": "code",
      "source": [
        "plt.figure(figsize=(12,6))\n",
        "plt.plot(k,train,color='blue',linestyle='dashed',marker='o',markerfacecolor='red',markersize=10)\n",
        "plt.plot(k,test,color='red',linestyle='dashed',marker='o',markerfacecolor='blue',markersize=10)\n",
        "plt.title('Different K Values')\n",
        "plt.xlabel('K Values')\n",
        "plt.ylabel('Score')"
      ],
      "metadata": {
        "colab": {
          "base_uri": "https://localhost:8080/",
          "height": 421
        },
        "id": "ybmkBARtRXZc",
        "outputId": "969d5e45-a792-4976-83ac-4330eedf6839"
      },
      "execution_count": 227,
      "outputs": [
        {
          "output_type": "display_data",
          "data": {
            "application/javascript": [
              "\n",
              "        if (window._pyforest_update_imports_cell) { window._pyforest_update_imports_cell('from sklearn.model_selection import KFold\\nimport fbprophet\\nfrom sklearn.model_selection import cross_val_score\\nfrom sklearn import svm\\nimport fastai\\nimport nltk\\nfrom sklearn.cluster import KMeans\\nimport re\\nimport sklearn\\nfrom statsmodels.tsa.arima_model import ARIMA\\nimport tqdm\\nfrom sklearn.model_selection import train_test_split\\nfrom sklearn import metrics\\nimport pandas as pd\\nimport keras\\nimport textblob\\nimport altair as alt\\nimport tensorflow as tf\\nimport imutils\\nimport seaborn as sns\\nimport numpy as np\\nfrom sklearn.linear_model import LogisticRegression\\nimport torch\\nimport bokeh\\nimport cv2\\nimport matplotlib.pyplot as plt\\nfrom sklearn.preprocessing import StandardScaler\\nfrom sklearn.feature_extraction.text import CountVectorizer\\nfrom sklearn.preprocessing import LabelEncoder'); }\n",
              "    "
            ],
            "text/plain": [
              "<IPython.core.display.Javascript object>"
            ]
          },
          "metadata": {}
        },
        {
          "output_type": "display_data",
          "data": {
            "application/javascript": [
              "\n",
              "        if (window._pyforest_update_imports_cell) { window._pyforest_update_imports_cell('from sklearn.model_selection import KFold\\nimport fbprophet\\nfrom sklearn.model_selection import cross_val_score\\nfrom sklearn import svm\\nimport fastai\\nimport nltk\\nfrom sklearn.cluster import KMeans\\nimport re\\nimport sklearn\\nfrom statsmodels.tsa.arima_model import ARIMA\\nimport tqdm\\nfrom sklearn.model_selection import train_test_split\\nfrom sklearn import metrics\\nimport pandas as pd\\nimport keras\\nimport textblob\\nimport altair as alt\\nimport tensorflow as tf\\nimport imutils\\nimport seaborn as sns\\nimport numpy as np\\nfrom sklearn.linear_model import LogisticRegression\\nimport torch\\nimport bokeh\\nimport cv2\\nimport matplotlib.pyplot as plt\\nfrom sklearn.preprocessing import StandardScaler\\nfrom sklearn.feature_extraction.text import CountVectorizer\\nfrom sklearn.preprocessing import LabelEncoder'); }\n",
              "    "
            ],
            "text/plain": [
              "<IPython.core.display.Javascript object>"
            ]
          },
          "metadata": {}
        },
        {
          "output_type": "display_data",
          "data": {
            "application/javascript": [
              "\n",
              "        if (window._pyforest_update_imports_cell) { window._pyforest_update_imports_cell('from sklearn.model_selection import KFold\\nimport fbprophet\\nfrom sklearn.model_selection import cross_val_score\\nfrom sklearn import svm\\nimport fastai\\nimport nltk\\nfrom sklearn.cluster import KMeans\\nimport re\\nimport sklearn\\nfrom statsmodels.tsa.arima_model import ARIMA\\nimport tqdm\\nfrom sklearn.model_selection import train_test_split\\nfrom sklearn import metrics\\nimport pandas as pd\\nimport keras\\nimport textblob\\nimport altair as alt\\nimport tensorflow as tf\\nimport imutils\\nimport seaborn as sns\\nimport numpy as np\\nfrom sklearn.linear_model import LogisticRegression\\nimport torch\\nimport bokeh\\nimport cv2\\nimport matplotlib.pyplot as plt\\nfrom sklearn.preprocessing import StandardScaler\\nfrom sklearn.feature_extraction.text import CountVectorizer\\nfrom sklearn.preprocessing import LabelEncoder'); }\n",
              "    "
            ],
            "text/plain": [
              "<IPython.core.display.Javascript object>"
            ]
          },
          "metadata": {}
        },
        {
          "output_type": "display_data",
          "data": {
            "application/javascript": [
              "\n",
              "        if (window._pyforest_update_imports_cell) { window._pyforest_update_imports_cell('from sklearn.model_selection import KFold\\nimport fbprophet\\nfrom sklearn.model_selection import cross_val_score\\nfrom sklearn import svm\\nimport fastai\\nimport nltk\\nfrom sklearn.cluster import KMeans\\nimport re\\nimport sklearn\\nfrom statsmodels.tsa.arima_model import ARIMA\\nimport tqdm\\nfrom sklearn.model_selection import train_test_split\\nfrom sklearn import metrics\\nimport pandas as pd\\nimport keras\\nimport textblob\\nimport altair as alt\\nimport tensorflow as tf\\nimport imutils\\nimport seaborn as sns\\nimport numpy as np\\nfrom sklearn.linear_model import LogisticRegression\\nimport torch\\nimport bokeh\\nimport cv2\\nimport matplotlib.pyplot as plt\\nfrom sklearn.preprocessing import StandardScaler\\nfrom sklearn.feature_extraction.text import CountVectorizer\\nfrom sklearn.preprocessing import LabelEncoder'); }\n",
              "    "
            ],
            "text/plain": [
              "<IPython.core.display.Javascript object>"
            ]
          },
          "metadata": {}
        },
        {
          "output_type": "display_data",
          "data": {
            "application/javascript": [
              "\n",
              "        if (window._pyforest_update_imports_cell) { window._pyforest_update_imports_cell('from sklearn.model_selection import KFold\\nimport fbprophet\\nfrom sklearn.model_selection import cross_val_score\\nfrom sklearn import svm\\nimport fastai\\nimport nltk\\nfrom sklearn.cluster import KMeans\\nimport re\\nimport sklearn\\nfrom statsmodels.tsa.arima_model import ARIMA\\nimport tqdm\\nfrom sklearn.model_selection import train_test_split\\nfrom sklearn import metrics\\nimport pandas as pd\\nimport keras\\nimport textblob\\nimport altair as alt\\nimport tensorflow as tf\\nimport imutils\\nimport seaborn as sns\\nimport numpy as np\\nfrom sklearn.linear_model import LogisticRegression\\nimport torch\\nimport bokeh\\nimport cv2\\nimport matplotlib.pyplot as plt\\nfrom sklearn.preprocessing import StandardScaler\\nfrom sklearn.feature_extraction.text import CountVectorizer\\nfrom sklearn.preprocessing import LabelEncoder'); }\n",
              "    "
            ],
            "text/plain": [
              "<IPython.core.display.Javascript object>"
            ]
          },
          "metadata": {}
        },
        {
          "output_type": "display_data",
          "data": {
            "application/javascript": [
              "\n",
              "        if (window._pyforest_update_imports_cell) { window._pyforest_update_imports_cell('from sklearn.model_selection import KFold\\nimport fbprophet\\nfrom sklearn.model_selection import cross_val_score\\nfrom sklearn import svm\\nimport fastai\\nimport nltk\\nfrom sklearn.cluster import KMeans\\nimport re\\nimport sklearn\\nfrom statsmodels.tsa.arima_model import ARIMA\\nimport tqdm\\nfrom sklearn.model_selection import train_test_split\\nfrom sklearn import metrics\\nimport pandas as pd\\nimport keras\\nimport textblob\\nimport altair as alt\\nimport tensorflow as tf\\nimport imutils\\nimport seaborn as sns\\nimport numpy as np\\nfrom sklearn.linear_model import LogisticRegression\\nimport torch\\nimport bokeh\\nimport cv2\\nimport matplotlib.pyplot as plt\\nfrom sklearn.preprocessing import StandardScaler\\nfrom sklearn.feature_extraction.text import CountVectorizer\\nfrom sklearn.preprocessing import LabelEncoder'); }\n",
              "    "
            ],
            "text/plain": [
              "<IPython.core.display.Javascript object>"
            ]
          },
          "metadata": {}
        },
        {
          "output_type": "execute_result",
          "data": {
            "text/plain": [
              "Text(0, 0.5, 'Score')"
            ]
          },
          "metadata": {},
          "execution_count": 227
        },
        {
          "output_type": "display_data",
          "data": {
            "image/png": "[encoded data removed]",
            "text/plain": [
              "<Figure size 864x432 with 1 Axes>"
            ]
          },
          "metadata": {
            "needs_background": "light"
          }
        }
      ]
    },
    {
      "cell_type": "code",
      "source": [
        "knn=KNeighborsClassifier(n_neighbors=15)\n",
        "\n",
        "knn.fit(X_train, y_train)"
      ],
      "metadata": {
        "colab": {
          "base_uri": "https://localhost:8080/"
        },
        "outputId": "61dc64f2-b4fb-45e6-8743-7494aaa4910d",
        "id": "vM22beK8S4lW"
      },
      "execution_count": 228,
      "outputs": [
        {
          "output_type": "execute_result",
          "data": {
            "text/plain": [
              "KNeighborsClassifier(n_neighbors=15)"
            ]
          },
          "metadata": {},
          "execution_count": 228
        }
      ]
    },
    {
      "cell_type": "code",
      "execution_count": 229,
      "metadata": {
        "colab": {
          "base_uri": "https://localhost:8080/"
        },
        "outputId": "4a6110fc-4288-4c79-fac9-674a3807cca9",
        "id": "OlvZvh3lS4lX"
      },
      "outputs": [
        {
          "output_type": "execute_result",
          "data": {
            "text/plain": [
              "0.8040201844673172"
            ]
          },
          "metadata": {},
          "execution_count": 229
        }
      ],
      "source": [
        "train_score=knn.score(X_train, y_train)\n",
        "train_score"
      ]
    },
    {
      "cell_type": "code",
      "execution_count": 241,
      "metadata": {
        "colab": {
          "base_uri": "https://localhost:8080/"
        },
        "outputId": "8a96a8ce-a67c-4d9f-bf55-3b834ee0bd7f",
        "id": "NFoK8upRS4lY"
      },
      "outputs": [
        {
          "output_type": "execute_result",
          "data": {
            "text/plain": [
              "0.6675218968415465"
            ]
          },
          "metadata": {},
          "execution_count": 241
        }
      ],
      "source": [
        "test_score=knn.score(X_test, y_test)\n",
        "test_score"
      ]
    },
    {
      "cell_type": "code",
      "execution_count": 242,
      "metadata": {
        "id": "qD5bvS37S4lY"
      },
      "outputs": [],
      "source": [
        "knn_pred=knn.predict(X_test)"
      ]
    },
    {
      "cell_type": "code",
      "execution_count": 243,
      "metadata": {
        "colab": {
          "base_uri": "https://localhost:8080/",
          "height": 17
        },
        "outputId": "7efe1a48-ef01-4f19-f72d-928b6ac0cf65",
        "id": "VINEMO92S4lY"
      },
      "outputs": [
        {
          "output_type": "display_data",
          "data": {
            "application/javascript": [
              "\n",
              "        if (window._pyforest_update_imports_cell) { window._pyforest_update_imports_cell('from sklearn.model_selection import KFold\\nimport fbprophet\\nfrom sklearn.model_selection import cross_val_score\\nfrom sklearn import svm\\nimport fastai\\nimport nltk\\nfrom sklearn.cluster import KMeans\\nimport re\\nimport sklearn\\nfrom statsmodels.tsa.arima_model import ARIMA\\nimport tqdm\\nfrom sklearn.model_selection import train_test_split\\nfrom sklearn import metrics\\nimport pandas as pd\\nimport keras\\nimport textblob\\nimport altair as alt\\nfrom sklearn.feature_extraction.text import TfidfVectorizer\\nimport tensorflow as tf\\nimport imutils\\nimport seaborn as sns\\nimport numpy as np\\nfrom sklearn.linear_model import LogisticRegression\\nimport torch\\nimport bokeh\\nimport cv2\\nimport matplotlib.pyplot as plt\\nfrom sklearn.preprocessing import StandardScaler\\nfrom sklearn.manifold import TSNE\\nfrom sklearn.feature_extraction.text import CountVectorizer\\nfrom sklearn.preprocessing import LabelEncoder'); }\n",
              "    "
            ],
            "text/plain": [
              "<IPython.core.display.Javascript object>"
            ]
          },
          "metadata": {}
        }
      ],
      "source": [
        "cm=metrics.confusion_matrix(y_test,knn_pred,labels=['no','yes'])"
      ]
    },
    {
      "cell_type": "code",
      "execution_count": 244,
      "metadata": {
        "colab": {
          "base_uri": "https://localhost:8080/",
          "height": 112
        },
        "outputId": "c553eb02-037a-4779-89e1-13186e8d2d65",
        "id": "CCfid0njS4lY"
      },
      "outputs": [
        {
          "output_type": "display_data",
          "data": {
            "application/javascript": [
              "\n",
              "        if (window._pyforest_update_imports_cell) { window._pyforest_update_imports_cell('from sklearn.model_selection import KFold\\nimport fbprophet\\nfrom sklearn.model_selection import cross_val_score\\nfrom sklearn import svm\\nimport fastai\\nimport nltk\\nfrom sklearn.cluster import KMeans\\nimport re\\nimport sklearn\\nfrom statsmodels.tsa.arima_model import ARIMA\\nimport tqdm\\nfrom sklearn.model_selection import train_test_split\\nfrom sklearn import metrics\\nimport pandas as pd\\nimport keras\\nimport textblob\\nimport altair as alt\\nfrom sklearn.feature_extraction.text import TfidfVectorizer\\nimport tensorflow as tf\\nimport imutils\\nimport seaborn as sns\\nimport numpy as np\\nfrom sklearn.linear_model import LogisticRegression\\nimport torch\\nimport bokeh\\nimport cv2\\nimport matplotlib.pyplot as plt\\nfrom sklearn.preprocessing import StandardScaler\\nfrom sklearn.manifold import TSNE\\nfrom sklearn.feature_extraction.text import CountVectorizer\\nfrom sklearn.preprocessing import LabelEncoder'); }\n",
              "    "
            ],
            "text/plain": [
              "<IPython.core.display.Javascript object>"
            ]
          },
          "metadata": {}
        },
        {
          "output_type": "execute_result",
          "data": {
            "text/html": [
              "<div>\n",
              "<style scoped>\n",
              "    .dataframe tbody tr th:only-of-type {\n",
              "        vertical-align: middle;\n",
              "    }\n",
              "\n",
              "    .dataframe tbody tr th {\n",
              "        vertical-align: top;\n",
              "    }\n",
              "\n",
              "    .dataframe thead th {\n",
              "        text-align: right;\n",
              "    }\n",
              "</style>\n",
              "<table border=\"1\" class=\"dataframe\">\n",
              "  <thead>\n",
              "    <tr style=\"text-align: right;\">\n",
              "      <th></th>\n",
              "      <th>Predicted no</th>\n",
              "      <th>Predicted yes</th>\n",
              "    </tr>\n",
              "  </thead>\n",
              "  <tbody>\n",
              "    <tr>\n",
              "      <th>Real no</th>\n",
              "      <td>6773</td>\n",
              "      <td>3225</td>\n",
              "    </tr>\n",
              "    <tr>\n",
              "      <th>Real yes</th>\n",
              "      <td>533</td>\n",
              "      <td>772</td>\n",
              "    </tr>\n",
              "  </tbody>\n",
              "</table>\n",
              "</div>"
            ],
            "text/plain": [
              "          Predicted no  Predicted yes\n",
              "Real no           6773           3225\n",
              "Real yes           533            772"
            ]
          },
          "metadata": {},
          "execution_count": 244
        }
      ],
      "source": [
        "df_cm=pd.DataFrame(cm,index=[i for i in ['Real no','Real yes']],columns=[i for i in ['Predicted no', 'Predicted yes']])\n",
        "df_cm"
      ]
    },
    {
      "cell_type": "code",
      "execution_count": 245,
      "metadata": {
        "colab": {
          "base_uri": "https://localhost:8080/",
          "height": 320
        },
        "outputId": "bde6847e-72bf-4fba-b416-ca187852fc09",
        "id": "lpRNrWUgS4lZ"
      },
      "outputs": [
        {
          "output_type": "display_data",
          "data": {
            "application/javascript": [
              "\n",
              "        if (window._pyforest_update_imports_cell) { window._pyforest_update_imports_cell('from sklearn.model_selection import KFold\\nimport fbprophet\\nfrom sklearn.model_selection import cross_val_score\\nfrom sklearn import svm\\nimport fastai\\nimport nltk\\nfrom sklearn.cluster import KMeans\\nimport re\\nimport sklearn\\nfrom statsmodels.tsa.arima_model import ARIMA\\nimport tqdm\\nfrom sklearn.model_selection import train_test_split\\nfrom sklearn import metrics\\nimport pandas as pd\\nimport keras\\nimport textblob\\nimport altair as alt\\nfrom sklearn.feature_extraction.text import TfidfVectorizer\\nimport tensorflow as tf\\nimport imutils\\nimport seaborn as sns\\nimport numpy as np\\nfrom sklearn.linear_model import LogisticRegression\\nimport torch\\nimport bokeh\\nimport cv2\\nimport matplotlib.pyplot as plt\\nfrom sklearn.preprocessing import StandardScaler\\nfrom sklearn.manifold import TSNE\\nfrom sklearn.feature_extraction.text import CountVectorizer\\nfrom sklearn.preprocessing import LabelEncoder'); }\n",
              "    "
            ],
            "text/plain": [
              "<IPython.core.display.Javascript object>"
            ]
          },
          "metadata": {}
        },
        {
          "output_type": "display_data",
          "data": {
            "application/javascript": [
              "\n",
              "        if (window._pyforest_update_imports_cell) { window._pyforest_update_imports_cell('from sklearn.model_selection import KFold\\nimport fbprophet\\nfrom sklearn.model_selection import cross_val_score\\nfrom sklearn import svm\\nimport fastai\\nimport nltk\\nfrom sklearn.cluster import KMeans\\nimport re\\nimport sklearn\\nfrom statsmodels.tsa.arima_model import ARIMA\\nimport tqdm\\nfrom sklearn.model_selection import train_test_split\\nfrom sklearn import metrics\\nimport pandas as pd\\nimport keras\\nimport textblob\\nimport altair as alt\\nfrom sklearn.feature_extraction.text import TfidfVectorizer\\nimport tensorflow as tf\\nimport imutils\\nimport seaborn as sns\\nimport numpy as np\\nfrom sklearn.linear_model import LogisticRegression\\nimport torch\\nimport bokeh\\nimport cv2\\nimport matplotlib.pyplot as plt\\nfrom sklearn.preprocessing import StandardScaler\\nfrom sklearn.manifold import TSNE\\nfrom sklearn.feature_extraction.text import CountVectorizer\\nfrom sklearn.preprocessing import LabelEncoder'); }\n",
              "    "
            ],
            "text/plain": [
              "<IPython.core.display.Javascript object>"
            ]
          },
          "metadata": {}
        },
        {
          "output_type": "display_data",
          "data": {
            "image/png": "[encoded data removed]",
            "text/plain": [
              "<Figure size 504x360 with 2 Axes>"
            ]
          },
          "metadata": {
            "needs_background": "light"
          }
        }
      ],
      "source": [
        "plt.figure(figsize=(7,5))\n",
        "sns.heatmap(df_cm,annot=True,cmap='viridis');"
      ]
    },
    {
      "cell_type": "code",
      "execution_count": 247,
      "metadata": {
        "colab": {
          "base_uri": "https://localhost:8080/"
        },
        "outputId": "73ac5373-c391-41c5-b531-61a087f9c10b",
        "id": "4BaISp0dS4lZ"
      },
      "outputs": [
        {
          "output_type": "stream",
          "name": "stdout",
          "text": [
            "              precision    recall  f1-score   support\n",
            "\n",
            "          no       0.93      0.68      0.78      9998\n",
            "         yes       0.19      0.59      0.29      1305\n",
            "\n",
            "    accuracy                           0.67     11303\n",
            "   macro avg       0.56      0.63      0.54     11303\n",
            "weighted avg       0.84      0.67      0.73     11303\n",
            "\n"
          ]
        }
      ],
      "source": [
        "print(classification_report(y_test, knn_pred))"
      ]
    },
    {
      "cell_type": "code",
      "execution_count": 250,
      "metadata": {
        "colab": {
          "base_uri": "https://localhost:8080/",
          "height": 175
        },
        "outputId": "f4ee67ac-c3af-451a-dc3d-f35757ba637f",
        "id": "KhE0YKhJS4lZ"
      },
      "outputs": [
        {
          "output_type": "display_data",
          "data": {
            "application/javascript": [
              "\n",
              "        if (window._pyforest_update_imports_cell) { window._pyforest_update_imports_cell('from sklearn.model_selection import KFold\\nimport fbprophet\\nfrom sklearn.model_selection import cross_val_score\\nfrom sklearn import svm\\nimport fastai\\nimport nltk\\nfrom sklearn.cluster import KMeans\\nimport re\\nimport sklearn\\nfrom statsmodels.tsa.arima_model import ARIMA\\nimport tqdm\\nfrom sklearn.model_selection import train_test_split\\nfrom sklearn import metrics\\nimport pandas as pd\\nimport keras\\nimport textblob\\nimport altair as alt\\nfrom sklearn.feature_extraction.text import TfidfVectorizer\\nimport tensorflow as tf\\nimport imutils\\nimport seaborn as sns\\nimport numpy as np\\nfrom sklearn.linear_model import LogisticRegression\\nimport torch\\nimport bokeh\\nimport cv2\\nimport matplotlib.pyplot as plt\\nfrom sklearn.preprocessing import StandardScaler\\nfrom sklearn.manifold import TSNE\\nfrom sklearn.feature_extraction.text import CountVectorizer\\nfrom sklearn.preprocessing import LabelEncoder'); }\n",
              "    "
            ],
            "text/plain": [
              "<IPython.core.display.Javascript object>"
            ]
          },
          "metadata": {}
        },
        {
          "output_type": "display_data",
          "data": {
            "application/javascript": [
              "\n",
              "        if (window._pyforest_update_imports_cell) { window._pyforest_update_imports_cell('from sklearn.model_selection import KFold\\nimport fbprophet\\nfrom sklearn.model_selection import cross_val_score\\nfrom sklearn import svm\\nimport fastai\\nimport nltk\\nfrom sklearn.cluster import KMeans\\nimport re\\nimport sklearn\\nfrom statsmodels.tsa.arima_model import ARIMA\\nimport tqdm\\nfrom sklearn.model_selection import train_test_split\\nfrom sklearn import metrics\\nimport pandas as pd\\nimport keras\\nimport textblob\\nimport altair as alt\\nfrom sklearn.feature_extraction.text import TfidfVectorizer\\nimport tensorflow as tf\\nimport imutils\\nimport seaborn as sns\\nimport numpy as np\\nfrom sklearn.linear_model import LogisticRegression\\nimport torch\\nimport bokeh\\nimport cv2\\nimport matplotlib.pyplot as plt\\nfrom sklearn.preprocessing import StandardScaler\\nfrom sklearn.manifold import TSNE\\nfrom sklearn.feature_extraction.text import CountVectorizer\\nfrom sklearn.preprocessing import LabelEncoder'); }\n",
              "    "
            ],
            "text/plain": [
              "<IPython.core.display.Javascript object>"
            ]
          },
          "metadata": {}
        },
        {
          "output_type": "execute_result",
          "data": {
            "text/html": [
              "<div>\n",
              "<style scoped>\n",
              "    .dataframe tbody tr th:only-of-type {\n",
              "        vertical-align: middle;\n",
              "    }\n",
              "\n",
              "    .dataframe tbody tr th {\n",
              "        vertical-align: top;\n",
              "    }\n",
              "\n",
              "    .dataframe thead th {\n",
              "        text-align: right;\n",
              "    }\n",
              "</style>\n",
              "<table border=\"1\" class=\"dataframe\">\n",
              "  <thead>\n",
              "    <tr style=\"text-align: right;\">\n",
              "      <th></th>\n",
              "      <th>Algorithm</th>\n",
              "      <th>Model Score on Train</th>\n",
              "      <th>Model Score on Test</th>\n",
              "    </tr>\n",
              "  </thead>\n",
              "  <tbody>\n",
              "    <tr>\n",
              "      <th>1</th>\n",
              "      <td>Logistic Regression</td>\n",
              "      <td>0.676982</td>\n",
              "      <td>0.709900</td>\n",
              "    </tr>\n",
              "    <tr>\n",
              "      <th>2</th>\n",
              "      <td>SVM</td>\n",
              "      <td>0.806476</td>\n",
              "      <td>0.785013</td>\n",
              "    </tr>\n",
              "    <tr>\n",
              "      <th>3</th>\n",
              "      <td>Decision Tree</td>\n",
              "      <td>0.999916</td>\n",
              "      <td>0.816863</td>\n",
              "    </tr>\n",
              "    <tr>\n",
              "      <th>4</th>\n",
              "      <td>KNN</td>\n",
              "      <td>0.999916</td>\n",
              "      <td>0.667522</td>\n",
              "    </tr>\n",
              "  </tbody>\n",
              "</table>\n",
              "</div>"
            ],
            "text/plain": [
              "             Algorithm  Model Score on Train  Model Score on Test\n",
              "1  Logistic Regression              0.676982             0.709900\n",
              "2                  SVM              0.806476             0.785013\n",
              "3        Decision Tree              0.999916             0.816863\n",
              "4                  KNN              0.999916             0.667522"
            ]
          },
          "metadata": {},
          "execution_count": 250
        }
      ],
      "source": [
        "result_knn = pd.DataFrame({'Algorithm': ['KNN'], 'Model Score on Train':train_score, \n",
        "                           'Model Score on Test':test_score},index={'4'})\n",
        "results = pd.concat([results, result_knn])\n",
        "results = results[['Algorithm','Model Score on Train','Model Score on Test']]\n",
        "results"
      ]
    },
    {
      "cell_type": "markdown",
      "metadata": {
        "id": "UXa6nIRJzTKc"
      },
      "source": [
        "### Random Forest"
      ]
    },
    {
      "cell_type": "code",
      "execution_count": 251,
      "metadata": {
        "colab": {
          "base_uri": "https://localhost:8080/"
        },
        "id": "3ABy3ANWzTKc",
        "outputId": "e4cf65d4-8426-43de-d878-be3631fefcbb"
      },
      "outputs": [
        {
          "output_type": "execute_result",
          "data": {
            "text/plain": [
              "RandomForestClassifier(criterion='entropy', n_estimators=50, random_state=1)"
            ]
          },
          "metadata": {},
          "execution_count": 251
        }
      ],
      "source": [
        "rfc=RandomForestClassifier(n_estimators=50,criterion='entropy',random_state=1)\n",
        "\n",
        "rfc.fit(X_train,y_train)"
      ]
    },
    {
      "cell_type": "code",
      "execution_count": 252,
      "metadata": {
        "colab": {
          "base_uri": "https://localhost:8080/"
        },
        "id": "eGunGDRjzTKc",
        "outputId": "f862f3ed-cd75-4eba-edff-5313795ba3e2"
      },
      "outputs": [
        {
          "output_type": "execute_result",
          "data": {
            "text/plain": [
              "0.9999164550193824"
            ]
          },
          "metadata": {},
          "execution_count": 252
        }
      ],
      "source": [
        "train_score=rfc.score(X_train, y_train)\n",
        "train_score"
      ]
    },
    {
      "cell_type": "code",
      "execution_count": 253,
      "metadata": {
        "colab": {
          "base_uri": "https://localhost:8080/"
        },
        "id": "zMDMJDgszTKd",
        "outputId": "4b5f72e1-07a3-409d-fba5-06102045332b"
      },
      "outputs": [
        {
          "output_type": "execute_result",
          "data": {
            "text/plain": [
              "0.8696806157657259"
            ]
          },
          "metadata": {},
          "execution_count": 253
        }
      ],
      "source": [
        "test_score=rfc.score(X_test, y_test)\n",
        "test_score"
      ]
    },
    {
      "cell_type": "code",
      "execution_count": 254,
      "metadata": {
        "id": "KJLhO6nszTKd"
      },
      "outputs": [],
      "source": [
        "rfc_pred=rfc.predict(X_test)"
      ]
    },
    {
      "cell_type": "code",
      "execution_count": 255,
      "metadata": {
        "colab": {
          "base_uri": "https://localhost:8080/",
          "height": 52
        },
        "id": "hyaGr5eozTKd",
        "outputId": "b9e14fa9-694c-4670-bd12-86238847750e"
      },
      "outputs": [
        {
          "output_type": "display_data",
          "data": {
            "application/javascript": [
              "\n",
              "        if (window._pyforest_update_imports_cell) { window._pyforest_update_imports_cell('from sklearn.model_selection import KFold\\nimport fbprophet\\nfrom sklearn.model_selection import cross_val_score\\nfrom sklearn import svm\\nimport fastai\\nimport nltk\\nfrom sklearn.cluster import KMeans\\nimport re\\nimport sklearn\\nfrom statsmodels.tsa.arima_model import ARIMA\\nimport tqdm\\nfrom sklearn.model_selection import train_test_split\\nfrom sklearn import metrics\\nimport pandas as pd\\nimport keras\\nimport textblob\\nimport altair as alt\\nfrom sklearn.feature_extraction.text import TfidfVectorizer\\nimport tensorflow as tf\\nimport imutils\\nimport seaborn as sns\\nimport numpy as np\\nfrom sklearn.linear_model import LogisticRegression\\nimport torch\\nimport bokeh\\nimport cv2\\nimport matplotlib.pyplot as plt\\nfrom sklearn.preprocessing import StandardScaler\\nfrom sklearn.manifold import TSNE\\nfrom sklearn.feature_extraction.text import CountVectorizer\\nfrom sklearn.preprocessing import LabelEncoder'); }\n",
              "    "
            ],
            "text/plain": [
              "<IPython.core.display.Javascript object>"
            ]
          },
          "metadata": {}
        },
        {
          "output_type": "execute_result",
          "data": {
            "text/plain": [
              "array([[9514,  484],\n",
              "       [ 989,  316]])"
            ]
          },
          "metadata": {},
          "execution_count": 255
        }
      ],
      "source": [
        "cm=metrics.confusion_matrix(y_test,rfc_pred,labels=['no','yes'])\n",
        "cm"
      ]
    },
    {
      "cell_type": "code",
      "execution_count": 256,
      "metadata": {
        "colab": {
          "base_uri": "https://localhost:8080/",
          "height": 112
        },
        "id": "k8Hxe0hSzTKd",
        "outputId": "ddc5fd06-2b62-464b-c87b-851628467710"
      },
      "outputs": [
        {
          "output_type": "display_data",
          "data": {
            "application/javascript": [
              "\n",
              "        if (window._pyforest_update_imports_cell) { window._pyforest_update_imports_cell('from sklearn.model_selection import KFold\\nimport fbprophet\\nfrom sklearn.model_selection import cross_val_score\\nfrom sklearn import svm\\nimport fastai\\nimport nltk\\nfrom sklearn.cluster import KMeans\\nimport re\\nimport sklearn\\nfrom statsmodels.tsa.arima_model import ARIMA\\nimport tqdm\\nfrom sklearn.model_selection import train_test_split\\nfrom sklearn import metrics\\nimport pandas as pd\\nimport keras\\nimport textblob\\nimport altair as alt\\nfrom sklearn.feature_extraction.text import TfidfVectorizer\\nimport tensorflow as tf\\nimport imutils\\nimport seaborn as sns\\nimport numpy as np\\nfrom sklearn.linear_model import LogisticRegression\\nimport torch\\nimport bokeh\\nimport cv2\\nimport matplotlib.pyplot as plt\\nfrom sklearn.preprocessing import StandardScaler\\nfrom sklearn.manifold import TSNE\\nfrom sklearn.feature_extraction.text import CountVectorizer\\nfrom sklearn.preprocessing import LabelEncoder'); }\n",
              "    "
            ],
            "text/plain": [
              "<IPython.core.display.Javascript object>"
            ]
          },
          "metadata": {}
        },
        {
          "output_type": "execute_result",
          "data": {
            "text/html": [
              "<div>\n",
              "<style scoped>\n",
              "    .dataframe tbody tr th:only-of-type {\n",
              "        vertical-align: middle;\n",
              "    }\n",
              "\n",
              "    .dataframe tbody tr th {\n",
              "        vertical-align: top;\n",
              "    }\n",
              "\n",
              "    .dataframe thead th {\n",
              "        text-align: right;\n",
              "    }\n",
              "</style>\n",
              "<table border=\"1\" class=\"dataframe\">\n",
              "  <thead>\n",
              "    <tr style=\"text-align: right;\">\n",
              "      <th></th>\n",
              "      <th>Predicted no</th>\n",
              "      <th>Predicted yes</th>\n",
              "    </tr>\n",
              "  </thead>\n",
              "  <tbody>\n",
              "    <tr>\n",
              "      <th>Real no</th>\n",
              "      <td>9514</td>\n",
              "      <td>484</td>\n",
              "    </tr>\n",
              "    <tr>\n",
              "      <th>Real yes</th>\n",
              "      <td>989</td>\n",
              "      <td>316</td>\n",
              "    </tr>\n",
              "  </tbody>\n",
              "</table>\n",
              "</div>"
            ],
            "text/plain": [
              "          Predicted no  Predicted yes\n",
              "Real no           9514            484\n",
              "Real yes           989            316"
            ]
          },
          "metadata": {},
          "execution_count": 256
        }
      ],
      "source": [
        "df_cm=pd.DataFrame(cm,index=[i for i in ['Real no','Real yes']],columns=[i for i in ['Predicted no', 'Predicted yes']])\n",
        "df_cm"
      ]
    },
    {
      "cell_type": "code",
      "execution_count": 257,
      "metadata": {
        "colab": {
          "base_uri": "https://localhost:8080/",
          "height": 320
        },
        "id": "YDepSJR1zTKe",
        "outputId": "694f2e95-7024-4344-bea8-9cf6dcff119b"
      },
      "outputs": [
        {
          "output_type": "display_data",
          "data": {
            "application/javascript": [
              "\n",
              "        if (window._pyforest_update_imports_cell) { window._pyforest_update_imports_cell('from sklearn.model_selection import KFold\\nimport fbprophet\\nfrom sklearn.model_selection import cross_val_score\\nfrom sklearn import svm\\nimport fastai\\nimport nltk\\nfrom sklearn.cluster import KMeans\\nimport re\\nimport sklearn\\nfrom statsmodels.tsa.arima_model import ARIMA\\nimport tqdm\\nfrom sklearn.model_selection import train_test_split\\nfrom sklearn import metrics\\nimport pandas as pd\\nimport keras\\nimport textblob\\nimport altair as alt\\nfrom sklearn.feature_extraction.text import TfidfVectorizer\\nimport tensorflow as tf\\nimport imutils\\nimport seaborn as sns\\nimport numpy as np\\nfrom sklearn.linear_model import LogisticRegression\\nimport torch\\nimport bokeh\\nimport cv2\\nimport matplotlib.pyplot as plt\\nfrom sklearn.preprocessing import StandardScaler\\nfrom sklearn.manifold import TSNE\\nfrom sklearn.feature_extraction.text import CountVectorizer\\nfrom sklearn.preprocessing import LabelEncoder'); }\n",
              "    "
            ],
            "text/plain": [
              "<IPython.core.display.Javascript object>"
            ]
          },
          "metadata": {}
        },
        {
          "output_type": "display_data",
          "data": {
            "application/javascript": [
              "\n",
              "        if (window._pyforest_update_imports_cell) { window._pyforest_update_imports_cell('from sklearn.model_selection import KFold\\nimport fbprophet\\nfrom sklearn.model_selection import cross_val_score\\nfrom sklearn import svm\\nimport fastai\\nimport nltk\\nfrom sklearn.cluster import KMeans\\nimport re\\nimport sklearn\\nfrom statsmodels.tsa.arima_model import ARIMA\\nimport tqdm\\nfrom sklearn.model_selection import train_test_split\\nfrom sklearn import metrics\\nimport pandas as pd\\nimport keras\\nimport textblob\\nimport altair as alt\\nfrom sklearn.feature_extraction.text import TfidfVectorizer\\nimport tensorflow as tf\\nimport imutils\\nimport seaborn as sns\\nimport numpy as np\\nfrom sklearn.linear_model import LogisticRegression\\nimport torch\\nimport bokeh\\nimport cv2\\nimport matplotlib.pyplot as plt\\nfrom sklearn.preprocessing import StandardScaler\\nfrom sklearn.manifold import TSNE\\nfrom sklearn.feature_extraction.text import CountVectorizer\\nfrom sklearn.preprocessing import LabelEncoder'); }\n",
              "    "
            ],
            "text/plain": [
              "<IPython.core.display.Javascript object>"
            ]
          },
          "metadata": {}
        },
        {
          "output_type": "display_data",
          "data": {
            "image/png": "[encoded data removed]",
            "text/plain": [
              "<Figure size 504x360 with 2 Axes>"
            ]
          },
          "metadata": {
            "needs_background": "light"
          }
        }
      ],
      "source": [
        "plt.figure(figsize=(7,5))\n",
        "sns.heatmap(df_cm,annot=True,cmap='viridis');"
      ]
    },
    {
      "cell_type": "code",
      "execution_count": 258,
      "metadata": {
        "colab": {
          "base_uri": "https://localhost:8080/"
        },
        "id": "knMi9emfzTKe",
        "outputId": "14eeeeed-b197-4dae-bb40-1ffd9df2202e"
      },
      "outputs": [
        {
          "output_type": "stream",
          "name": "stdout",
          "text": [
            "              precision    recall  f1-score   support\n",
            "\n",
            "          no       0.91      0.95      0.93      9998\n",
            "         yes       0.40      0.24      0.30      1305\n",
            "\n",
            "    accuracy                           0.87     11303\n",
            "   macro avg       0.65      0.60      0.61     11303\n",
            "weighted avg       0.85      0.87      0.86     11303\n",
            "\n"
          ]
        }
      ],
      "source": [
        "print(classification_report(y_test, rfc_pred))"
      ]
    },
    {
      "cell_type": "code",
      "execution_count": 259,
      "metadata": {
        "colab": {
          "base_uri": "https://localhost:8080/",
          "height": 206
        },
        "id": "3Blb6FX0zTKf",
        "outputId": "d969ad4b-6aba-4037-854d-cff5abaac540"
      },
      "outputs": [
        {
          "output_type": "display_data",
          "data": {
            "application/javascript": [
              "\n",
              "        if (window._pyforest_update_imports_cell) { window._pyforest_update_imports_cell('from sklearn.model_selection import KFold\\nimport fbprophet\\nfrom sklearn.model_selection import cross_val_score\\nfrom sklearn import svm\\nimport fastai\\nimport nltk\\nfrom sklearn.cluster import KMeans\\nimport re\\nimport sklearn\\nfrom statsmodels.tsa.arima_model import ARIMA\\nimport tqdm\\nfrom sklearn.model_selection import train_test_split\\nfrom sklearn import metrics\\nimport pandas as pd\\nimport keras\\nimport textblob\\nimport altair as alt\\nfrom sklearn.feature_extraction.text import TfidfVectorizer\\nimport tensorflow as tf\\nimport imutils\\nimport seaborn as sns\\nimport numpy as np\\nfrom sklearn.linear_model import LogisticRegression\\nimport torch\\nimport bokeh\\nimport cv2\\nimport matplotlib.pyplot as plt\\nfrom sklearn.preprocessing import StandardScaler\\nfrom sklearn.manifold import TSNE\\nfrom sklearn.feature_extraction.text import CountVectorizer\\nfrom sklearn.preprocessing import LabelEncoder'); }\n",
              "    "
            ],
            "text/plain": [
              "<IPython.core.display.Javascript object>"
            ]
          },
          "metadata": {}
        },
        {
          "output_type": "display_data",
          "data": {
            "application/javascript": [
              "\n",
              "        if (window._pyforest_update_imports_cell) { window._pyforest_update_imports_cell('from sklearn.model_selection import KFold\\nimport fbprophet\\nfrom sklearn.model_selection import cross_val_score\\nfrom sklearn import svm\\nimport fastai\\nimport nltk\\nfrom sklearn.cluster import KMeans\\nimport re\\nimport sklearn\\nfrom statsmodels.tsa.arima_model import ARIMA\\nimport tqdm\\nfrom sklearn.model_selection import train_test_split\\nfrom sklearn import metrics\\nimport pandas as pd\\nimport keras\\nimport textblob\\nimport altair as alt\\nfrom sklearn.feature_extraction.text import TfidfVectorizer\\nimport tensorflow as tf\\nimport imutils\\nimport seaborn as sns\\nimport numpy as np\\nfrom sklearn.linear_model import LogisticRegression\\nimport torch\\nimport bokeh\\nimport cv2\\nimport matplotlib.pyplot as plt\\nfrom sklearn.preprocessing import StandardScaler\\nfrom sklearn.manifold import TSNE\\nfrom sklearn.feature_extraction.text import CountVectorizer\\nfrom sklearn.preprocessing import LabelEncoder'); }\n",
              "    "
            ],
            "text/plain": [
              "<IPython.core.display.Javascript object>"
            ]
          },
          "metadata": {}
        },
        {
          "output_type": "execute_result",
          "data": {
            "text/html": [
              "<div>\n",
              "<style scoped>\n",
              "    .dataframe tbody tr th:only-of-type {\n",
              "        vertical-align: middle;\n",
              "    }\n",
              "\n",
              "    .dataframe tbody tr th {\n",
              "        vertical-align: top;\n",
              "    }\n",
              "\n",
              "    .dataframe thead th {\n",
              "        text-align: right;\n",
              "    }\n",
              "</style>\n",
              "<table border=\"1\" class=\"dataframe\">\n",
              "  <thead>\n",
              "    <tr style=\"text-align: right;\">\n",
              "      <th></th>\n",
              "      <th>Algorithm</th>\n",
              "      <th>Model Score on Train</th>\n",
              "      <th>Model Score on Test</th>\n",
              "    </tr>\n",
              "  </thead>\n",
              "  <tbody>\n",
              "    <tr>\n",
              "      <th>1</th>\n",
              "      <td>Logistic Regression</td>\n",
              "      <td>0.676982</td>\n",
              "      <td>0.709900</td>\n",
              "    </tr>\n",
              "    <tr>\n",
              "      <th>2</th>\n",
              "      <td>SVM</td>\n",
              "      <td>0.806476</td>\n",
              "      <td>0.785013</td>\n",
              "    </tr>\n",
              "    <tr>\n",
              "      <th>3</th>\n",
              "      <td>Decision Tree</td>\n",
              "      <td>0.999916</td>\n",
              "      <td>0.816863</td>\n",
              "    </tr>\n",
              "    <tr>\n",
              "      <th>4</th>\n",
              "      <td>KNN</td>\n",
              "      <td>0.999916</td>\n",
              "      <td>0.667522</td>\n",
              "    </tr>\n",
              "    <tr>\n",
              "      <th>5</th>\n",
              "      <td>Random Forest</td>\n",
              "      <td>0.999916</td>\n",
              "      <td>0.869681</td>\n",
              "    </tr>\n",
              "  </tbody>\n",
              "</table>\n",
              "</div>"
            ],
            "text/plain": [
              "             Algorithm  Model Score on Train  Model Score on Test\n",
              "1  Logistic Regression              0.676982             0.709900\n",
              "2                  SVM              0.806476             0.785013\n",
              "3        Decision Tree              0.999916             0.816863\n",
              "4                  KNN              0.999916             0.667522\n",
              "5        Random Forest              0.999916             0.869681"
            ]
          },
          "metadata": {},
          "execution_count": 259
        }
      ],
      "source": [
        "result_rfc = pd.DataFrame({'Algorithm': ['Random Forest'], 'Model Score on Train':train_score, \n",
        "                           'Model Score on Test':test_score},index={'5'})\n",
        "results = pd.concat([results, result_rfc])\n",
        "results = results[['Algorithm','Model Score on Train','Model Score on Test']]\n",
        "results"
      ]
    },
    {
      "cell_type": "markdown",
      "source": [
        "### Gradiant Boost"
      ],
      "metadata": {
        "id": "FUc9rYHPQUyp"
      }
    },
    {
      "cell_type": "code",
      "source": [
        "GB=GradientBoostingClassifier()\n",
        "\n",
        "GB.fit(X_train,y_train)"
      ],
      "metadata": {
        "colab": {
          "base_uri": "https://localhost:8080/"
        },
        "id": "expd-NFJYFP6",
        "outputId": "d9815fa1-982f-43d7-a3dc-ca32ea83abaa"
      },
      "execution_count": 261,
      "outputs": [
        {
          "output_type": "execute_result",
          "data": {
            "text/plain": [
              "GradientBoostingClassifier()"
            ]
          },
          "metadata": {},
          "execution_count": 261
        }
      ]
    },
    {
      "cell_type": "code",
      "execution_count": 262,
      "metadata": {
        "colab": {
          "base_uri": "https://localhost:8080/"
        },
        "outputId": "3d3b5e3e-1f3a-4f07-b7c2-07f93f45767b",
        "id": "nWNVqHY_YTrU"
      },
      "outputs": [
        {
          "output_type": "execute_result",
          "data": {
            "text/plain": [
              "0.7077262398075124"
            ]
          },
          "metadata": {},
          "execution_count": 262
        }
      ],
      "source": [
        "train_score=GB.score(X_train, y_train)\n",
        "train_score"
      ]
    },
    {
      "cell_type": "code",
      "execution_count": 263,
      "metadata": {
        "colab": {
          "base_uri": "https://localhost:8080/"
        },
        "outputId": "0e5fb74b-0e4f-42d4-ce10-5b5b1ceef9e0",
        "id": "obVO76w8YTrV"
      },
      "outputs": [
        {
          "output_type": "execute_result",
          "data": {
            "text/plain": [
              "0.7233477837742193"
            ]
          },
          "metadata": {},
          "execution_count": 263
        }
      ],
      "source": [
        "test_score=GB.score(X_test, y_test)\n",
        "test_score"
      ]
    },
    {
      "cell_type": "code",
      "execution_count": 264,
      "metadata": {
        "id": "eHFxZmsmYTrW"
      },
      "outputs": [],
      "source": [
        "GB_pred=GB.predict(X_test)"
      ]
    },
    {
      "cell_type": "code",
      "execution_count": 265,
      "metadata": {
        "colab": {
          "base_uri": "https://localhost:8080/",
          "height": 17
        },
        "outputId": "46a084ae-2560-4ac7-8f6e-fd0c2cdd5570",
        "id": "r_AMZGlbYTrW"
      },
      "outputs": [
        {
          "output_type": "display_data",
          "data": {
            "application/javascript": [
              "\n",
              "        if (window._pyforest_update_imports_cell) { window._pyforest_update_imports_cell('from sklearn.model_selection import KFold\\nimport fbprophet\\nfrom sklearn.model_selection import cross_val_score\\nfrom sklearn import svm\\nimport fastai\\nimport nltk\\nfrom sklearn.cluster import KMeans\\nimport re\\nimport sklearn\\nfrom statsmodels.tsa.arima_model import ARIMA\\nimport tqdm\\nfrom sklearn.model_selection import train_test_split\\nfrom sklearn import metrics\\nimport pandas as pd\\nimport keras\\nimport textblob\\nimport altair as alt\\nfrom sklearn.feature_extraction.text import TfidfVectorizer\\nimport tensorflow as tf\\nimport imutils\\nimport seaborn as sns\\nimport numpy as np\\nfrom sklearn.linear_model import LogisticRegression\\nimport torch\\nimport bokeh\\nimport cv2\\nimport matplotlib.pyplot as plt\\nfrom sklearn.preprocessing import StandardScaler\\nfrom sklearn.manifold import TSNE\\nfrom sklearn.ensemble import GradientBoostingRegressor\\nfrom sklearn.feature_extraction.text import CountVectorizer\\nfrom sklearn.preprocessing import LabelEncoder\\nfrom sklearn.model_selection import GridSearchCV'); }\n",
              "    "
            ],
            "text/plain": [
              "<IPython.core.display.Javascript object>"
            ]
          },
          "metadata": {}
        }
      ],
      "source": [
        "cm=metrics.confusion_matrix(y_test,GB_pred,labels=['no','yes'])"
      ]
    },
    {
      "cell_type": "code",
      "execution_count": 266,
      "metadata": {
        "colab": {
          "base_uri": "https://localhost:8080/",
          "height": 112
        },
        "outputId": "486fa5fc-a075-4429-c473-c0bfc54faf88",
        "id": "opYC2y1dYTrW"
      },
      "outputs": [
        {
          "output_type": "display_data",
          "data": {
            "application/javascript": [
              "\n",
              "        if (window._pyforest_update_imports_cell) { window._pyforest_update_imports_cell('from sklearn.model_selection import KFold\\nimport fbprophet\\nfrom sklearn.model_selection import cross_val_score\\nfrom sklearn import svm\\nimport fastai\\nimport nltk\\nfrom sklearn.cluster import KMeans\\nimport re\\nimport sklearn\\nfrom statsmodels.tsa.arima_model import ARIMA\\nimport tqdm\\nfrom sklearn.model_selection import train_test_split\\nfrom sklearn import metrics\\nimport pandas as pd\\nimport keras\\nimport textblob\\nimport altair as alt\\nfrom sklearn.feature_extraction.text import TfidfVectorizer\\nimport tensorflow as tf\\nimport imutils\\nimport seaborn as sns\\nimport numpy as np\\nfrom sklearn.linear_model import LogisticRegression\\nimport torch\\nimport bokeh\\nimport cv2\\nimport matplotlib.pyplot as plt\\nfrom sklearn.preprocessing import StandardScaler\\nfrom sklearn.manifold import TSNE\\nfrom sklearn.ensemble import GradientBoostingRegressor\\nfrom sklearn.feature_extraction.text import CountVectorizer\\nfrom sklearn.preprocessing import LabelEncoder\\nfrom sklearn.model_selection import GridSearchCV'); }\n",
              "    "
            ],
            "text/plain": [
              "<IPython.core.display.Javascript object>"
            ]
          },
          "metadata": {}
        },
        {
          "output_type": "execute_result",
          "data": {
            "text/html": [
              "<div>\n",
              "<style scoped>\n",
              "    .dataframe tbody tr th:only-of-type {\n",
              "        vertical-align: middle;\n",
              "    }\n",
              "\n",
              "    .dataframe tbody tr th {\n",
              "        vertical-align: top;\n",
              "    }\n",
              "\n",
              "    .dataframe thead th {\n",
              "        text-align: right;\n",
              "    }\n",
              "</style>\n",
              "<table border=\"1\" class=\"dataframe\">\n",
              "  <thead>\n",
              "    <tr style=\"text-align: right;\">\n",
              "      <th></th>\n",
              "      <th>Predicted no</th>\n",
              "      <th>Predicted yes</th>\n",
              "    </tr>\n",
              "  </thead>\n",
              "  <tbody>\n",
              "    <tr>\n",
              "      <th>Real no</th>\n",
              "      <td>7335</td>\n",
              "      <td>2663</td>\n",
              "    </tr>\n",
              "    <tr>\n",
              "      <th>Real yes</th>\n",
              "      <td>464</td>\n",
              "      <td>841</td>\n",
              "    </tr>\n",
              "  </tbody>\n",
              "</table>\n",
              "</div>"
            ],
            "text/plain": [
              "          Predicted no  Predicted yes\n",
              "Real no           7335           2663\n",
              "Real yes           464            841"
            ]
          },
          "metadata": {},
          "execution_count": 266
        }
      ],
      "source": [
        "df_cm=pd.DataFrame(cm,index=[i for i in ['Real no','Real yes']],columns=[i for i in ['Predicted no', 'Predicted yes']])\n",
        "df_cm"
      ]
    },
    {
      "cell_type": "code",
      "execution_count": 267,
      "metadata": {
        "colab": {
          "base_uri": "https://localhost:8080/",
          "height": 320
        },
        "outputId": "98ad50e1-9987-442a-cf50-574c7cb36926",
        "id": "KPzdhf1oYTrW"
      },
      "outputs": [
        {
          "output_type": "display_data",
          "data": {
            "application/javascript": [
              "\n",
              "        if (window._pyforest_update_imports_cell) { window._pyforest_update_imports_cell('from sklearn.model_selection import KFold\\nimport fbprophet\\nfrom sklearn.model_selection import cross_val_score\\nfrom sklearn import svm\\nimport fastai\\nimport nltk\\nfrom sklearn.cluster import KMeans\\nimport re\\nimport sklearn\\nfrom statsmodels.tsa.arima_model import ARIMA\\nimport tqdm\\nfrom sklearn.model_selection import train_test_split\\nfrom sklearn import metrics\\nimport pandas as pd\\nimport keras\\nimport textblob\\nimport altair as alt\\nfrom sklearn.feature_extraction.text import TfidfVectorizer\\nimport tensorflow as tf\\nimport imutils\\nimport seaborn as sns\\nimport numpy as np\\nfrom sklearn.linear_model import LogisticRegression\\nimport torch\\nimport bokeh\\nimport cv2\\nimport matplotlib.pyplot as plt\\nfrom sklearn.preprocessing import StandardScaler\\nfrom sklearn.manifold import TSNE\\nfrom sklearn.ensemble import GradientBoostingRegressor\\nfrom sklearn.feature_extraction.text import CountVectorizer\\nfrom sklearn.preprocessing import LabelEncoder\\nfrom sklearn.model_selection import GridSearchCV'); }\n",
              "    "
            ],
            "text/plain": [
              "<IPython.core.display.Javascript object>"
            ]
          },
          "metadata": {}
        },
        {
          "output_type": "display_data",
          "data": {
            "application/javascript": [
              "\n",
              "        if (window._pyforest_update_imports_cell) { window._pyforest_update_imports_cell('from sklearn.model_selection import KFold\\nimport fbprophet\\nfrom sklearn.model_selection import cross_val_score\\nfrom sklearn import svm\\nimport fastai\\nimport nltk\\nfrom sklearn.cluster import KMeans\\nimport re\\nimport sklearn\\nfrom statsmodels.tsa.arima_model import ARIMA\\nimport tqdm\\nfrom sklearn.model_selection import train_test_split\\nfrom sklearn import metrics\\nimport pandas as pd\\nimport keras\\nimport textblob\\nimport altair as alt\\nfrom sklearn.feature_extraction.text import TfidfVectorizer\\nimport tensorflow as tf\\nimport imutils\\nimport seaborn as sns\\nimport numpy as np\\nfrom sklearn.linear_model import LogisticRegression\\nimport torch\\nimport bokeh\\nimport cv2\\nimport matplotlib.pyplot as plt\\nfrom sklearn.preprocessing import StandardScaler\\nfrom sklearn.manifold import TSNE\\nfrom sklearn.ensemble import GradientBoostingRegressor\\nfrom sklearn.feature_extraction.text import CountVectorizer\\nfrom sklearn.preprocessing import LabelEncoder\\nfrom sklearn.model_selection import GridSearchCV'); }\n",
              "    "
            ],
            "text/plain": [
              "<IPython.core.display.Javascript object>"
            ]
          },
          "metadata": {}
        },
        {
          "output_type": "display_data",
          "data": {
            "image/png": "[encoded data removed]",
            "text/plain": [
              "<Figure size 504x360 with 2 Axes>"
            ]
          },
          "metadata": {
            "needs_background": "light"
          }
        }
      ],
      "source": [
        "plt.figure(figsize=(7,5))\n",
        "sns.heatmap(df_cm,annot=True,cmap='viridis');"
      ]
    },
    {
      "cell_type": "code",
      "execution_count": 268,
      "metadata": {
        "colab": {
          "base_uri": "https://localhost:8080/"
        },
        "outputId": "424b18f3-3336-48ab-cb9a-598e5871414c",
        "id": "HP-HNcrtYTrX"
      },
      "outputs": [
        {
          "output_type": "stream",
          "name": "stdout",
          "text": [
            "              precision    recall  f1-score   support\n",
            "\n",
            "          no       0.94      0.73      0.82      9998\n",
            "         yes       0.24      0.64      0.35      1305\n",
            "\n",
            "    accuracy                           0.72     11303\n",
            "   macro avg       0.59      0.69      0.59     11303\n",
            "weighted avg       0.86      0.72      0.77     11303\n",
            "\n"
          ]
        }
      ],
      "source": [
        "print(classification_report(y_test, GB_pred))"
      ]
    },
    {
      "cell_type": "code",
      "execution_count": 269,
      "metadata": {
        "colab": {
          "base_uri": "https://localhost:8080/",
          "height": 238
        },
        "outputId": "69855d19-4534-452f-d1b9-ff463b771484",
        "id": "0OBBj50JYTrX"
      },
      "outputs": [
        {
          "output_type": "display_data",
          "data": {
            "application/javascript": [
              "\n",
              "        if (window._pyforest_update_imports_cell) { window._pyforest_update_imports_cell('from sklearn.model_selection import KFold\\nimport fbprophet\\nfrom sklearn.model_selection import cross_val_score\\nfrom sklearn import svm\\nimport fastai\\nimport nltk\\nfrom sklearn.cluster import KMeans\\nimport re\\nimport sklearn\\nfrom statsmodels.tsa.arima_model import ARIMA\\nimport tqdm\\nfrom sklearn.model_selection import train_test_split\\nfrom sklearn import metrics\\nimport pandas as pd\\nimport keras\\nimport textblob\\nimport altair as alt\\nfrom sklearn.feature_extraction.text import TfidfVectorizer\\nimport tensorflow as tf\\nimport imutils\\nimport seaborn as sns\\nimport numpy as np\\nfrom sklearn.linear_model import LogisticRegression\\nimport torch\\nimport bokeh\\nimport cv2\\nimport matplotlib.pyplot as plt\\nfrom sklearn.preprocessing import StandardScaler\\nfrom sklearn.manifold import TSNE\\nfrom sklearn.ensemble import GradientBoostingRegressor\\nfrom sklearn.feature_extraction.text import CountVectorizer\\nfrom sklearn.preprocessing import LabelEncoder\\nfrom sklearn.model_selection import GridSearchCV'); }\n",
              "    "
            ],
            "text/plain": [
              "<IPython.core.display.Javascript object>"
            ]
          },
          "metadata": {}
        },
        {
          "output_type": "display_data",
          "data": {
            "application/javascript": [
              "\n",
              "        if (window._pyforest_update_imports_cell) { window._pyforest_update_imports_cell('from sklearn.model_selection import KFold\\nimport fbprophet\\nfrom sklearn.model_selection import cross_val_score\\nfrom sklearn import svm\\nimport fastai\\nimport nltk\\nfrom sklearn.cluster import KMeans\\nimport re\\nimport sklearn\\nfrom statsmodels.tsa.arima_model import ARIMA\\nimport tqdm\\nfrom sklearn.model_selection import train_test_split\\nfrom sklearn import metrics\\nimport pandas as pd\\nimport keras\\nimport textblob\\nimport altair as alt\\nfrom sklearn.feature_extraction.text import TfidfVectorizer\\nimport tensorflow as tf\\nimport imutils\\nimport seaborn as sns\\nimport numpy as np\\nfrom sklearn.linear_model import LogisticRegression\\nimport torch\\nimport bokeh\\nimport cv2\\nimport matplotlib.pyplot as plt\\nfrom sklearn.preprocessing import StandardScaler\\nfrom sklearn.manifold import TSNE\\nfrom sklearn.ensemble import GradientBoostingRegressor\\nfrom sklearn.feature_extraction.text import CountVectorizer\\nfrom sklearn.preprocessing import LabelEncoder\\nfrom sklearn.model_selection import GridSearchCV'); }\n",
              "    "
            ],
            "text/plain": [
              "<IPython.core.display.Javascript object>"
            ]
          },
          "metadata": {}
        },
        {
          "output_type": "execute_result",
          "data": {
            "text/html": [
              "<div>\n",
              "<style scoped>\n",
              "    .dataframe tbody tr th:only-of-type {\n",
              "        vertical-align: middle;\n",
              "    }\n",
              "\n",
              "    .dataframe tbody tr th {\n",
              "        vertical-align: top;\n",
              "    }\n",
              "\n",
              "    .dataframe thead th {\n",
              "        text-align: right;\n",
              "    }\n",
              "</style>\n",
              "<table border=\"1\" class=\"dataframe\">\n",
              "  <thead>\n",
              "    <tr style=\"text-align: right;\">\n",
              "      <th></th>\n",
              "      <th>Algorithm</th>\n",
              "      <th>Model Score on Train</th>\n",
              "      <th>Model Score on Test</th>\n",
              "    </tr>\n",
              "  </thead>\n",
              "  <tbody>\n",
              "    <tr>\n",
              "      <th>1</th>\n",
              "      <td>Logistic Regression</td>\n",
              "      <td>0.676982</td>\n",
              "      <td>0.709900</td>\n",
              "    </tr>\n",
              "    <tr>\n",
              "      <th>2</th>\n",
              "      <td>SVM</td>\n",
              "      <td>0.806476</td>\n",
              "      <td>0.785013</td>\n",
              "    </tr>\n",
              "    <tr>\n",
              "      <th>3</th>\n",
              "      <td>Decision Tree</td>\n",
              "      <td>0.999916</td>\n",
              "      <td>0.816863</td>\n",
              "    </tr>\n",
              "    <tr>\n",
              "      <th>4</th>\n",
              "      <td>KNN</td>\n",
              "      <td>0.999916</td>\n",
              "      <td>0.667522</td>\n",
              "    </tr>\n",
              "    <tr>\n",
              "      <th>5</th>\n",
              "      <td>Random Forest</td>\n",
              "      <td>0.999916</td>\n",
              "      <td>0.869681</td>\n",
              "    </tr>\n",
              "    <tr>\n",
              "      <th>6</th>\n",
              "      <td>Gradiant Boost</td>\n",
              "      <td>0.707726</td>\n",
              "      <td>0.723348</td>\n",
              "    </tr>\n",
              "  </tbody>\n",
              "</table>\n",
              "</div>"
            ],
            "text/plain": [
              "             Algorithm  Model Score on Train  Model Score on Test\n",
              "1  Logistic Regression              0.676982             0.709900\n",
              "2                  SVM              0.806476             0.785013\n",
              "3        Decision Tree              0.999916             0.816863\n",
              "4                  KNN              0.999916             0.667522\n",
              "5        Random Forest              0.999916             0.869681\n",
              "6       Gradiant Boost              0.707726             0.723348"
            ]
          },
          "metadata": {},
          "execution_count": 269
        }
      ],
      "source": [
        "result_GB = pd.DataFrame({'Algorithm': ['Gradiant Boost'], 'Model Score on Train':train_score, \n",
        "                           'Model Score on Test':test_score},index={'6'})\n",
        "results = pd.concat([results, result_GB])\n",
        "results = results[['Algorithm','Model Score on Train','Model Score on Test']]\n",
        "results"
      ]
    },
    {
      "cell_type": "markdown",
      "source": [
        "### Ada Boost"
      ],
      "metadata": {
        "id": "kHWqC5D7ZEdZ"
      }
    },
    {
      "cell_type": "code",
      "source": [
        "AB=AdaBoostClassifier()\n",
        "\n",
        "AB.fit(X_train,y_train)"
      ],
      "metadata": {
        "colab": {
          "base_uri": "https://localhost:8080/"
        },
        "outputId": "0d59226f-f901-4020-b765-74ee774d60a5",
        "id": "u8vD4S0wZLVP"
      },
      "execution_count": 271,
      "outputs": [
        {
          "output_type": "execute_result",
          "data": {
            "text/plain": [
              "AdaBoostClassifier()"
            ]
          },
          "metadata": {},
          "execution_count": 271
        }
      ]
    },
    {
      "cell_type": "code",
      "execution_count": 272,
      "metadata": {
        "colab": {
          "base_uri": "https://localhost:8080/"
        },
        "outputId": "73fb1b2a-56ec-4495-a0e8-59f0dd822955",
        "id": "AdLjAHmIZLVQ"
      },
      "outputs": [
        {
          "output_type": "execute_result",
          "data": {
            "text/plain": [
              "0.6850521320679054"
            ]
          },
          "metadata": {},
          "execution_count": 272
        }
      ],
      "source": [
        "train_score=AB.score(X_train, y_train)\n",
        "train_score"
      ]
    },
    {
      "cell_type": "code",
      "execution_count": 273,
      "metadata": {
        "colab": {
          "base_uri": "https://localhost:8080/"
        },
        "outputId": "77e49e7d-5f04-434f-fc19-9ead78fb236f",
        "id": "17lhmYFqZLVQ"
      },
      "outputs": [
        {
          "output_type": "execute_result",
          "data": {
            "text/plain": [
              "0.697779350614881"
            ]
          },
          "metadata": {},
          "execution_count": 273
        }
      ],
      "source": [
        "test_score=AB.score(X_test, y_test)\n",
        "test_score"
      ]
    },
    {
      "cell_type": "code",
      "execution_count": 274,
      "metadata": {
        "id": "YnxMmTEVZLVR"
      },
      "outputs": [],
      "source": [
        "AB_pred=AB.predict(X_test)"
      ]
    },
    {
      "cell_type": "code",
      "execution_count": 275,
      "metadata": {
        "colab": {
          "base_uri": "https://localhost:8080/",
          "height": 17
        },
        "outputId": "3f6f4f85-7734-4c70-9e4d-3f392f87e1be",
        "id": "xcDIWfw4ZLVR"
      },
      "outputs": [
        {
          "output_type": "display_data",
          "data": {
            "application/javascript": [
              "\n",
              "        if (window._pyforest_update_imports_cell) { window._pyforest_update_imports_cell('from sklearn.model_selection import KFold\\nimport fbprophet\\nfrom sklearn.model_selection import cross_val_score\\nfrom sklearn import svm\\nimport fastai\\nimport nltk\\nfrom sklearn.cluster import KMeans\\nimport re\\nimport sklearn\\nfrom statsmodels.tsa.arima_model import ARIMA\\nimport tqdm\\nfrom sklearn.model_selection import train_test_split\\nfrom sklearn import metrics\\nimport pandas as pd\\nimport keras\\nimport textblob\\nimport altair as alt\\nfrom sklearn.feature_extraction.text import TfidfVectorizer\\nimport tensorflow as tf\\nimport imutils\\nimport seaborn as sns\\nimport numpy as np\\nfrom sklearn.linear_model import LogisticRegression\\nimport torch\\nimport bokeh\\nimport cv2\\nimport matplotlib.pyplot as plt\\nfrom sklearn.preprocessing import StandardScaler\\nfrom sklearn.manifold import TSNE\\nfrom sklearn.ensemble import GradientBoostingRegressor\\nfrom sklearn.feature_extraction.text import CountVectorizer\\nfrom sklearn.preprocessing import LabelEncoder\\nfrom sklearn.model_selection import GridSearchCV'); }\n",
              "    "
            ],
            "text/plain": [
              "<IPython.core.display.Javascript object>"
            ]
          },
          "metadata": {}
        }
      ],
      "source": [
        "cm=metrics.confusion_matrix(y_test,AB_pred,labels=['no','yes'])"
      ]
    },
    {
      "cell_type": "code",
      "execution_count": 276,
      "metadata": {
        "colab": {
          "base_uri": "https://localhost:8080/",
          "height": 112
        },
        "outputId": "e2ae0b53-070d-48b6-aa90-bb722278f462",
        "id": "DHW6tgZCZLVR"
      },
      "outputs": [
        {
          "output_type": "display_data",
          "data": {
            "application/javascript": [
              "\n",
              "        if (window._pyforest_update_imports_cell) { window._pyforest_update_imports_cell('from sklearn.model_selection import KFold\\nimport fbprophet\\nfrom sklearn.model_selection import cross_val_score\\nfrom sklearn import svm\\nimport fastai\\nimport nltk\\nfrom sklearn.cluster import KMeans\\nimport re\\nimport sklearn\\nfrom statsmodels.tsa.arima_model import ARIMA\\nimport tqdm\\nfrom sklearn.model_selection import train_test_split\\nfrom sklearn import metrics\\nimport pandas as pd\\nimport keras\\nimport textblob\\nimport altair as alt\\nfrom sklearn.feature_extraction.text import TfidfVectorizer\\nimport tensorflow as tf\\nimport imutils\\nimport seaborn as sns\\nimport numpy as np\\nfrom sklearn.linear_model import LogisticRegression\\nimport torch\\nimport bokeh\\nimport cv2\\nimport matplotlib.pyplot as plt\\nfrom sklearn.preprocessing import StandardScaler\\nfrom sklearn.manifold import TSNE\\nfrom sklearn.ensemble import GradientBoostingRegressor\\nfrom sklearn.feature_extraction.text import CountVectorizer\\nfrom sklearn.preprocessing import LabelEncoder\\nfrom sklearn.model_selection import GridSearchCV'); }\n",
              "    "
            ],
            "text/plain": [
              "<IPython.core.display.Javascript object>"
            ]
          },
          "metadata": {}
        },
        {
          "output_type": "execute_result",
          "data": {
            "text/html": [
              "<div>\n",
              "<style scoped>\n",
              "    .dataframe tbody tr th:only-of-type {\n",
              "        vertical-align: middle;\n",
              "    }\n",
              "\n",
              "    .dataframe tbody tr th {\n",
              "        vertical-align: top;\n",
              "    }\n",
              "\n",
              "    .dataframe thead th {\n",
              "        text-align: right;\n",
              "    }\n",
              "</style>\n",
              "<table border=\"1\" class=\"dataframe\">\n",
              "  <thead>\n",
              "    <tr style=\"text-align: right;\">\n",
              "      <th></th>\n",
              "      <th>Predicted no</th>\n",
              "      <th>Predicted yes</th>\n",
              "    </tr>\n",
              "  </thead>\n",
              "  <tbody>\n",
              "    <tr>\n",
              "      <th>Real no</th>\n",
              "      <td>7037</td>\n",
              "      <td>2961</td>\n",
              "    </tr>\n",
              "    <tr>\n",
              "      <th>Real yes</th>\n",
              "      <td>455</td>\n",
              "      <td>850</td>\n",
              "    </tr>\n",
              "  </tbody>\n",
              "</table>\n",
              "</div>"
            ],
            "text/plain": [
              "          Predicted no  Predicted yes\n",
              "Real no           7037           2961\n",
              "Real yes           455            850"
            ]
          },
          "metadata": {},
          "execution_count": 276
        }
      ],
      "source": [
        "df_cm=pd.DataFrame(cm,index=[i for i in ['Real no','Real yes']],columns=[i for i in ['Predicted no', 'Predicted yes']])\n",
        "df_cm"
      ]
    },
    {
      "cell_type": "code",
      "execution_count": 277,
      "metadata": {
        "colab": {
          "base_uri": "https://localhost:8080/",
          "height": 322
        },
        "outputId": "65235e54-d70c-4e71-c7ec-0cc8db21a9b6",
        "id": "iosBD4G0ZLVR"
      },
      "outputs": [
        {
          "output_type": "display_data",
          "data": {
            "application/javascript": [
              "\n",
              "        if (window._pyforest_update_imports_cell) { window._pyforest_update_imports_cell('from sklearn.model_selection import KFold\\nimport fbprophet\\nfrom sklearn.model_selection import cross_val_score\\nfrom sklearn import svm\\nimport fastai\\nimport nltk\\nfrom sklearn.cluster import KMeans\\nimport re\\nimport sklearn\\nfrom statsmodels.tsa.arima_model import ARIMA\\nimport tqdm\\nfrom sklearn.model_selection import train_test_split\\nfrom sklearn import metrics\\nimport pandas as pd\\nimport keras\\nimport textblob\\nimport altair as alt\\nfrom sklearn.feature_extraction.text import TfidfVectorizer\\nimport tensorflow as tf\\nimport imutils\\nimport seaborn as sns\\nimport numpy as np\\nfrom sklearn.linear_model import LogisticRegression\\nimport torch\\nimport bokeh\\nimport cv2\\nimport matplotlib.pyplot as plt\\nfrom sklearn.preprocessing import StandardScaler\\nfrom sklearn.manifold import TSNE\\nfrom sklearn.ensemble import GradientBoostingRegressor\\nfrom sklearn.feature_extraction.text import CountVectorizer\\nfrom sklearn.preprocessing import LabelEncoder\\nfrom sklearn.model_selection import GridSearchCV'); }\n",
              "    "
            ],
            "text/plain": [
              "<IPython.core.display.Javascript object>"
            ]
          },
          "metadata": {}
        },
        {
          "output_type": "display_data",
          "data": {
            "application/javascript": [
              "\n",
              "        if (window._pyforest_update_imports_cell) { window._pyforest_update_imports_cell('from sklearn.model_selection import KFold\\nimport fbprophet\\nfrom sklearn.model_selection import cross_val_score\\nfrom sklearn import svm\\nimport fastai\\nimport nltk\\nfrom sklearn.cluster import KMeans\\nimport re\\nimport sklearn\\nfrom statsmodels.tsa.arima_model import ARIMA\\nimport tqdm\\nfrom sklearn.model_selection import train_test_split\\nfrom sklearn import metrics\\nimport pandas as pd\\nimport keras\\nimport textblob\\nimport altair as alt\\nfrom sklearn.feature_extraction.text import TfidfVectorizer\\nimport tensorflow as tf\\nimport imutils\\nimport seaborn as sns\\nimport numpy as np\\nfrom sklearn.linear_model import LogisticRegression\\nimport torch\\nimport bokeh\\nimport cv2\\nimport matplotlib.pyplot as plt\\nfrom sklearn.preprocessing import StandardScaler\\nfrom sklearn.manifold import TSNE\\nfrom sklearn.ensemble import GradientBoostingRegressor\\nfrom sklearn.feature_extraction.text import CountVectorizer\\nfrom sklearn.preprocessing import LabelEncoder\\nfrom sklearn.model_selection import GridSearchCV'); }\n",
              "    "
            ],
            "text/plain": [
              "<IPython.core.display.Javascript object>"
            ]
          },
          "metadata": {}
        },
        {
          "output_type": "display_data",
          "data": {
            "image/png": "[encoded data removed]",
            "text/plain": [
              "<Figure size 504x360 with 2 Axes>"
            ]
          },
          "metadata": {
            "needs_background": "light"
          }
        }
      ],
      "source": [
        "plt.figure(figsize=(7,5))\n",
        "sns.heatmap(df_cm,annot=True,cmap='viridis');"
      ]
    },
    {
      "cell_type": "code",
      "execution_count": 278,
      "metadata": {
        "colab": {
          "base_uri": "https://localhost:8080/"
        },
        "outputId": "5a30d32c-d30a-42f3-fda1-e516f9a1e47e",
        "id": "0tYK3sNCZLVS"
      },
      "outputs": [
        {
          "output_type": "stream",
          "name": "stdout",
          "text": [
            "              precision    recall  f1-score   support\n",
            "\n",
            "          no       0.94      0.70      0.80      9998\n",
            "         yes       0.22      0.65      0.33      1305\n",
            "\n",
            "    accuracy                           0.70     11303\n",
            "   macro avg       0.58      0.68      0.57     11303\n",
            "weighted avg       0.86      0.70      0.75     11303\n",
            "\n"
          ]
        }
      ],
      "source": [
        "print(classification_report(y_test, AB_pred))"
      ]
    },
    {
      "cell_type": "code",
      "execution_count": 279,
      "metadata": {
        "colab": {
          "base_uri": "https://localhost:8080/",
          "height": 269
        },
        "outputId": "ee0165f8-71fa-483a-c5a2-79c5a83739a6",
        "id": "cQGdpF5hZLVS"
      },
      "outputs": [
        {
          "output_type": "display_data",
          "data": {
            "application/javascript": [
              "\n",
              "        if (window._pyforest_update_imports_cell) { window._pyforest_update_imports_cell('from sklearn.model_selection import KFold\\nimport fbprophet\\nfrom sklearn.model_selection import cross_val_score\\nfrom sklearn import svm\\nimport fastai\\nimport nltk\\nfrom sklearn.cluster import KMeans\\nimport re\\nimport sklearn\\nfrom statsmodels.tsa.arima_model import ARIMA\\nimport tqdm\\nfrom sklearn.model_selection import train_test_split\\nfrom sklearn import metrics\\nimport pandas as pd\\nimport keras\\nimport textblob\\nimport altair as alt\\nfrom sklearn.feature_extraction.text import TfidfVectorizer\\nimport tensorflow as tf\\nimport imutils\\nimport seaborn as sns\\nimport numpy as np\\nfrom sklearn.linear_model import LogisticRegression\\nimport torch\\nimport bokeh\\nimport cv2\\nimport matplotlib.pyplot as plt\\nfrom sklearn.preprocessing import StandardScaler\\nfrom sklearn.manifold import TSNE\\nfrom sklearn.ensemble import GradientBoostingRegressor\\nfrom sklearn.feature_extraction.text import CountVectorizer\\nfrom sklearn.preprocessing import LabelEncoder\\nfrom sklearn.model_selection import GridSearchCV'); }\n",
              "    "
            ],
            "text/plain": [
              "<IPython.core.display.Javascript object>"
            ]
          },
          "metadata": {}
        },
        {
          "output_type": "display_data",
          "data": {
            "application/javascript": [
              "\n",
              "        if (window._pyforest_update_imports_cell) { window._pyforest_update_imports_cell('from sklearn.model_selection import KFold\\nimport fbprophet\\nfrom sklearn.model_selection import cross_val_score\\nfrom sklearn import svm\\nimport fastai\\nimport nltk\\nfrom sklearn.cluster import KMeans\\nimport re\\nimport sklearn\\nfrom statsmodels.tsa.arima_model import ARIMA\\nimport tqdm\\nfrom sklearn.model_selection import train_test_split\\nfrom sklearn import metrics\\nimport pandas as pd\\nimport keras\\nimport textblob\\nimport altair as alt\\nfrom sklearn.feature_extraction.text import TfidfVectorizer\\nimport tensorflow as tf\\nimport imutils\\nimport seaborn as sns\\nimport numpy as np\\nfrom sklearn.linear_model import LogisticRegression\\nimport torch\\nimport bokeh\\nimport cv2\\nimport matplotlib.pyplot as plt\\nfrom sklearn.preprocessing import StandardScaler\\nfrom sklearn.manifold import TSNE\\nfrom sklearn.ensemble import GradientBoostingRegressor\\nfrom sklearn.feature_extraction.text import CountVectorizer\\nfrom sklearn.preprocessing import LabelEncoder\\nfrom sklearn.model_selection import GridSearchCV'); }\n",
              "    "
            ],
            "text/plain": [
              "<IPython.core.display.Javascript object>"
            ]
          },
          "metadata": {}
        },
        {
          "output_type": "execute_result",
          "data": {
            "text/html": [
              "<div>\n",
              "<style scoped>\n",
              "    .dataframe tbody tr th:only-of-type {\n",
              "        vertical-align: middle;\n",
              "    }\n",
              "\n",
              "    .dataframe tbody tr th {\n",
              "        vertical-align: top;\n",
              "    }\n",
              "\n",
              "    .dataframe thead th {\n",
              "        text-align: right;\n",
              "    }\n",
              "</style>\n",
              "<table border=\"1\" class=\"dataframe\">\n",
              "  <thead>\n",
              "    <tr style=\"text-align: right;\">\n",
              "      <th></th>\n",
              "      <th>Algorithm</th>\n",
              "      <th>Model Score on Train</th>\n",
              "      <th>Model Score on Test</th>\n",
              "    </tr>\n",
              "  </thead>\n",
              "  <tbody>\n",
              "    <tr>\n",
              "      <th>1</th>\n",
              "      <td>Logistic Regression</td>\n",
              "      <td>0.676982</td>\n",
              "      <td>0.709900</td>\n",
              "    </tr>\n",
              "    <tr>\n",
              "      <th>2</th>\n",
              "      <td>SVM</td>\n",
              "      <td>0.806476</td>\n",
              "      <td>0.785013</td>\n",
              "    </tr>\n",
              "    <tr>\n",
              "      <th>3</th>\n",
              "      <td>Decision Tree</td>\n",
              "      <td>0.999916</td>\n",
              "      <td>0.816863</td>\n",
              "    </tr>\n",
              "    <tr>\n",
              "      <th>4</th>\n",
              "      <td>KNN</td>\n",
              "      <td>0.999916</td>\n",
              "      <td>0.667522</td>\n",
              "    </tr>\n",
              "    <tr>\n",
              "      <th>5</th>\n",
              "      <td>Random Forest</td>\n",
              "      <td>0.999916</td>\n",
              "      <td>0.869681</td>\n",
              "    </tr>\n",
              "    <tr>\n",
              "      <th>6</th>\n",
              "      <td>Gradiant Boost</td>\n",
              "      <td>0.707726</td>\n",
              "      <td>0.723348</td>\n",
              "    </tr>\n",
              "    <tr>\n",
              "      <th>7</th>\n",
              "      <td>Ada Boost</td>\n",
              "      <td>0.685052</td>\n",
              "      <td>0.697779</td>\n",
              "    </tr>\n",
              "  </tbody>\n",
              "</table>\n",
              "</div>"
            ],
            "text/plain": [
              "             Algorithm  Model Score on Train  Model Score on Test\n",
              "1  Logistic Regression              0.676982             0.709900\n",
              "2                  SVM              0.806476             0.785013\n",
              "3        Decision Tree              0.999916             0.816863\n",
              "4                  KNN              0.999916             0.667522\n",
              "5        Random Forest              0.999916             0.869681\n",
              "6       Gradiant Boost              0.707726             0.723348\n",
              "7            Ada Boost              0.685052             0.697779"
            ]
          },
          "metadata": {},
          "execution_count": 279
        }
      ],
      "source": [
        "result_AB = pd.DataFrame({'Algorithm': ['Ada Boost'], 'Model Score on Train':train_score, \n",
        "                           'Model Score on Test':test_score},index={'7'})\n",
        "results = pd.concat([results, result_AB])\n",
        "results = results[['Algorithm','Model Score on Train','Model Score on Test']]\n",
        "results"
      ]
    },
    {
      "cell_type": "markdown",
      "source": [
        "## Comparing All Models"
      ],
      "metadata": {
        "id": "JSYyLL3jZtX8"
      }
    },
    {
      "cell_type": "code",
      "source": [
        "data = results.melt('Algorithm', var_name='Train/Test', value_name='Score')\n",
        "data"
      ],
      "metadata": {
        "colab": {
          "base_uri": "https://localhost:8080/",
          "height": 488
        },
        "id": "3GkR7QJDb4BB",
        "outputId": "d2a65454-0f0a-4e18-9807-cb9bb29cbb63"
      },
      "execution_count": 294,
      "outputs": [
        {
          "output_type": "execute_result",
          "data": {
            "text/html": [
              "<div>\n",
              "<style scoped>\n",
              "    .dataframe tbody tr th:only-of-type {\n",
              "        vertical-align: middle;\n",
              "    }\n",
              "\n",
              "    .dataframe tbody tr th {\n",
              "        vertical-align: top;\n",
              "    }\n",
              "\n",
              "    .dataframe thead th {\n",
              "        text-align: right;\n",
              "    }\n",
              "</style>\n",
              "<table border=\"1\" class=\"dataframe\">\n",
              "  <thead>\n",
              "    <tr style=\"text-align: right;\">\n",
              "      <th></th>\n",
              "      <th>Algorithm</th>\n",
              "      <th>Train/Test</th>\n",
              "      <th>Score</th>\n",
              "    </tr>\n",
              "  </thead>\n",
              "  <tbody>\n",
              "    <tr>\n",
              "      <th>0</th>\n",
              "      <td>Logistic Regression</td>\n",
              "      <td>Model Score on Train</td>\n",
              "      <td>0.676982</td>\n",
              "    </tr>\n",
              "    <tr>\n",
              "      <th>1</th>\n",
              "      <td>SVM</td>\n",
              "      <td>Model Score on Train</td>\n",
              "      <td>0.806476</td>\n",
              "    </tr>\n",
              "    <tr>\n",
              "      <th>2</th>\n",
              "      <td>Decision Tree</td>\n",
              "      <td>Model Score on Train</td>\n",
              "      <td>0.999916</td>\n",
              "    </tr>\n",
              "    <tr>\n",
              "      <th>3</th>\n",
              "      <td>KNN</td>\n",
              "      <td>Model Score on Train</td>\n",
              "      <td>0.999916</td>\n",
              "    </tr>\n",
              "    <tr>\n",
              "      <th>4</th>\n",
              "      <td>Random Forest</td>\n",
              "      <td>Model Score on Train</td>\n",
              "      <td>0.999916</td>\n",
              "    </tr>\n",
              "    <tr>\n",
              "      <th>5</th>\n",
              "      <td>Gradiant Boost</td>\n",
              "      <td>Model Score on Train</td>\n",
              "      <td>0.707726</td>\n",
              "    </tr>\n",
              "    <tr>\n",
              "      <th>6</th>\n",
              "      <td>Ada Boost</td>\n",
              "      <td>Model Score on Train</td>\n",
              "      <td>0.685052</td>\n",
              "    </tr>\n",
              "    <tr>\n",
              "      <th>7</th>\n",
              "      <td>Logistic Regression</td>\n",
              "      <td>Model Score on Test</td>\n",
              "      <td>0.709900</td>\n",
              "    </tr>\n",
              "    <tr>\n",
              "      <th>8</th>\n",
              "      <td>SVM</td>\n",
              "      <td>Model Score on Test</td>\n",
              "      <td>0.785013</td>\n",
              "    </tr>\n",
              "    <tr>\n",
              "      <th>9</th>\n",
              "      <td>Decision Tree</td>\n",
              "      <td>Model Score on Test</td>\n",
              "      <td>0.816863</td>\n",
              "    </tr>\n",
              "    <tr>\n",
              "      <th>10</th>\n",
              "      <td>KNN</td>\n",
              "      <td>Model Score on Test</td>\n",
              "      <td>0.667522</td>\n",
              "    </tr>\n",
              "    <tr>\n",
              "      <th>11</th>\n",
              "      <td>Random Forest</td>\n",
              "      <td>Model Score on Test</td>\n",
              "      <td>0.869681</td>\n",
              "    </tr>\n",
              "    <tr>\n",
              "      <th>12</th>\n",
              "      <td>Gradiant Boost</td>\n",
              "      <td>Model Score on Test</td>\n",
              "      <td>0.723348</td>\n",
              "    </tr>\n",
              "    <tr>\n",
              "      <th>13</th>\n",
              "      <td>Ada Boost</td>\n",
              "      <td>Model Score on Test</td>\n",
              "      <td>0.697779</td>\n",
              "    </tr>\n",
              "  </tbody>\n",
              "</table>\n",
              "</div>"
            ],
            "text/plain": [
              "              Algorithm            Train/Test     Score\n",
              "0   Logistic Regression  Model Score on Train  0.676982\n",
              "1                   SVM  Model Score on Train  0.806476\n",
              "2         Decision Tree  Model Score on Train  0.999916\n",
              "3                   KNN  Model Score on Train  0.999916\n",
              "4         Random Forest  Model Score on Train  0.999916\n",
              "5        Gradiant Boost  Model Score on Train  0.707726\n",
              "6             Ada Boost  Model Score on Train  0.685052\n",
              "7   Logistic Regression   Model Score on Test  0.709900\n",
              "8                   SVM   Model Score on Test  0.785013\n",
              "9         Decision Tree   Model Score on Test  0.816863\n",
              "10                  KNN   Model Score on Test  0.667522\n",
              "11        Random Forest   Model Score on Test  0.869681\n",
              "12       Gradiant Boost   Model Score on Test  0.723348\n",
              "13            Ada Boost   Model Score on Test  0.697779"
            ]
          },
          "metadata": {},
          "execution_count": 294
        }
      ]
    },
    {
      "cell_type": "code",
      "source": [
        "plt.figure(figsize=(20, 8))\n",
        "sns.catplot(x=\"Algorithm\", y=\"Score\", hue=\"Train/Test\", kind=\"bar\", data=data)\n",
        "plt.xticks(rotation=75)"
      ],
      "metadata": {
        "colab": {
          "base_uri": "https://localhost:8080/",
          "height": 489
        },
        "id": "LLE-pEphZyCr",
        "outputId": "bce07253-7b3c-4c8e-d7bb-572f6145e6fb"
      },
      "execution_count": 298,
      "outputs": [
        {
          "output_type": "display_data",
          "data": {
            "application/javascript": [
              "\n",
              "        if (window._pyforest_update_imports_cell) { window._pyforest_update_imports_cell('import lightgbm as lgb\\nfrom sklearn.preprocessing import PolynomialFeatures\\nfrom sklearn.model_selection import KFold\\nimport fbprophet\\nfrom sklearn.model_selection import cross_val_score\\nfrom sklearn import svm\\nfrom pathlib import Path\\nimport fastai\\nimport nltk\\nfrom sklearn.cluster import KMeans\\nimport re\\nimport sklearn\\nfrom statsmodels.tsa.arima_model import ARIMA\\nimport tqdm\\nfrom sklearn.model_selection import train_test_split\\nimport spacy\\nfrom sklearn import metrics\\nimport pandas as pd\\nimport keras\\nimport statsmodels.api as sm\\nimport plotly.express as px\\nimport textblob\\nimport altair as alt\\nfrom sklearn.feature_extraction.text import TfidfVectorizer\\nimport tensorflow as tf\\nimport imutils\\nimport skimage\\nimport xgboost as xgb\\nimport pickle\\nimport seaborn as sns\\nimport numpy as np\\nfrom sklearn.linear_model import LogisticRegression\\nimport torch\\nimport bokeh\\nimport cv2\\nimport statistics\\nfrom openpyxl import load_workbook\\nimport plotly as py\\nimport matplotlib.pyplot as plt\\nfrom sklearn.preprocessing import StandardScaler\\nfrom sklearn.manifold import TSNE\\nfrom sklearn.decomposition import PCA\\nfrom scipy import stats\\nfrom sklearn.ensemble import GradientBoostingRegressor\\nfrom fbprophet import Prophet\\nfrom scipy import signal as sg\\nimport sys\\nimport pydot\\nfrom sklearn.feature_extraction.text import CountVectorizer\\nfrom sklearn.preprocessing import LabelEncoder\\nfrom sklearn.model_selection import GridSearchCV'); }\n",
              "    "
            ],
            "text/plain": [
              "<IPython.core.display.Javascript object>"
            ]
          },
          "metadata": {}
        },
        {
          "output_type": "display_data",
          "data": {
            "application/javascript": [
              "\n",
              "        if (window._pyforest_update_imports_cell) { window._pyforest_update_imports_cell('import lightgbm as lgb\\nfrom sklearn.preprocessing import PolynomialFeatures\\nfrom sklearn.model_selection import KFold\\nimport fbprophet\\nfrom sklearn.model_selection import cross_val_score\\nfrom sklearn import svm\\nfrom pathlib import Path\\nimport fastai\\nimport nltk\\nfrom sklearn.cluster import KMeans\\nimport re\\nimport sklearn\\nfrom statsmodels.tsa.arima_model import ARIMA\\nimport tqdm\\nfrom sklearn.model_selection import train_test_split\\nimport spacy\\nfrom sklearn import metrics\\nimport pandas as pd\\nimport keras\\nimport statsmodels.api as sm\\nimport plotly.express as px\\nimport textblob\\nimport altair as alt\\nfrom sklearn.feature_extraction.text import TfidfVectorizer\\nimport tensorflow as tf\\nimport imutils\\nimport skimage\\nimport xgboost as xgb\\nimport pickle\\nimport seaborn as sns\\nimport numpy as np\\nfrom sklearn.linear_model import LogisticRegression\\nimport torch\\nimport bokeh\\nimport cv2\\nimport statistics\\nfrom openpyxl import load_workbook\\nimport plotly as py\\nimport matplotlib.pyplot as plt\\nfrom sklearn.preprocessing import StandardScaler\\nfrom sklearn.manifold import TSNE\\nfrom sklearn.decomposition import PCA\\nfrom scipy import stats\\nfrom sklearn.ensemble import GradientBoostingRegressor\\nfrom fbprophet import Prophet\\nfrom scipy import signal as sg\\nimport sys\\nimport pydot\\nfrom sklearn.feature_extraction.text import CountVectorizer\\nfrom sklearn.preprocessing import LabelEncoder\\nfrom sklearn.model_selection import GridSearchCV'); }\n",
              "    "
            ],
            "text/plain": [
              "<IPython.core.display.Javascript object>"
            ]
          },
          "metadata": {}
        },
        {
          "output_type": "display_data",
          "data": {
            "application/javascript": [
              "\n",
              "        if (window._pyforest_update_imports_cell) { window._pyforest_update_imports_cell('import lightgbm as lgb\\nfrom sklearn.preprocessing import PolynomialFeatures\\nfrom sklearn.model_selection import KFold\\nimport fbprophet\\nfrom sklearn.model_selection import cross_val_score\\nfrom sklearn import svm\\nfrom pathlib import Path\\nimport fastai\\nimport nltk\\nfrom sklearn.cluster import KMeans\\nimport re\\nimport sklearn\\nfrom statsmodels.tsa.arima_model import ARIMA\\nimport tqdm\\nfrom sklearn.model_selection import train_test_split\\nimport spacy\\nfrom sklearn import metrics\\nimport pandas as pd\\nimport keras\\nimport statsmodels.api as sm\\nimport plotly.express as px\\nimport textblob\\nimport altair as alt\\nfrom sklearn.feature_extraction.text import TfidfVectorizer\\nimport tensorflow as tf\\nimport imutils\\nimport skimage\\nimport xgboost as xgb\\nimport pickle\\nimport seaborn as sns\\nimport numpy as np\\nfrom sklearn.linear_model import LogisticRegression\\nimport torch\\nimport bokeh\\nimport cv2\\nimport statistics\\nfrom openpyxl import load_workbook\\nimport plotly as py\\nimport matplotlib.pyplot as plt\\nfrom sklearn.preprocessing import StandardScaler\\nfrom sklearn.manifold import TSNE\\nfrom sklearn.decomposition import PCA\\nfrom scipy import stats\\nfrom sklearn.ensemble import GradientBoostingRegressor\\nfrom fbprophet import Prophet\\nfrom scipy import signal as sg\\nimport sys\\nimport pydot\\nfrom sklearn.feature_extraction.text import CountVectorizer\\nfrom sklearn.preprocessing import LabelEncoder\\nfrom sklearn.model_selection import GridSearchCV'); }\n",
              "    "
            ],
            "text/plain": [
              "<IPython.core.display.Javascript object>"
            ]
          },
          "metadata": {}
        },
        {
          "output_type": "execute_result",
          "data": {
            "text/plain": [
              "(array([0, 1, 2, 3, 4, 5, 6]), <a list of 7 Text major ticklabel objects>)"
            ]
          },
          "metadata": {},
          "execution_count": 298
        },
        {
          "output_type": "display_data",
          "data": {
            "text/plain": [
              "<Figure size 1440x576 with 0 Axes>"
            ]
          },
          "metadata": {}
        },
        {
          "output_type": "display_data",
          "data": {
            "image/png": "[encoded data removed]",
            "text/plain": [
              "<Figure size 499.5x360 with 1 Axes>"
            ]
          },
          "metadata": {
            "needs_background": "light"
          }
        }
      ]
    },
    {
      "cell_type": "markdown",
      "source": [
        "As it is clear from the above bar plot Ensemble models are generaly more resistance against **over fitting** than base models.\n",
        "KNN has the most over fitting. I believe that it is beacuse of the fact that I did not find the best neighbor number for this model. \n",
        "Both Decision Tree and Random forest are equal in model score on train data, but Random Forest is bit better in model score on test data, which can be translate to less overfitting, which is the power of ensemble methods.  "
      ],
      "metadata": {
        "id": "LxddbTyye2dP"
      }
    }
  ],
  "metadata": {
    "kernelspec": {
      "display_name": "Python 3",
      "language": "python",
      "name": "python3"
    },
    "language_info": {
      "codemirror_mode": {
        "name": "ipython",
        "version": 3
      },
      "file_extension": ".py",
      "mimetype": "text/x-python",
      "name": "python",
      "nbconvert_exporter": "python",
      "pygments_lexer": "ipython3",
      "version": "3.8.5"
    },
    "colab": {
      "name": "Section 11 Project Assignment.ipynb",
      "provenance": [],
      "collapsed_sections": [
        "dTSORpX6zTJc",
        "WysSjLC7zTJp",
        "KB5BfRU4zTJ8",
        "lyUj26SHzTKC",
        "3_gr8BSozTKG",
        "uLyRjZNVzTKJ",
        "g8tV2TeJzTKP",
        "w07yJFBQzTKV",
        "xQ-qJsf2zTKb",
        "ghkpid86QZvX",
        "UXa6nIRJzTKc",
        "FUc9rYHPQUyp"
      ]
    }
  },
  "nbformat": 4,
  "nbformat_minor": 0
}